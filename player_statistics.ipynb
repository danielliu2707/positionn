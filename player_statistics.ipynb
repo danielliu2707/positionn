{
 "cells": [
  {
   "cell_type": "markdown",
   "metadata": {},
   "source": [
    "# Player Statistics"
   ]
  },
  {
   "cell_type": "markdown",
   "metadata": {},
   "source": [
    "This notebook attempts to build an ML model for predicting the position of a player given their statistics.\n",
    "\n",
    "##### Data Sources:\n",
    "\n",
    "##### The attributes I chose to use in building the model include:\n",
    "\n",
    "**Points, Assists, Rebounds, Steals and Blocks**, all on a per game basis. The model would have been improved by using statistics that further distinguish positions such as three point percentage (as guards and forwards are usually much better than centers in this department), turnovers or free throw percentage.  \n",
    "\n",
    "However, due to these more advanced statistics rarely being recorded outside of professional games, I decided to only use the traditionally recorded statistics of points, assists, rebounds, steals and blocks as the average user who may have only played up to high school basketball would either have these attributes recorded or know a rough estimate of their numbers for these attributes. For example, american highschool varsity basketball only records these statistics: [See Here](https://www.maxpreps.com/basketball/stat-leaders/)."
   ]
  },
  {
   "cell_type": "markdown",
   "metadata": {},
   "source": [
    "Potential Resources to download stats:\n",
    "\n",
    "* https://www.basketball-reference.com/leagues/NBA_2023_per_game.html (Download as many seasons as possible). For each download, need to read the file in, and collate player statistics such that players who played on multiple teams that season have their stats collated.\n"
   ]
  },
  {
   "cell_type": "code",
   "execution_count": 154,
   "metadata": {},
   "outputs": [],
   "source": [
    "import pandas as pd\n",
    "import numpy as np\n",
    "import matplotlib\n",
    "import matplotlib.pyplot as plt\n",
    "import seaborn as sns\n",
    "import os\n",
    "import pickle\n",
    "\n",
    "from sklearn.model_selection import train_test_split\n",
    "from sklearn.ensemble import RandomForestClassifier\n",
    "from sklearn.metrics import accuracy_score\n",
    "from sklearn.preprocessing import OneHotEncoder\n",
    "from sklearn.preprocessing import StandardScaler\n",
    "from sklearn.pipeline import make_pipeline\n",
    "from sklearn.decomposition import PCA\n",
    "from sklearn.model_selection import GridSearchCV\n",
    "\n",
    "sns.set_theme()\n",
    "%matplotlib inline"
   ]
  },
  {
   "cell_type": "code",
   "execution_count": 155,
   "metadata": {},
   "outputs": [],
   "source": [
    "np.random.seed(0)"
   ]
  },
  {
   "cell_type": "markdown",
   "metadata": {},
   "source": [
    "# Data Preprocessing"
   ]
  },
  {
   "cell_type": "code",
   "execution_count": 156,
   "metadata": {},
   "outputs": [],
   "source": [
    "# Reading in data\n",
    "player_statistics = pd.read_csv(os.path.join(\"data\", \"Seasons_Stats.csv\"))\n",
    "active_players = pd.read_csv(os.path.join(\"data\", \"active_players.csv\"))"
   ]
  },
  {
   "cell_type": "code",
   "execution_count": 157,
   "metadata": {},
   "outputs": [
    {
     "data": {
      "text/html": [
       "<div>\n",
       "<style scoped>\n",
       "    .dataframe tbody tr th:only-of-type {\n",
       "        vertical-align: middle;\n",
       "    }\n",
       "\n",
       "    .dataframe tbody tr th {\n",
       "        vertical-align: top;\n",
       "    }\n",
       "\n",
       "    .dataframe thead th {\n",
       "        text-align: right;\n",
       "    }\n",
       "</style>\n",
       "<table border=\"1\" class=\"dataframe\">\n",
       "  <thead>\n",
       "    <tr style=\"text-align: right;\">\n",
       "      <th></th>\n",
       "      <th>Unnamed: 0</th>\n",
       "      <th>Year</th>\n",
       "      <th>Player</th>\n",
       "      <th>Pos</th>\n",
       "      <th>Age</th>\n",
       "      <th>Tm</th>\n",
       "      <th>G</th>\n",
       "      <th>GS</th>\n",
       "      <th>MP</th>\n",
       "      <th>PER</th>\n",
       "      <th>...</th>\n",
       "      <th>FT%</th>\n",
       "      <th>ORB</th>\n",
       "      <th>DRB</th>\n",
       "      <th>TRB</th>\n",
       "      <th>AST</th>\n",
       "      <th>STL</th>\n",
       "      <th>BLK</th>\n",
       "      <th>TOV</th>\n",
       "      <th>PF</th>\n",
       "      <th>PTS</th>\n",
       "    </tr>\n",
       "  </thead>\n",
       "  <tbody>\n",
       "    <tr>\n",
       "      <th>0</th>\n",
       "      <td>0</td>\n",
       "      <td>1950.0</td>\n",
       "      <td>Curly Armstrong</td>\n",
       "      <td>G-F</td>\n",
       "      <td>31.0</td>\n",
       "      <td>FTW</td>\n",
       "      <td>63.0</td>\n",
       "      <td>NaN</td>\n",
       "      <td>NaN</td>\n",
       "      <td>NaN</td>\n",
       "      <td>...</td>\n",
       "      <td>0.705</td>\n",
       "      <td>NaN</td>\n",
       "      <td>NaN</td>\n",
       "      <td>NaN</td>\n",
       "      <td>176.0</td>\n",
       "      <td>NaN</td>\n",
       "      <td>NaN</td>\n",
       "      <td>NaN</td>\n",
       "      <td>217.0</td>\n",
       "      <td>458.0</td>\n",
       "    </tr>\n",
       "    <tr>\n",
       "      <th>1</th>\n",
       "      <td>1</td>\n",
       "      <td>1950.0</td>\n",
       "      <td>Cliff Barker</td>\n",
       "      <td>SG</td>\n",
       "      <td>29.0</td>\n",
       "      <td>INO</td>\n",
       "      <td>49.0</td>\n",
       "      <td>NaN</td>\n",
       "      <td>NaN</td>\n",
       "      <td>NaN</td>\n",
       "      <td>...</td>\n",
       "      <td>0.708</td>\n",
       "      <td>NaN</td>\n",
       "      <td>NaN</td>\n",
       "      <td>NaN</td>\n",
       "      <td>109.0</td>\n",
       "      <td>NaN</td>\n",
       "      <td>NaN</td>\n",
       "      <td>NaN</td>\n",
       "      <td>99.0</td>\n",
       "      <td>279.0</td>\n",
       "    </tr>\n",
       "    <tr>\n",
       "      <th>2</th>\n",
       "      <td>2</td>\n",
       "      <td>1950.0</td>\n",
       "      <td>Leo Barnhorst</td>\n",
       "      <td>SF</td>\n",
       "      <td>25.0</td>\n",
       "      <td>CHS</td>\n",
       "      <td>67.0</td>\n",
       "      <td>NaN</td>\n",
       "      <td>NaN</td>\n",
       "      <td>NaN</td>\n",
       "      <td>...</td>\n",
       "      <td>0.698</td>\n",
       "      <td>NaN</td>\n",
       "      <td>NaN</td>\n",
       "      <td>NaN</td>\n",
       "      <td>140.0</td>\n",
       "      <td>NaN</td>\n",
       "      <td>NaN</td>\n",
       "      <td>NaN</td>\n",
       "      <td>192.0</td>\n",
       "      <td>438.0</td>\n",
       "    </tr>\n",
       "    <tr>\n",
       "      <th>3</th>\n",
       "      <td>3</td>\n",
       "      <td>1950.0</td>\n",
       "      <td>Ed Bartels</td>\n",
       "      <td>F</td>\n",
       "      <td>24.0</td>\n",
       "      <td>TOT</td>\n",
       "      <td>15.0</td>\n",
       "      <td>NaN</td>\n",
       "      <td>NaN</td>\n",
       "      <td>NaN</td>\n",
       "      <td>...</td>\n",
       "      <td>0.559</td>\n",
       "      <td>NaN</td>\n",
       "      <td>NaN</td>\n",
       "      <td>NaN</td>\n",
       "      <td>20.0</td>\n",
       "      <td>NaN</td>\n",
       "      <td>NaN</td>\n",
       "      <td>NaN</td>\n",
       "      <td>29.0</td>\n",
       "      <td>63.0</td>\n",
       "    </tr>\n",
       "    <tr>\n",
       "      <th>4</th>\n",
       "      <td>4</td>\n",
       "      <td>1950.0</td>\n",
       "      <td>Ed Bartels</td>\n",
       "      <td>F</td>\n",
       "      <td>24.0</td>\n",
       "      <td>DNN</td>\n",
       "      <td>13.0</td>\n",
       "      <td>NaN</td>\n",
       "      <td>NaN</td>\n",
       "      <td>NaN</td>\n",
       "      <td>...</td>\n",
       "      <td>0.548</td>\n",
       "      <td>NaN</td>\n",
       "      <td>NaN</td>\n",
       "      <td>NaN</td>\n",
       "      <td>20.0</td>\n",
       "      <td>NaN</td>\n",
       "      <td>NaN</td>\n",
       "      <td>NaN</td>\n",
       "      <td>27.0</td>\n",
       "      <td>59.0</td>\n",
       "    </tr>\n",
       "  </tbody>\n",
       "</table>\n",
       "<p>5 rows × 53 columns</p>\n",
       "</div>"
      ],
      "text/plain": [
       "   Unnamed: 0    Year           Player  Pos   Age   Tm     G  GS  MP  PER  \\\n",
       "0           0  1950.0  Curly Armstrong  G-F  31.0  FTW  63.0 NaN NaN  NaN   \n",
       "1           1  1950.0     Cliff Barker   SG  29.0  INO  49.0 NaN NaN  NaN   \n",
       "2           2  1950.0    Leo Barnhorst   SF  25.0  CHS  67.0 NaN NaN  NaN   \n",
       "3           3  1950.0       Ed Bartels    F  24.0  TOT  15.0 NaN NaN  NaN   \n",
       "4           4  1950.0       Ed Bartels    F  24.0  DNN  13.0 NaN NaN  NaN   \n",
       "\n",
       "   ...    FT%  ORB  DRB  TRB    AST  STL  BLK  TOV     PF    PTS  \n",
       "0  ...  0.705  NaN  NaN  NaN  176.0  NaN  NaN  NaN  217.0  458.0  \n",
       "1  ...  0.708  NaN  NaN  NaN  109.0  NaN  NaN  NaN   99.0  279.0  \n",
       "2  ...  0.698  NaN  NaN  NaN  140.0  NaN  NaN  NaN  192.0  438.0  \n",
       "3  ...  0.559  NaN  NaN  NaN   20.0  NaN  NaN  NaN   29.0   63.0  \n",
       "4  ...  0.548  NaN  NaN  NaN   20.0  NaN  NaN  NaN   27.0   59.0  \n",
       "\n",
       "[5 rows x 53 columns]"
      ]
     },
     "execution_count": 157,
     "metadata": {},
     "output_type": "execute_result"
    }
   ],
   "source": [
    "player_statistics.head()"
   ]
  },
  {
   "cell_type": "code",
   "execution_count": 158,
   "metadata": {},
   "outputs": [
    {
     "data": {
      "text/html": [
       "<div>\n",
       "<style scoped>\n",
       "    .dataframe tbody tr th:only-of-type {\n",
       "        vertical-align: middle;\n",
       "    }\n",
       "\n",
       "    .dataframe tbody tr th {\n",
       "        vertical-align: top;\n",
       "    }\n",
       "\n",
       "    .dataframe thead th {\n",
       "        text-align: right;\n",
       "    }\n",
       "</style>\n",
       "<table border=\"1\" class=\"dataframe\">\n",
       "  <thead>\n",
       "    <tr style=\"text-align: right;\">\n",
       "      <th></th>\n",
       "      <th>playerid</th>\n",
       "      <th>fname</th>\n",
       "      <th>lname</th>\n",
       "      <th>position</th>\n",
       "      <th>height</th>\n",
       "      <th>weight</th>\n",
       "      <th>birthday</th>\n",
       "      <th>country</th>\n",
       "      <th>school</th>\n",
       "      <th>draft_year</th>\n",
       "      <th>draft_round</th>\n",
       "      <th>draft_number</th>\n",
       "    </tr>\n",
       "  </thead>\n",
       "  <tbody>\n",
       "    <tr>\n",
       "      <th>0</th>\n",
       "      <td>1630173</td>\n",
       "      <td>Precious</td>\n",
       "      <td>Achiuwa</td>\n",
       "      <td>Forward</td>\n",
       "      <td>6-8</td>\n",
       "      <td>225</td>\n",
       "      <td>1999-09-19</td>\n",
       "      <td>Nigeria</td>\n",
       "      <td>Memphis</td>\n",
       "      <td>2020</td>\n",
       "      <td>1.0</td>\n",
       "      <td>20.0</td>\n",
       "    </tr>\n",
       "    <tr>\n",
       "      <th>1</th>\n",
       "      <td>203500</td>\n",
       "      <td>Steven</td>\n",
       "      <td>Adams</td>\n",
       "      <td>Center</td>\n",
       "      <td>6-11</td>\n",
       "      <td>265</td>\n",
       "      <td>1993-07-20</td>\n",
       "      <td>New Zealand</td>\n",
       "      <td>Pittsburgh</td>\n",
       "      <td>2013</td>\n",
       "      <td>1.0</td>\n",
       "      <td>12.0</td>\n",
       "    </tr>\n",
       "    <tr>\n",
       "      <th>2</th>\n",
       "      <td>1628389</td>\n",
       "      <td>Bam</td>\n",
       "      <td>Adebayo</td>\n",
       "      <td>Center-Forward</td>\n",
       "      <td>6-9</td>\n",
       "      <td>255</td>\n",
       "      <td>1997-07-18</td>\n",
       "      <td>USA</td>\n",
       "      <td>Kentucky</td>\n",
       "      <td>2017</td>\n",
       "      <td>1.0</td>\n",
       "      <td>14.0</td>\n",
       "    </tr>\n",
       "    <tr>\n",
       "      <th>3</th>\n",
       "      <td>1630534</td>\n",
       "      <td>Ochai</td>\n",
       "      <td>Agbaji</td>\n",
       "      <td>Guard</td>\n",
       "      <td>6-5</td>\n",
       "      <td>215</td>\n",
       "      <td>2000-04-20</td>\n",
       "      <td>USA</td>\n",
       "      <td>Kansas</td>\n",
       "      <td>2022</td>\n",
       "      <td>1.0</td>\n",
       "      <td>14.0</td>\n",
       "    </tr>\n",
       "    <tr>\n",
       "      <th>4</th>\n",
       "      <td>1630583</td>\n",
       "      <td>Santi</td>\n",
       "      <td>Aldama</td>\n",
       "      <td>Forward-Center</td>\n",
       "      <td>7-0</td>\n",
       "      <td>215</td>\n",
       "      <td>2001-01-10</td>\n",
       "      <td>Spain</td>\n",
       "      <td>Loyola-Maryland</td>\n",
       "      <td>2021</td>\n",
       "      <td>1.0</td>\n",
       "      <td>30.0</td>\n",
       "    </tr>\n",
       "  </tbody>\n",
       "</table>\n",
       "</div>"
      ],
      "text/plain": [
       "   playerid     fname    lname        position height  weight    birthday  \\\n",
       "0   1630173  Precious  Achiuwa         Forward    6-8     225  1999-09-19   \n",
       "1    203500    Steven    Adams          Center   6-11     265  1993-07-20   \n",
       "2   1628389       Bam  Adebayo  Center-Forward    6-9     255  1997-07-18   \n",
       "3   1630534     Ochai   Agbaji           Guard    6-5     215  2000-04-20   \n",
       "4   1630583     Santi   Aldama  Forward-Center    7-0     215  2001-01-10   \n",
       "\n",
       "       country           school  draft_year  draft_round  draft_number  \n",
       "0      Nigeria          Memphis        2020          1.0          20.0  \n",
       "1  New Zealand       Pittsburgh        2013          1.0          12.0  \n",
       "2          USA         Kentucky        2017          1.0          14.0  \n",
       "3          USA           Kansas        2022          1.0          14.0  \n",
       "4        Spain  Loyola-Maryland        2021          1.0          30.0  "
      ]
     },
     "execution_count": 158,
     "metadata": {},
     "output_type": "execute_result"
    }
   ],
   "source": [
    "active_players.head()"
   ]
  },
  {
   "cell_type": "code",
   "execution_count": null,
   "metadata": {},
   "outputs": [],
   "source": []
  },
  {
   "cell_type": "markdown",
   "metadata": {},
   "source": [
    "### Handling the player statistics dataset"
   ]
  },
  {
   "cell_type": "markdown",
   "metadata": {},
   "source": [
    "First, I'm going to convert all column headers into lowercase to have a consistent case between all columns."
   ]
  },
  {
   "cell_type": "code",
   "execution_count": 159,
   "metadata": {},
   "outputs": [],
   "source": [
    "player_statistics.columns = player_statistics.columns.str.lower()"
   ]
  },
  {
   "cell_type": "markdown",
   "metadata": {},
   "source": [
    "Now, I'm going to keep only relevant attributes that are feasible (see explanation above) and may have a relationship with a players position (Year, Age)."
   ]
  },
  {
   "cell_type": "code",
   "execution_count": 160,
   "metadata": {},
   "outputs": [
    {
     "data": {
      "text/html": [
       "<div>\n",
       "<style scoped>\n",
       "    .dataframe tbody tr th:only-of-type {\n",
       "        vertical-align: middle;\n",
       "    }\n",
       "\n",
       "    .dataframe tbody tr th {\n",
       "        vertical-align: top;\n",
       "    }\n",
       "\n",
       "    .dataframe thead th {\n",
       "        text-align: right;\n",
       "    }\n",
       "</style>\n",
       "<table border=\"1\" class=\"dataframe\">\n",
       "  <thead>\n",
       "    <tr style=\"text-align: right;\">\n",
       "      <th></th>\n",
       "      <th>player</th>\n",
       "      <th>pos</th>\n",
       "      <th>year</th>\n",
       "      <th>age</th>\n",
       "      <th>pts</th>\n",
       "      <th>ast</th>\n",
       "      <th>trb</th>\n",
       "      <th>stl</th>\n",
       "      <th>blk</th>\n",
       "      <th>g</th>\n",
       "    </tr>\n",
       "  </thead>\n",
       "  <tbody>\n",
       "    <tr>\n",
       "      <th>0</th>\n",
       "      <td>Curly Armstrong</td>\n",
       "      <td>G-F</td>\n",
       "      <td>1950.0</td>\n",
       "      <td>31.0</td>\n",
       "      <td>458.0</td>\n",
       "      <td>176.0</td>\n",
       "      <td>NaN</td>\n",
       "      <td>NaN</td>\n",
       "      <td>NaN</td>\n",
       "      <td>63.0</td>\n",
       "    </tr>\n",
       "    <tr>\n",
       "      <th>1</th>\n",
       "      <td>Cliff Barker</td>\n",
       "      <td>SG</td>\n",
       "      <td>1950.0</td>\n",
       "      <td>29.0</td>\n",
       "      <td>279.0</td>\n",
       "      <td>109.0</td>\n",
       "      <td>NaN</td>\n",
       "      <td>NaN</td>\n",
       "      <td>NaN</td>\n",
       "      <td>49.0</td>\n",
       "    </tr>\n",
       "    <tr>\n",
       "      <th>2</th>\n",
       "      <td>Leo Barnhorst</td>\n",
       "      <td>SF</td>\n",
       "      <td>1950.0</td>\n",
       "      <td>25.0</td>\n",
       "      <td>438.0</td>\n",
       "      <td>140.0</td>\n",
       "      <td>NaN</td>\n",
       "      <td>NaN</td>\n",
       "      <td>NaN</td>\n",
       "      <td>67.0</td>\n",
       "    </tr>\n",
       "    <tr>\n",
       "      <th>3</th>\n",
       "      <td>Ed Bartels</td>\n",
       "      <td>F</td>\n",
       "      <td>1950.0</td>\n",
       "      <td>24.0</td>\n",
       "      <td>63.0</td>\n",
       "      <td>20.0</td>\n",
       "      <td>NaN</td>\n",
       "      <td>NaN</td>\n",
       "      <td>NaN</td>\n",
       "      <td>15.0</td>\n",
       "    </tr>\n",
       "    <tr>\n",
       "      <th>4</th>\n",
       "      <td>Ed Bartels</td>\n",
       "      <td>F</td>\n",
       "      <td>1950.0</td>\n",
       "      <td>24.0</td>\n",
       "      <td>59.0</td>\n",
       "      <td>20.0</td>\n",
       "      <td>NaN</td>\n",
       "      <td>NaN</td>\n",
       "      <td>NaN</td>\n",
       "      <td>13.0</td>\n",
       "    </tr>\n",
       "  </tbody>\n",
       "</table>\n",
       "</div>"
      ],
      "text/plain": [
       "            player  pos    year   age    pts    ast  trb  stl  blk     g\n",
       "0  Curly Armstrong  G-F  1950.0  31.0  458.0  176.0  NaN  NaN  NaN  63.0\n",
       "1     Cliff Barker   SG  1950.0  29.0  279.0  109.0  NaN  NaN  NaN  49.0\n",
       "2    Leo Barnhorst   SF  1950.0  25.0  438.0  140.0  NaN  NaN  NaN  67.0\n",
       "3       Ed Bartels    F  1950.0  24.0   63.0   20.0  NaN  NaN  NaN  15.0\n",
       "4       Ed Bartels    F  1950.0  24.0   59.0   20.0  NaN  NaN  NaN  13.0"
      ]
     },
     "execution_count": 160,
     "metadata": {},
     "output_type": "execute_result"
    }
   ],
   "source": [
    "player_statistics = player_statistics[['player', 'pos', 'year', 'age', 'pts', 'ast', 'trb', 'stl', 'blk', 'g']]\n",
    "player_statistics.head()"
   ]
  },
  {
   "cell_type": "markdown",
   "metadata": {},
   "source": [
    "Next, we're going to drop all NA values as we're going to want to keep only players with all the relevant statistics. Furthermore, any duplicates entries will be dropped."
   ]
  },
  {
   "cell_type": "code",
   "execution_count": 161,
   "metadata": {},
   "outputs": [
    {
     "name": "stdout",
     "output_type": "stream",
     "text": [
      "The number of rows in the dataset is: 24691\n",
      "The number of columns/features in the dataset is: 10\n",
      "The number of duplicate entries in the dataset is: 67\n",
      "The number of missing values in the dataset is: 8644\n"
     ]
    }
   ],
   "source": [
    "# Checking the shape, number of duplicates and missing values\n",
    "print(f'The number of rows in the dataset is: {player_statistics.shape[0]}')\n",
    "print(f'The number of columns/features in the dataset is: {player_statistics.shape[1]}')\n",
    "print(f'The number of duplicate entries in the dataset is: {player_statistics.duplicated().sum()}')\n",
    "print(f'The number of missing values in the dataset is: {player_statistics.isna().sum().sum()}')"
   ]
  },
  {
   "cell_type": "code",
   "execution_count": 162,
   "metadata": {},
   "outputs": [],
   "source": [
    "player_statistics = player_statistics.dropna()\n",
    "player_statistics = player_statistics.drop_duplicates().reset_index(drop=True)"
   ]
  },
  {
   "cell_type": "code",
   "execution_count": 163,
   "metadata": {},
   "outputs": [
    {
     "name": "stdout",
     "output_type": "stream",
     "text": [
      "The number of duplicate entries in the dataset is: 0\n",
      "The number of missing values in the dataset is: 0\n"
     ]
    }
   ],
   "source": [
    "# Checking the number of duplicates and missing values\n",
    "print(f'The number of duplicate entries in the dataset is: {player_statistics.duplicated().sum()}')\n",
    "print(f'The number of missing values in the dataset is: {player_statistics.isna().sum().sum()}')"
   ]
  },
  {
   "cell_type": "markdown",
   "metadata": {},
   "source": [
    "It is evident that the statistics are shown as **totals**, and not their statistics **per game**. Although users could calculate their total statistics, it's more common that a players statistics are recorded as per game. Therefore, next we will convert all the statistics into per game."
   ]
  },
  {
   "cell_type": "code",
   "execution_count": 164,
   "metadata": {},
   "outputs": [],
   "source": [
    "# Convert stats into per game\n",
    "stats_cols = ['pts', 'ast', 'trb', 'stl', 'blk']\n",
    "for col in stats_cols:\n",
    "    player_statistics[col] = np.round(player_statistics[col].div(player_statistics['g']), 2)\n",
    "    \n",
    "# Drop games\n",
    "player_statistics.drop(columns=['g'], inplace=True)"
   ]
  },
  {
   "cell_type": "code",
   "execution_count": 165,
   "metadata": {},
   "outputs": [
    {
     "data": {
      "text/html": [
       "<div>\n",
       "<style scoped>\n",
       "    .dataframe tbody tr th:only-of-type {\n",
       "        vertical-align: middle;\n",
       "    }\n",
       "\n",
       "    .dataframe tbody tr th {\n",
       "        vertical-align: top;\n",
       "    }\n",
       "\n",
       "    .dataframe thead th {\n",
       "        text-align: right;\n",
       "    }\n",
       "</style>\n",
       "<table border=\"1\" class=\"dataframe\">\n",
       "  <thead>\n",
       "    <tr style=\"text-align: right;\">\n",
       "      <th></th>\n",
       "      <th>player</th>\n",
       "      <th>pos</th>\n",
       "      <th>year</th>\n",
       "      <th>age</th>\n",
       "      <th>pts</th>\n",
       "      <th>ast</th>\n",
       "      <th>trb</th>\n",
       "      <th>stl</th>\n",
       "      <th>blk</th>\n",
       "    </tr>\n",
       "  </thead>\n",
       "  <tbody>\n",
       "    <tr>\n",
       "      <th>0</th>\n",
       "      <td>Zaid Abdul-Aziz</td>\n",
       "      <td>C</td>\n",
       "      <td>1974.0</td>\n",
       "      <td>27.0</td>\n",
       "      <td>10.95</td>\n",
       "      <td>2.10</td>\n",
       "      <td>11.68</td>\n",
       "      <td>1.01</td>\n",
       "      <td>1.32</td>\n",
       "    </tr>\n",
       "    <tr>\n",
       "      <th>1</th>\n",
       "      <td>Kareem Abdul-Jabbar*</td>\n",
       "      <td>C</td>\n",
       "      <td>1974.0</td>\n",
       "      <td>26.0</td>\n",
       "      <td>27.05</td>\n",
       "      <td>4.77</td>\n",
       "      <td>14.54</td>\n",
       "      <td>1.38</td>\n",
       "      <td>3.49</td>\n",
       "    </tr>\n",
       "    <tr>\n",
       "      <th>2</th>\n",
       "      <td>Don Adams</td>\n",
       "      <td>SF</td>\n",
       "      <td>1974.0</td>\n",
       "      <td>26.0</td>\n",
       "      <td>10.26</td>\n",
       "      <td>1.91</td>\n",
       "      <td>6.05</td>\n",
       "      <td>1.49</td>\n",
       "      <td>0.16</td>\n",
       "    </tr>\n",
       "    <tr>\n",
       "      <th>3</th>\n",
       "      <td>Rick Adelman</td>\n",
       "      <td>PG</td>\n",
       "      <td>1974.0</td>\n",
       "      <td>27.0</td>\n",
       "      <td>3.31</td>\n",
       "      <td>1.02</td>\n",
       "      <td>1.25</td>\n",
       "      <td>0.65</td>\n",
       "      <td>0.02</td>\n",
       "    </tr>\n",
       "    <tr>\n",
       "      <th>4</th>\n",
       "      <td>Lucius Allen</td>\n",
       "      <td>PG</td>\n",
       "      <td>1974.0</td>\n",
       "      <td>26.0</td>\n",
       "      <td>17.61</td>\n",
       "      <td>5.19</td>\n",
       "      <td>4.04</td>\n",
       "      <td>1.90</td>\n",
       "      <td>0.31</td>\n",
       "    </tr>\n",
       "  </tbody>\n",
       "</table>\n",
       "</div>"
      ],
      "text/plain": [
       "                 player pos    year   age    pts   ast    trb   stl   blk\n",
       "0       Zaid Abdul-Aziz   C  1974.0  27.0  10.95  2.10  11.68  1.01  1.32\n",
       "1  Kareem Abdul-Jabbar*   C  1974.0  26.0  27.05  4.77  14.54  1.38  3.49\n",
       "2             Don Adams  SF  1974.0  26.0  10.26  1.91   6.05  1.49  0.16\n",
       "3          Rick Adelman  PG  1974.0  27.0   3.31  1.02   1.25  0.65  0.02\n",
       "4          Lucius Allen  PG  1974.0  26.0  17.61  5.19   4.04  1.90  0.31"
      ]
     },
     "execution_count": 165,
     "metadata": {},
     "output_type": "execute_result"
    }
   ],
   "source": [
    "player_statistics.head()"
   ]
  },
  {
   "cell_type": "markdown",
   "metadata": {},
   "source": [
    "It is evident that the Guard position is broken down into PG (Point Guard) and SG (Shooting Guard). Additionally, the Forward position is broken down into SF (Small Forward) and Power Forward (PF). \n",
    "\n",
    "Similar to before, we're trying to predict the general position of a player (Guard, Forward, Center) and so we handle this below."
   ]
  },
  {
   "cell_type": "code",
   "execution_count": 166,
   "metadata": {},
   "outputs": [
    {
     "data": {
      "text/html": [
       "<div>\n",
       "<style scoped>\n",
       "    .dataframe tbody tr th:only-of-type {\n",
       "        vertical-align: middle;\n",
       "    }\n",
       "\n",
       "    .dataframe tbody tr th {\n",
       "        vertical-align: top;\n",
       "    }\n",
       "\n",
       "    .dataframe thead th {\n",
       "        text-align: right;\n",
       "    }\n",
       "</style>\n",
       "<table border=\"1\" class=\"dataframe\">\n",
       "  <thead>\n",
       "    <tr style=\"text-align: right;\">\n",
       "      <th></th>\n",
       "      <th>player</th>\n",
       "      <th>pos</th>\n",
       "      <th>year</th>\n",
       "      <th>age</th>\n",
       "      <th>pts</th>\n",
       "      <th>ast</th>\n",
       "      <th>trb</th>\n",
       "      <th>stl</th>\n",
       "      <th>blk</th>\n",
       "    </tr>\n",
       "  </thead>\n",
       "  <tbody>\n",
       "    <tr>\n",
       "      <th>0</th>\n",
       "      <td>Zaid Abdul-Aziz</td>\n",
       "      <td>C</td>\n",
       "      <td>1974.0</td>\n",
       "      <td>27.0</td>\n",
       "      <td>10.95</td>\n",
       "      <td>2.10</td>\n",
       "      <td>11.68</td>\n",
       "      <td>1.01</td>\n",
       "      <td>1.32</td>\n",
       "    </tr>\n",
       "    <tr>\n",
       "      <th>1</th>\n",
       "      <td>Kareem Abdul-Jabbar*</td>\n",
       "      <td>C</td>\n",
       "      <td>1974.0</td>\n",
       "      <td>26.0</td>\n",
       "      <td>27.05</td>\n",
       "      <td>4.77</td>\n",
       "      <td>14.54</td>\n",
       "      <td>1.38</td>\n",
       "      <td>3.49</td>\n",
       "    </tr>\n",
       "    <tr>\n",
       "      <th>2</th>\n",
       "      <td>Don Adams</td>\n",
       "      <td>F</td>\n",
       "      <td>1974.0</td>\n",
       "      <td>26.0</td>\n",
       "      <td>10.26</td>\n",
       "      <td>1.91</td>\n",
       "      <td>6.05</td>\n",
       "      <td>1.49</td>\n",
       "      <td>0.16</td>\n",
       "    </tr>\n",
       "    <tr>\n",
       "      <th>3</th>\n",
       "      <td>Rick Adelman</td>\n",
       "      <td>G</td>\n",
       "      <td>1974.0</td>\n",
       "      <td>27.0</td>\n",
       "      <td>3.31</td>\n",
       "      <td>1.02</td>\n",
       "      <td>1.25</td>\n",
       "      <td>0.65</td>\n",
       "      <td>0.02</td>\n",
       "    </tr>\n",
       "    <tr>\n",
       "      <th>4</th>\n",
       "      <td>Lucius Allen</td>\n",
       "      <td>G</td>\n",
       "      <td>1974.0</td>\n",
       "      <td>26.0</td>\n",
       "      <td>17.61</td>\n",
       "      <td>5.19</td>\n",
       "      <td>4.04</td>\n",
       "      <td>1.90</td>\n",
       "      <td>0.31</td>\n",
       "    </tr>\n",
       "  </tbody>\n",
       "</table>\n",
       "</div>"
      ],
      "text/plain": [
       "                 player pos    year   age    pts   ast    trb   stl   blk\n",
       "0       Zaid Abdul-Aziz   C  1974.0  27.0  10.95  2.10  11.68  1.01  1.32\n",
       "1  Kareem Abdul-Jabbar*   C  1974.0  26.0  27.05  4.77  14.54  1.38  3.49\n",
       "2             Don Adams   F  1974.0  26.0  10.26  1.91   6.05  1.49  0.16\n",
       "3          Rick Adelman   G  1974.0  27.0   3.31  1.02   1.25  0.65  0.02\n",
       "4          Lucius Allen   G  1974.0  26.0  17.61  5.19   4.04  1.90  0.31"
      ]
     },
     "execution_count": 166,
     "metadata": {},
     "output_type": "execute_result"
    }
   ],
   "source": [
    "player_statistics['pos'] = player_statistics['pos'].apply(lambda x: x[-1])\n",
    "player_statistics.head()"
   ]
  },
  {
   "cell_type": "code",
   "execution_count": 167,
   "metadata": {},
   "outputs": [
    {
     "data": {
      "text/plain": [
       "pos\n",
       "F    8394\n",
       "G    8260\n",
       "C    4142\n",
       "Name: count, dtype: int64"
      ]
     },
     "execution_count": 167,
     "metadata": {},
     "output_type": "execute_result"
    }
   ],
   "source": [
    "player_statistics['pos'].value_counts()"
   ]
  },
  {
   "cell_type": "markdown",
   "metadata": {},
   "source": [
    "* Now we only have the desired G, F and C positions."
   ]
  },
  {
   "cell_type": "markdown",
   "metadata": {},
   "source": [
    "# Building ML Model"
   ]
  },
  {
   "cell_type": "markdown",
   "metadata": {},
   "source": [
    "### Trying different models & Evaluation"
   ]
  },
  {
   "cell_type": "markdown",
   "metadata": {},
   "source": [
    "### Best Model: Random Forest"
   ]
  },
  {
   "cell_type": "code",
   "execution_count": 168,
   "metadata": {},
   "outputs": [
    {
     "name": "stderr",
     "output_type": "stream",
     "text": [
      "/Users/danielliu/anaconda3/envs/positionn/lib/python3.12/site-packages/sklearn/preprocessing/_encoders.py:972: FutureWarning: `sparse` was renamed to `sparse_output` in version 1.2 and will be removed in 1.4. `sparse_output` is ignored unless you leave `sparse` to its default value.\n",
      "  warnings.warn(\n"
     ]
    }
   ],
   "source": [
    "# Obtain predictors and response\n",
    "player_predictors = player_statistics.drop(['player', 'pos'], axis = 1)\n",
    "player_response = player_statistics['pos']\n",
    "\n",
    "# Convert into 2D array with shape (n, 1)\n",
    "player_response = np.array(player_response).reshape(-1, 1)\n",
    "\n",
    "# Encode player response to be numeric\n",
    "ohe = OneHotEncoder(sparse=False, categories='auto')\n",
    "enc_player_response = ohe.fit_transform(player_response)\n",
    "\n",
    "# Obtain training/test split\n",
    "X_train, X_test, y_train, y_test = train_test_split(player_predictors,\n",
    "                                                    enc_player_response,\n",
    "                                                    train_size=0.75)"
   ]
  },
  {
   "cell_type": "code",
   "execution_count": 169,
   "metadata": {},
   "outputs": [],
   "source": [
    "rfc_pipeline = make_pipeline(StandardScaler(),\n",
    "                             RandomForestClassifier(n_estimators=500, \n",
    "                                                    random_state=0))\n",
    "\n",
    "# Define dictionary of {'param': [values_to_try]} with __ for pipeline\n",
    "param_grid = {\n",
    "    'randomforestclassifier__max_depth': [10, 20, 25],\n",
    "    'randomforestclassifier__min_samples_leaf': [3, 4, 5, 6],\n",
    "    'randomforestclassifier__bootstrap': [True, False]\n",
    "}\n",
    "\n",
    "rfc_grid = GridSearchCV(estimator=rfc_pipeline,\n",
    "                    param_grid=param_grid,\n",
    "                    cv = 3,\n",
    "                    refit=True,\n",
    "                    n_jobs = -1\n",
    "                    )\n",
    "\n",
    "rfc_grid.fit(X_train, y_train)"
   ]
  },
  {
   "cell_type": "code",
   "execution_count": null,
   "metadata": {},
   "outputs": [
    {
     "data": {
      "text/plain": [
       "{'randomforestclassifier__bootstrap': False,\n",
       " 'randomforestclassifier__max_depth': 25,\n",
       " 'randomforestclassifier__min_samples_leaf': 3}"
      ]
     },
     "execution_count": 151,
     "metadata": {},
     "output_type": "execute_result"
    }
   ],
   "source": [
    "rfc_grid.best_params_"
   ]
  },
  {
   "cell_type": "code",
   "execution_count": null,
   "metadata": {},
   "outputs": [
    {
     "name": "stdout",
     "output_type": "stream",
     "text": [
      "Accuracy: 0.7509136372379304\n"
     ]
    }
   ],
   "source": [
    "# Accuracy\n",
    "y_pred = rfc_grid.predict(X_test)\n",
    "accuracy = accuracy_score(y_test, y_pred)\n",
    "print('Accuracy:', accuracy)"
   ]
  },
  {
   "cell_type": "code",
   "execution_count": null,
   "metadata": {},
   "outputs": [
    {
     "data": {
      "text/plain": [
       "array([['F']], dtype=object)"
      ]
     },
     "execution_count": 153,
     "metadata": {},
     "output_type": "execute_result"
    }
   ],
   "source": [
    "# Transform back to obtain prediction\n",
    "y_pred = rfc_grid.predict(X_test)\n",
    "ohe.inverse_transform(y_pred[2].reshape(1, 3))"
   ]
  },
  {
   "cell_type": "markdown",
   "metadata": {},
   "source": [
    "# Retrain model on full dataset\n",
    "\n",
    "Finally, I will retrain the model on the full dataset (training & validation sets) to help the model learn from as much data as possible."
   ]
  },
  {
   "cell_type": "code",
   "execution_count": null,
   "metadata": {},
   "outputs": [],
   "source": [
    "# Export model\n",
    "pickle.dump(rfc_pipeline, open(os.path.join(\"models\", \"stats_rf.sav\"), \"wb\"))\n",
    "pickle.dump(ohe, open(os.path.join(\"models\", \"stats_ohe.sav\"), \"wb\"))"
   ]
  }
 ],
 "metadata": {
  "kernelspec": {
   "display_name": "positionn",
   "language": "python",
   "name": "python3"
  },
  "language_info": {
   "codemirror_mode": {
    "name": "ipython",
    "version": 3
   },
   "file_extension": ".py",
   "mimetype": "text/x-python",
   "name": "python",
   "nbconvert_exporter": "python",
   "pygments_lexer": "ipython3",
   "version": "3.12.4"
  }
 },
 "nbformat": 4,
 "nbformat_minor": 2
}
