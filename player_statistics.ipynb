{
 "cells": [
  {
   "cell_type": "markdown",
   "metadata": {},
   "source": [
    "[Todo]\n",
    "\n",
    "* Get rid of errors (messing up notebook in GitHub).\n",
    "* Try out adding new data, see if it improves models (adjust accordingly)."
   ]
  },
  {
   "cell_type": "markdown",
   "metadata": {},
   "source": [
    "# Player Statistics"
   ]
  },
  {
   "cell_type": "markdown",
   "metadata": {},
   "source": [
    "This notebook builds an ML model for predicting the position of a player given their statistics.\n",
    "\n",
    "##### Data Sources:\n",
    "\n",
    "##### The attributes I chose to use in building the model include:\n",
    "\n",
    "**Points, Assists, Rebounds, Steals and Blocks**, all on a per game basis. The model would have been improved by using statistics that further distinguish positions such as three point percentage (as guards and forwards are usually much better than centers in this department), turnovers or free throw percentage.  \n",
    "\n",
    "However, due to these more advanced statistics rarely being recorded outside of professional games, I decided to only use the traditionally recorded statistics of points, assists, rebounds, steals and blocks as the average user who may have only played up to high school basketball would either have these attributes recorded or know a rough estimate of their numbers for these attributes. For example, american highschool varsity basketball only records these statistics: [See Here](https://www.maxpreps.com/basketball/stat-leaders/)."
   ]
  },
  {
   "cell_type": "markdown",
   "metadata": {},
   "source": [
    "Potential Resources to download stats:\n",
    "\n",
    "* https://www.basketball-reference.com/leagues/NBA_2023_per_game.html (Download as many seasons as possible). For each download, need to read the file in, and collate player statistics such that players who played on multiple teams that season have their stats collated.\n"
   ]
  },
  {
   "cell_type": "code",
   "execution_count": null,
   "metadata": {},
   "outputs": [],
   "source": [
    "import pandas as pd\n",
    "import numpy as np\n",
    "import matplotlib.pyplot as plt\n",
    "import seaborn as sns\n",
    "import os\n",
    "import pickle\n",
    "import warnings\n",
    "from IPython.utils import io\n",
    "from contextlib import contextmanager\n",
    "from scipy.stats import uniform, loguniform\n",
    "from sklearn.model_selection import train_test_split\n",
    "from sklearn.ensemble import RandomForestClassifier\n",
    "from sklearn.metrics import accuracy_score\n",
    "from sklearn.preprocessing import OneHotEncoder\n",
    "from sklearn.preprocessing import StandardScaler\n",
    "from sklearn.pipeline import make_pipeline\n",
    "from sklearn.decomposition import PCA\n",
    "\n",
    "sns.set_theme()\n",
    "%matplotlib inline"
   ]
  },
  {
   "cell_type": "code",
   "execution_count": 2,
   "metadata": {},
   "outputs": [],
   "source": [
    "np.random.seed(0)"
   ]
  },
  {
   "cell_type": "markdown",
   "metadata": {},
   "source": [
    "# Data Preprocessing"
   ]
  },
  {
   "cell_type": "code",
   "execution_count": 3,
   "metadata": {},
   "outputs": [],
   "source": [
    "# Reading in data\n",
    "player_statistics = pd.read_csv(os.path.join(\"data\", \"Seasons_Stats.csv\"))\n",
    "active_players = pd.read_csv(os.path.join(\"data\", \"active_players.csv\"))\n",
    "active_players_processed = pd.read_csv(os.path.join(\"data\", \"active_players_processed.csv\"))\n",
    "player_statistics_processed = pd.read_csv(os.path.join(\"data\", \"player_stats_processed.csv\"))"
   ]
  },
  {
   "cell_type": "code",
   "execution_count": 4,
   "metadata": {},
   "outputs": [
    {
     "data": {
      "text/html": [
       "<div>\n",
       "<style scoped>\n",
       "    .dataframe tbody tr th:only-of-type {\n",
       "        vertical-align: middle;\n",
       "    }\n",
       "\n",
       "    .dataframe tbody tr th {\n",
       "        vertical-align: top;\n",
       "    }\n",
       "\n",
       "    .dataframe thead th {\n",
       "        text-align: right;\n",
       "    }\n",
       "</style>\n",
       "<table border=\"1\" class=\"dataframe\">\n",
       "  <thead>\n",
       "    <tr style=\"text-align: right;\">\n",
       "      <th></th>\n",
       "      <th>Unnamed: 0</th>\n",
       "      <th>Year</th>\n",
       "      <th>Player</th>\n",
       "      <th>Pos</th>\n",
       "      <th>Age</th>\n",
       "      <th>Tm</th>\n",
       "      <th>G</th>\n",
       "      <th>GS</th>\n",
       "      <th>MP</th>\n",
       "      <th>PER</th>\n",
       "      <th>...</th>\n",
       "      <th>FT%</th>\n",
       "      <th>ORB</th>\n",
       "      <th>DRB</th>\n",
       "      <th>TRB</th>\n",
       "      <th>AST</th>\n",
       "      <th>STL</th>\n",
       "      <th>BLK</th>\n",
       "      <th>TOV</th>\n",
       "      <th>PF</th>\n",
       "      <th>PTS</th>\n",
       "    </tr>\n",
       "  </thead>\n",
       "  <tbody>\n",
       "    <tr>\n",
       "      <th>0</th>\n",
       "      <td>0</td>\n",
       "      <td>1950.0</td>\n",
       "      <td>Curly Armstrong</td>\n",
       "      <td>G-F</td>\n",
       "      <td>31.0</td>\n",
       "      <td>FTW</td>\n",
       "      <td>63.0</td>\n",
       "      <td>NaN</td>\n",
       "      <td>NaN</td>\n",
       "      <td>NaN</td>\n",
       "      <td>...</td>\n",
       "      <td>0.705</td>\n",
       "      <td>NaN</td>\n",
       "      <td>NaN</td>\n",
       "      <td>NaN</td>\n",
       "      <td>176.0</td>\n",
       "      <td>NaN</td>\n",
       "      <td>NaN</td>\n",
       "      <td>NaN</td>\n",
       "      <td>217.0</td>\n",
       "      <td>458.0</td>\n",
       "    </tr>\n",
       "    <tr>\n",
       "      <th>1</th>\n",
       "      <td>1</td>\n",
       "      <td>1950.0</td>\n",
       "      <td>Cliff Barker</td>\n",
       "      <td>SG</td>\n",
       "      <td>29.0</td>\n",
       "      <td>INO</td>\n",
       "      <td>49.0</td>\n",
       "      <td>NaN</td>\n",
       "      <td>NaN</td>\n",
       "      <td>NaN</td>\n",
       "      <td>...</td>\n",
       "      <td>0.708</td>\n",
       "      <td>NaN</td>\n",
       "      <td>NaN</td>\n",
       "      <td>NaN</td>\n",
       "      <td>109.0</td>\n",
       "      <td>NaN</td>\n",
       "      <td>NaN</td>\n",
       "      <td>NaN</td>\n",
       "      <td>99.0</td>\n",
       "      <td>279.0</td>\n",
       "    </tr>\n",
       "    <tr>\n",
       "      <th>2</th>\n",
       "      <td>2</td>\n",
       "      <td>1950.0</td>\n",
       "      <td>Leo Barnhorst</td>\n",
       "      <td>SF</td>\n",
       "      <td>25.0</td>\n",
       "      <td>CHS</td>\n",
       "      <td>67.0</td>\n",
       "      <td>NaN</td>\n",
       "      <td>NaN</td>\n",
       "      <td>NaN</td>\n",
       "      <td>...</td>\n",
       "      <td>0.698</td>\n",
       "      <td>NaN</td>\n",
       "      <td>NaN</td>\n",
       "      <td>NaN</td>\n",
       "      <td>140.0</td>\n",
       "      <td>NaN</td>\n",
       "      <td>NaN</td>\n",
       "      <td>NaN</td>\n",
       "      <td>192.0</td>\n",
       "      <td>438.0</td>\n",
       "    </tr>\n",
       "    <tr>\n",
       "      <th>3</th>\n",
       "      <td>3</td>\n",
       "      <td>1950.0</td>\n",
       "      <td>Ed Bartels</td>\n",
       "      <td>F</td>\n",
       "      <td>24.0</td>\n",
       "      <td>TOT</td>\n",
       "      <td>15.0</td>\n",
       "      <td>NaN</td>\n",
       "      <td>NaN</td>\n",
       "      <td>NaN</td>\n",
       "      <td>...</td>\n",
       "      <td>0.559</td>\n",
       "      <td>NaN</td>\n",
       "      <td>NaN</td>\n",
       "      <td>NaN</td>\n",
       "      <td>20.0</td>\n",
       "      <td>NaN</td>\n",
       "      <td>NaN</td>\n",
       "      <td>NaN</td>\n",
       "      <td>29.0</td>\n",
       "      <td>63.0</td>\n",
       "    </tr>\n",
       "    <tr>\n",
       "      <th>4</th>\n",
       "      <td>4</td>\n",
       "      <td>1950.0</td>\n",
       "      <td>Ed Bartels</td>\n",
       "      <td>F</td>\n",
       "      <td>24.0</td>\n",
       "      <td>DNN</td>\n",
       "      <td>13.0</td>\n",
       "      <td>NaN</td>\n",
       "      <td>NaN</td>\n",
       "      <td>NaN</td>\n",
       "      <td>...</td>\n",
       "      <td>0.548</td>\n",
       "      <td>NaN</td>\n",
       "      <td>NaN</td>\n",
       "      <td>NaN</td>\n",
       "      <td>20.0</td>\n",
       "      <td>NaN</td>\n",
       "      <td>NaN</td>\n",
       "      <td>NaN</td>\n",
       "      <td>27.0</td>\n",
       "      <td>59.0</td>\n",
       "    </tr>\n",
       "  </tbody>\n",
       "</table>\n",
       "<p>5 rows × 53 columns</p>\n",
       "</div>"
      ],
      "text/plain": [
       "   Unnamed: 0    Year           Player  Pos   Age   Tm     G  GS  MP  PER  \\\n",
       "0           0  1950.0  Curly Armstrong  G-F  31.0  FTW  63.0 NaN NaN  NaN   \n",
       "1           1  1950.0     Cliff Barker   SG  29.0  INO  49.0 NaN NaN  NaN   \n",
       "2           2  1950.0    Leo Barnhorst   SF  25.0  CHS  67.0 NaN NaN  NaN   \n",
       "3           3  1950.0       Ed Bartels    F  24.0  TOT  15.0 NaN NaN  NaN   \n",
       "4           4  1950.0       Ed Bartels    F  24.0  DNN  13.0 NaN NaN  NaN   \n",
       "\n",
       "   ...    FT%  ORB  DRB  TRB    AST  STL  BLK  TOV     PF    PTS  \n",
       "0  ...  0.705  NaN  NaN  NaN  176.0  NaN  NaN  NaN  217.0  458.0  \n",
       "1  ...  0.708  NaN  NaN  NaN  109.0  NaN  NaN  NaN   99.0  279.0  \n",
       "2  ...  0.698  NaN  NaN  NaN  140.0  NaN  NaN  NaN  192.0  438.0  \n",
       "3  ...  0.559  NaN  NaN  NaN   20.0  NaN  NaN  NaN   29.0   63.0  \n",
       "4  ...  0.548  NaN  NaN  NaN   20.0  NaN  NaN  NaN   27.0   59.0  \n",
       "\n",
       "[5 rows x 53 columns]"
      ]
     },
     "execution_count": 4,
     "metadata": {},
     "output_type": "execute_result"
    }
   ],
   "source": [
    "player_statistics.head()"
   ]
  },
  {
   "cell_type": "code",
   "execution_count": 5,
   "metadata": {},
   "outputs": [
    {
     "data": {
      "text/html": [
       "<div>\n",
       "<style scoped>\n",
       "    .dataframe tbody tr th:only-of-type {\n",
       "        vertical-align: middle;\n",
       "    }\n",
       "\n",
       "    .dataframe tbody tr th {\n",
       "        vertical-align: top;\n",
       "    }\n",
       "\n",
       "    .dataframe thead th {\n",
       "        text-align: right;\n",
       "    }\n",
       "</style>\n",
       "<table border=\"1\" class=\"dataframe\">\n",
       "  <thead>\n",
       "    <tr style=\"text-align: right;\">\n",
       "      <th></th>\n",
       "      <th>playerid</th>\n",
       "      <th>fname</th>\n",
       "      <th>lname</th>\n",
       "      <th>position</th>\n",
       "      <th>height</th>\n",
       "      <th>weight</th>\n",
       "      <th>birthday</th>\n",
       "      <th>country</th>\n",
       "      <th>school</th>\n",
       "      <th>draft_year</th>\n",
       "      <th>draft_round</th>\n",
       "      <th>draft_number</th>\n",
       "    </tr>\n",
       "  </thead>\n",
       "  <tbody>\n",
       "    <tr>\n",
       "      <th>0</th>\n",
       "      <td>1630173</td>\n",
       "      <td>Precious</td>\n",
       "      <td>Achiuwa</td>\n",
       "      <td>Forward</td>\n",
       "      <td>6-8</td>\n",
       "      <td>225</td>\n",
       "      <td>1999-09-19</td>\n",
       "      <td>Nigeria</td>\n",
       "      <td>Memphis</td>\n",
       "      <td>2020</td>\n",
       "      <td>1.0</td>\n",
       "      <td>20.0</td>\n",
       "    </tr>\n",
       "    <tr>\n",
       "      <th>1</th>\n",
       "      <td>203500</td>\n",
       "      <td>Steven</td>\n",
       "      <td>Adams</td>\n",
       "      <td>Center</td>\n",
       "      <td>6-11</td>\n",
       "      <td>265</td>\n",
       "      <td>1993-07-20</td>\n",
       "      <td>New Zealand</td>\n",
       "      <td>Pittsburgh</td>\n",
       "      <td>2013</td>\n",
       "      <td>1.0</td>\n",
       "      <td>12.0</td>\n",
       "    </tr>\n",
       "    <tr>\n",
       "      <th>2</th>\n",
       "      <td>1628389</td>\n",
       "      <td>Bam</td>\n",
       "      <td>Adebayo</td>\n",
       "      <td>Center-Forward</td>\n",
       "      <td>6-9</td>\n",
       "      <td>255</td>\n",
       "      <td>1997-07-18</td>\n",
       "      <td>USA</td>\n",
       "      <td>Kentucky</td>\n",
       "      <td>2017</td>\n",
       "      <td>1.0</td>\n",
       "      <td>14.0</td>\n",
       "    </tr>\n",
       "    <tr>\n",
       "      <th>3</th>\n",
       "      <td>1630534</td>\n",
       "      <td>Ochai</td>\n",
       "      <td>Agbaji</td>\n",
       "      <td>Guard</td>\n",
       "      <td>6-5</td>\n",
       "      <td>215</td>\n",
       "      <td>2000-04-20</td>\n",
       "      <td>USA</td>\n",
       "      <td>Kansas</td>\n",
       "      <td>2022</td>\n",
       "      <td>1.0</td>\n",
       "      <td>14.0</td>\n",
       "    </tr>\n",
       "    <tr>\n",
       "      <th>4</th>\n",
       "      <td>1630583</td>\n",
       "      <td>Santi</td>\n",
       "      <td>Aldama</td>\n",
       "      <td>Forward-Center</td>\n",
       "      <td>7-0</td>\n",
       "      <td>215</td>\n",
       "      <td>2001-01-10</td>\n",
       "      <td>Spain</td>\n",
       "      <td>Loyola-Maryland</td>\n",
       "      <td>2021</td>\n",
       "      <td>1.0</td>\n",
       "      <td>30.0</td>\n",
       "    </tr>\n",
       "  </tbody>\n",
       "</table>\n",
       "</div>"
      ],
      "text/plain": [
       "   playerid     fname    lname        position height  weight    birthday  \\\n",
       "0   1630173  Precious  Achiuwa         Forward    6-8     225  1999-09-19   \n",
       "1    203500    Steven    Adams          Center   6-11     265  1993-07-20   \n",
       "2   1628389       Bam  Adebayo  Center-Forward    6-9     255  1997-07-18   \n",
       "3   1630534     Ochai   Agbaji           Guard    6-5     215  2000-04-20   \n",
       "4   1630583     Santi   Aldama  Forward-Center    7-0     215  2001-01-10   \n",
       "\n",
       "       country           school  draft_year  draft_round  draft_number  \n",
       "0      Nigeria          Memphis        2020          1.0          20.0  \n",
       "1  New Zealand       Pittsburgh        2013          1.0          12.0  \n",
       "2          USA         Kentucky        2017          1.0          14.0  \n",
       "3          USA           Kansas        2022          1.0          14.0  \n",
       "4        Spain  Loyola-Maryland        2021          1.0          30.0  "
      ]
     },
     "execution_count": 5,
     "metadata": {},
     "output_type": "execute_result"
    }
   ],
   "source": [
    "active_players.head()"
   ]
  },
  {
   "cell_type": "markdown",
   "metadata": {},
   "source": [
    "### Handling the player statistics dataset"
   ]
  },
  {
   "cell_type": "markdown",
   "metadata": {},
   "source": [
    "First, I'm going to convert all column headers into lowercase to have a consistent case between all columns."
   ]
  },
  {
   "cell_type": "code",
   "execution_count": 6,
   "metadata": {},
   "outputs": [],
   "source": [
    "player_statistics.columns = player_statistics.columns.str.lower()"
   ]
  },
  {
   "cell_type": "markdown",
   "metadata": {},
   "source": [
    "Now, I'm going to keep only relevant attributes that are feasible (see explanation above) and may have a relationship with a players position (Year, Age)."
   ]
  },
  {
   "cell_type": "code",
   "execution_count": 7,
   "metadata": {},
   "outputs": [
    {
     "data": {
      "text/html": [
       "<div>\n",
       "<style scoped>\n",
       "    .dataframe tbody tr th:only-of-type {\n",
       "        vertical-align: middle;\n",
       "    }\n",
       "\n",
       "    .dataframe tbody tr th {\n",
       "        vertical-align: top;\n",
       "    }\n",
       "\n",
       "    .dataframe thead th {\n",
       "        text-align: right;\n",
       "    }\n",
       "</style>\n",
       "<table border=\"1\" class=\"dataframe\">\n",
       "  <thead>\n",
       "    <tr style=\"text-align: right;\">\n",
       "      <th></th>\n",
       "      <th>player</th>\n",
       "      <th>pos</th>\n",
       "      <th>pts</th>\n",
       "      <th>ast</th>\n",
       "      <th>trb</th>\n",
       "      <th>stl</th>\n",
       "      <th>blk</th>\n",
       "      <th>age</th>\n",
       "      <th>year</th>\n",
       "      <th>g</th>\n",
       "    </tr>\n",
       "  </thead>\n",
       "  <tbody>\n",
       "    <tr>\n",
       "      <th>0</th>\n",
       "      <td>Curly Armstrong</td>\n",
       "      <td>G-F</td>\n",
       "      <td>458.0</td>\n",
       "      <td>176.0</td>\n",
       "      <td>NaN</td>\n",
       "      <td>NaN</td>\n",
       "      <td>NaN</td>\n",
       "      <td>31.0</td>\n",
       "      <td>1950.0</td>\n",
       "      <td>63.0</td>\n",
       "    </tr>\n",
       "    <tr>\n",
       "      <th>1</th>\n",
       "      <td>Cliff Barker</td>\n",
       "      <td>SG</td>\n",
       "      <td>279.0</td>\n",
       "      <td>109.0</td>\n",
       "      <td>NaN</td>\n",
       "      <td>NaN</td>\n",
       "      <td>NaN</td>\n",
       "      <td>29.0</td>\n",
       "      <td>1950.0</td>\n",
       "      <td>49.0</td>\n",
       "    </tr>\n",
       "    <tr>\n",
       "      <th>2</th>\n",
       "      <td>Leo Barnhorst</td>\n",
       "      <td>SF</td>\n",
       "      <td>438.0</td>\n",
       "      <td>140.0</td>\n",
       "      <td>NaN</td>\n",
       "      <td>NaN</td>\n",
       "      <td>NaN</td>\n",
       "      <td>25.0</td>\n",
       "      <td>1950.0</td>\n",
       "      <td>67.0</td>\n",
       "    </tr>\n",
       "    <tr>\n",
       "      <th>3</th>\n",
       "      <td>Ed Bartels</td>\n",
       "      <td>F</td>\n",
       "      <td>63.0</td>\n",
       "      <td>20.0</td>\n",
       "      <td>NaN</td>\n",
       "      <td>NaN</td>\n",
       "      <td>NaN</td>\n",
       "      <td>24.0</td>\n",
       "      <td>1950.0</td>\n",
       "      <td>15.0</td>\n",
       "    </tr>\n",
       "    <tr>\n",
       "      <th>4</th>\n",
       "      <td>Ed Bartels</td>\n",
       "      <td>F</td>\n",
       "      <td>59.0</td>\n",
       "      <td>20.0</td>\n",
       "      <td>NaN</td>\n",
       "      <td>NaN</td>\n",
       "      <td>NaN</td>\n",
       "      <td>24.0</td>\n",
       "      <td>1950.0</td>\n",
       "      <td>13.0</td>\n",
       "    </tr>\n",
       "  </tbody>\n",
       "</table>\n",
       "</div>"
      ],
      "text/plain": [
       "            player  pos    pts    ast  trb  stl  blk   age    year     g\n",
       "0  Curly Armstrong  G-F  458.0  176.0  NaN  NaN  NaN  31.0  1950.0  63.0\n",
       "1     Cliff Barker   SG  279.0  109.0  NaN  NaN  NaN  29.0  1950.0  49.0\n",
       "2    Leo Barnhorst   SF  438.0  140.0  NaN  NaN  NaN  25.0  1950.0  67.0\n",
       "3       Ed Bartels    F   63.0   20.0  NaN  NaN  NaN  24.0  1950.0  15.0\n",
       "4       Ed Bartels    F   59.0   20.0  NaN  NaN  NaN  24.0  1950.0  13.0"
      ]
     },
     "execution_count": 7,
     "metadata": {},
     "output_type": "execute_result"
    }
   ],
   "source": [
    "player_statistics = player_statistics[['player', 'pos', 'pts', 'ast', 'trb', 'stl', 'blk', 'age', 'year', 'g']]\n",
    "player_statistics.head()"
   ]
  },
  {
   "cell_type": "markdown",
   "metadata": {},
   "source": [
    "Next, we're going to drop all NA values as we're going to want to keep only players with all the relevant statistics. Furthermore, any duplicates entries will be dropped."
   ]
  },
  {
   "cell_type": "code",
   "execution_count": 8,
   "metadata": {},
   "outputs": [
    {
     "name": "stdout",
     "output_type": "stream",
     "text": [
      "The number of rows in the dataset is: 24691\n",
      "The number of columns/features in the dataset is: 10\n",
      "The number of duplicate entries in the dataset is: 67\n",
      "The number of missing values in the dataset is: 8644\n"
     ]
    }
   ],
   "source": [
    "# Checking the shape, number of duplicates and missing values\n",
    "print(f'The number of rows in the dataset is: {player_statistics.shape[0]}')\n",
    "print(f'The number of columns/features in the dataset is: {player_statistics.shape[1]}')\n",
    "print(f'The number of duplicate entries in the dataset is: {player_statistics.duplicated().sum()}')\n",
    "print(f'The number of missing values in the dataset is: {player_statistics.isna().sum().sum()}')"
   ]
  },
  {
   "cell_type": "code",
   "execution_count": 9,
   "metadata": {},
   "outputs": [],
   "source": [
    "player_statistics = player_statistics.dropna()\n",
    "player_statistics = player_statistics.drop_duplicates().reset_index(drop=True)"
   ]
  },
  {
   "cell_type": "code",
   "execution_count": 10,
   "metadata": {},
   "outputs": [
    {
     "name": "stdout",
     "output_type": "stream",
     "text": [
      "The number of duplicate entries in the dataset is: 0\n",
      "The number of missing values in the dataset is: 0\n"
     ]
    }
   ],
   "source": [
    "# Checking the number of duplicates and missing values\n",
    "print(f'The number of duplicate entries in the dataset is: {player_statistics.duplicated().sum()}')\n",
    "print(f'The number of missing values in the dataset is: {player_statistics.isna().sum().sum()}')"
   ]
  },
  {
   "cell_type": "markdown",
   "metadata": {},
   "source": [
    "It is evident that the statistics are shown as **totals**, and not their statistics **per game**. Although users could calculate their total statistics, it's more common that a players statistics are recorded as per game. Therefore, next we will convert all the statistics into per game."
   ]
  },
  {
   "cell_type": "code",
   "execution_count": 11,
   "metadata": {},
   "outputs": [],
   "source": [
    "# Convert stats into per game\n",
    "stats_cols = ['pts', 'ast', 'trb', 'stl', 'blk']\n",
    "for col in stats_cols:\n",
    "    player_statistics[col] = np.round(player_statistics[col].div(player_statistics['g']), 2)\n",
    "    \n",
    "# Drop games\n",
    "player_statistics.drop(columns=['g'], inplace=True)"
   ]
  },
  {
   "cell_type": "code",
   "execution_count": 12,
   "metadata": {},
   "outputs": [
    {
     "data": {
      "text/html": [
       "<div>\n",
       "<style scoped>\n",
       "    .dataframe tbody tr th:only-of-type {\n",
       "        vertical-align: middle;\n",
       "    }\n",
       "\n",
       "    .dataframe tbody tr th {\n",
       "        vertical-align: top;\n",
       "    }\n",
       "\n",
       "    .dataframe thead th {\n",
       "        text-align: right;\n",
       "    }\n",
       "</style>\n",
       "<table border=\"1\" class=\"dataframe\">\n",
       "  <thead>\n",
       "    <tr style=\"text-align: right;\">\n",
       "      <th></th>\n",
       "      <th>player</th>\n",
       "      <th>pos</th>\n",
       "      <th>pts</th>\n",
       "      <th>ast</th>\n",
       "      <th>trb</th>\n",
       "      <th>stl</th>\n",
       "      <th>blk</th>\n",
       "      <th>age</th>\n",
       "      <th>year</th>\n",
       "    </tr>\n",
       "  </thead>\n",
       "  <tbody>\n",
       "    <tr>\n",
       "      <th>0</th>\n",
       "      <td>Zaid Abdul-Aziz</td>\n",
       "      <td>C</td>\n",
       "      <td>10.95</td>\n",
       "      <td>2.10</td>\n",
       "      <td>11.68</td>\n",
       "      <td>1.01</td>\n",
       "      <td>1.32</td>\n",
       "      <td>27.0</td>\n",
       "      <td>1974.0</td>\n",
       "    </tr>\n",
       "    <tr>\n",
       "      <th>1</th>\n",
       "      <td>Kareem Abdul-Jabbar*</td>\n",
       "      <td>C</td>\n",
       "      <td>27.05</td>\n",
       "      <td>4.77</td>\n",
       "      <td>14.54</td>\n",
       "      <td>1.38</td>\n",
       "      <td>3.49</td>\n",
       "      <td>26.0</td>\n",
       "      <td>1974.0</td>\n",
       "    </tr>\n",
       "    <tr>\n",
       "      <th>2</th>\n",
       "      <td>Don Adams</td>\n",
       "      <td>SF</td>\n",
       "      <td>10.26</td>\n",
       "      <td>1.91</td>\n",
       "      <td>6.05</td>\n",
       "      <td>1.49</td>\n",
       "      <td>0.16</td>\n",
       "      <td>26.0</td>\n",
       "      <td>1974.0</td>\n",
       "    </tr>\n",
       "    <tr>\n",
       "      <th>3</th>\n",
       "      <td>Rick Adelman</td>\n",
       "      <td>PG</td>\n",
       "      <td>3.31</td>\n",
       "      <td>1.02</td>\n",
       "      <td>1.25</td>\n",
       "      <td>0.65</td>\n",
       "      <td>0.02</td>\n",
       "      <td>27.0</td>\n",
       "      <td>1974.0</td>\n",
       "    </tr>\n",
       "    <tr>\n",
       "      <th>4</th>\n",
       "      <td>Lucius Allen</td>\n",
       "      <td>PG</td>\n",
       "      <td>17.61</td>\n",
       "      <td>5.19</td>\n",
       "      <td>4.04</td>\n",
       "      <td>1.90</td>\n",
       "      <td>0.31</td>\n",
       "      <td>26.0</td>\n",
       "      <td>1974.0</td>\n",
       "    </tr>\n",
       "  </tbody>\n",
       "</table>\n",
       "</div>"
      ],
      "text/plain": [
       "                 player pos    pts   ast    trb   stl   blk   age    year\n",
       "0       Zaid Abdul-Aziz   C  10.95  2.10  11.68  1.01  1.32  27.0  1974.0\n",
       "1  Kareem Abdul-Jabbar*   C  27.05  4.77  14.54  1.38  3.49  26.0  1974.0\n",
       "2             Don Adams  SF  10.26  1.91   6.05  1.49  0.16  26.0  1974.0\n",
       "3          Rick Adelman  PG   3.31  1.02   1.25  0.65  0.02  27.0  1974.0\n",
       "4          Lucius Allen  PG  17.61  5.19   4.04  1.90  0.31  26.0  1974.0"
      ]
     },
     "execution_count": 12,
     "metadata": {},
     "output_type": "execute_result"
    }
   ],
   "source": [
    "player_statistics.head()"
   ]
  },
  {
   "cell_type": "markdown",
   "metadata": {},
   "source": [
    "It is evident that the Guard position is broken down into PG (Point Guard) and SG (Shooting Guard). Additionally, the Forward position is broken down into SF (Small Forward) and Power Forward (PF). \n",
    "\n",
    "Similar to before, we're trying to predict the general position of a player (Guard, Forward, Center) and so we handle this below."
   ]
  },
  {
   "cell_type": "code",
   "execution_count": 13,
   "metadata": {},
   "outputs": [
    {
     "data": {
      "text/html": [
       "<div>\n",
       "<style scoped>\n",
       "    .dataframe tbody tr th:only-of-type {\n",
       "        vertical-align: middle;\n",
       "    }\n",
       "\n",
       "    .dataframe tbody tr th {\n",
       "        vertical-align: top;\n",
       "    }\n",
       "\n",
       "    .dataframe thead th {\n",
       "        text-align: right;\n",
       "    }\n",
       "</style>\n",
       "<table border=\"1\" class=\"dataframe\">\n",
       "  <thead>\n",
       "    <tr style=\"text-align: right;\">\n",
       "      <th></th>\n",
       "      <th>player</th>\n",
       "      <th>pos</th>\n",
       "      <th>pts</th>\n",
       "      <th>ast</th>\n",
       "      <th>trb</th>\n",
       "      <th>stl</th>\n",
       "      <th>blk</th>\n",
       "      <th>age</th>\n",
       "      <th>year</th>\n",
       "    </tr>\n",
       "  </thead>\n",
       "  <tbody>\n",
       "    <tr>\n",
       "      <th>0</th>\n",
       "      <td>Zaid Abdul-Aziz</td>\n",
       "      <td>C</td>\n",
       "      <td>10.95</td>\n",
       "      <td>2.10</td>\n",
       "      <td>11.68</td>\n",
       "      <td>1.01</td>\n",
       "      <td>1.32</td>\n",
       "      <td>27.0</td>\n",
       "      <td>1974.0</td>\n",
       "    </tr>\n",
       "    <tr>\n",
       "      <th>1</th>\n",
       "      <td>Kareem Abdul-Jabbar*</td>\n",
       "      <td>C</td>\n",
       "      <td>27.05</td>\n",
       "      <td>4.77</td>\n",
       "      <td>14.54</td>\n",
       "      <td>1.38</td>\n",
       "      <td>3.49</td>\n",
       "      <td>26.0</td>\n",
       "      <td>1974.0</td>\n",
       "    </tr>\n",
       "    <tr>\n",
       "      <th>2</th>\n",
       "      <td>Don Adams</td>\n",
       "      <td>F</td>\n",
       "      <td>10.26</td>\n",
       "      <td>1.91</td>\n",
       "      <td>6.05</td>\n",
       "      <td>1.49</td>\n",
       "      <td>0.16</td>\n",
       "      <td>26.0</td>\n",
       "      <td>1974.0</td>\n",
       "    </tr>\n",
       "    <tr>\n",
       "      <th>3</th>\n",
       "      <td>Rick Adelman</td>\n",
       "      <td>G</td>\n",
       "      <td>3.31</td>\n",
       "      <td>1.02</td>\n",
       "      <td>1.25</td>\n",
       "      <td>0.65</td>\n",
       "      <td>0.02</td>\n",
       "      <td>27.0</td>\n",
       "      <td>1974.0</td>\n",
       "    </tr>\n",
       "    <tr>\n",
       "      <th>4</th>\n",
       "      <td>Lucius Allen</td>\n",
       "      <td>G</td>\n",
       "      <td>17.61</td>\n",
       "      <td>5.19</td>\n",
       "      <td>4.04</td>\n",
       "      <td>1.90</td>\n",
       "      <td>0.31</td>\n",
       "      <td>26.0</td>\n",
       "      <td>1974.0</td>\n",
       "    </tr>\n",
       "  </tbody>\n",
       "</table>\n",
       "</div>"
      ],
      "text/plain": [
       "                 player pos    pts   ast    trb   stl   blk   age    year\n",
       "0       Zaid Abdul-Aziz   C  10.95  2.10  11.68  1.01  1.32  27.0  1974.0\n",
       "1  Kareem Abdul-Jabbar*   C  27.05  4.77  14.54  1.38  3.49  26.0  1974.0\n",
       "2             Don Adams   F  10.26  1.91   6.05  1.49  0.16  26.0  1974.0\n",
       "3          Rick Adelman   G   3.31  1.02   1.25  0.65  0.02  27.0  1974.0\n",
       "4          Lucius Allen   G  17.61  5.19   4.04  1.90  0.31  26.0  1974.0"
      ]
     },
     "execution_count": 13,
     "metadata": {},
     "output_type": "execute_result"
    }
   ],
   "source": [
    "player_statistics['pos'] = player_statistics['pos'].apply(lambda x: x[-1])\n",
    "player_statistics.head()"
   ]
  },
  {
   "cell_type": "code",
   "execution_count": 14,
   "metadata": {},
   "outputs": [
    {
     "data": {
      "text/plain": [
       "pos\n",
       "F    8394\n",
       "G    8260\n",
       "C    4142\n",
       "Name: count, dtype: int64"
      ]
     },
     "execution_count": 14,
     "metadata": {},
     "output_type": "execute_result"
    }
   ],
   "source": [
    "player_statistics['pos'].value_counts()"
   ]
  },
  {
   "cell_type": "code",
   "execution_count": 15,
   "metadata": {},
   "outputs": [],
   "source": [
    "# Export player statistics processed\n",
    "#player_statistics.to_csv(os.path.join(\"data\", \"player_stats_processed.csv\"))"
   ]
  },
  {
   "cell_type": "markdown",
   "metadata": {},
   "source": [
    "* Now we only have the desired G, F and C positions."
   ]
  },
  {
   "cell_type": "markdown",
   "metadata": {},
   "source": [
    "# Problem definition"
   ]
  },
  {
   "cell_type": "code",
   "execution_count": 16,
   "metadata": {},
   "outputs": [
    {
     "data": {
      "text/plain": [
       "pos\n",
       "F    8394\n",
       "G    8260\n",
       "C    4142\n",
       "Name: count, dtype: int64"
      ]
     },
     "execution_count": 16,
     "metadata": {},
     "output_type": "execute_result"
    }
   ],
   "source": [
    "player_statistics['pos'].value_counts()"
   ]
  },
  {
   "cell_type": "markdown",
   "metadata": {},
   "source": [
    "Since 40% of observations are Forward and Guards, but just 20% of observations are Centers, this represents an **imbalanced, multi-classs classification problem.** Additionally, False Positive's and False Negative's are equally importance (i.e. we want fair performance predicting across all classes).\n",
    "\n",
    "As such, we will use appropriate metrics like:\n",
    "\n",
    "* `balanced_accuracy`,\n",
    "* `f1_macro`"
   ]
  },
  {
   "cell_type": "markdown",
   "metadata": {},
   "source": [
    "# Building ML Model"
   ]
  },
  {
   "cell_type": "markdown",
   "metadata": {},
   "source": [
    "### Preparation of dataset"
   ]
  },
  {
   "cell_type": "code",
   "execution_count": 17,
   "metadata": {},
   "outputs": [],
   "source": [
    "from sklearn.compose import make_column_selector as selector\n",
    "from sklearn.compose import ColumnTransformer\n",
    "from sklearn.pipeline import Pipeline\n",
    "from sklearn.linear_model import LogisticRegression\n",
    "from sklearn.model_selection import GridSearchCV, RandomizedSearchCV, cross_validate, train_test_split\n",
    "from sklearn.exceptions import ConvergenceWarning\n",
    "from sklearn.tree import DecisionTreeClassifier, plot_tree\n",
    "from sklearn.ensemble import HistGradientBoostingClassifier"
   ]
  },
  {
   "cell_type": "code",
   "execution_count": 18,
   "metadata": {},
   "outputs": [],
   "source": [
    "# separate data\n",
    "target_name = \"pos\"\n",
    "target = player_statistics[target_name]\n",
    "data = player_statistics.drop(columns=[target_name, \"player\"])\n",
    "\n",
    "# retrieve column types\n",
    "numerical_columns_selector = selector(dtype_exclude=object)\n",
    "numerical_columns = numerical_columns_selector(data)\n",
    "\n",
    "# define transformers\n",
    "numerical_preprocessor = StandardScaler()\n",
    "\n",
    "# define column transformer\n",
    "preprocessor = ColumnTransformer(\n",
    "    [\n",
    "        (\"numerical_preprocessing\", numerical_preprocessor, numerical_columns)\n",
    "    ],\n",
    "    remainder=\"passthrough\"\n",
    ")"
   ]
  },
  {
   "cell_type": "markdown",
   "metadata": {},
   "source": [
    "### Defining PlayerStatisticsModel class"
   ]
  },
  {
   "cell_type": "code",
   "execution_count": null,
   "metadata": {},
   "outputs": [],
   "source": [
    "class PlayerStatisticsModel:\n",
    "    \"\"\"\n",
    "     This class enables easy the creation and evaluation of different models to predict a players position based\n",
    "     on their statistics.\n",
    "    \"\"\"\n",
    "    def __init__(self, model, preprocessor: ColumnTransformer, data: pd.DataFrame, target: pd.Series, cv: int):\n",
    "        \"\"\"\n",
    "         Initialisation of PlayerStatisticsModel class.\n",
    "        \n",
    "         Inputs:\n",
    "          - model: sklearn machine learning model class\n",
    "          - preprocessor (ColumnTransformer): preprocessing steps\n",
    "          - data: input features\n",
    "          - target: input target\n",
    "          - cv: number of cv folds to estimate generalisability of model\n",
    "        \"\"\"\n",
    "        self.metrics = [\"balanced_accuracy\", \"f1_macro\"]  # metrics to evaluate/fit models\n",
    "        self.cv = cv  # number of cv folds\n",
    "        self.results = pd.DataFrame()   # dataframe to store performance results of models\n",
    "        self.data = data\n",
    "        self.target = target\n",
    "        self.X_train, self.X_test, self.y_train, self.y_test = train_test_split(data, target, test_size = 0.25, stratify=target, random_state=42)\n",
    "        self.preprocessor = preprocessor\n",
    "        self.model = Pipeline(\n",
    "            steps=[\n",
    "                (\"preprocessor\", preprocessor),\n",
    "                (\"model\", model)\n",
    "            ]\n",
    "        )\n",
    "    @contextmanager\n",
    "    def _suppress_warnings_and_output(self):\n",
    "        # save original warning environment variable\n",
    "        original_warnings = os.environ.get(\"PYTHONWARNINGS\", \"\")\n",
    "        \n",
    "        # suppress UserWarning and FutureWarning\n",
    "        os.environ[\"PYTHONWARNINGS\"] = \"ignore::UserWarning, ignore::FutureWarning\"\n",
    "        warnings.filterwarnings(\"ignore\", category=UserWarning)\n",
    "        warnings.filterwarnings(\"ignore\", category=FutureWarning)\n",
    "\n",
    "        # capture all stdout/stderr output\n",
    "        with io.capture_output() as captured:\n",
    "            try:\n",
    "                yield captured\n",
    "            finally:\n",
    "                # restore warnings environment and filters\n",
    "                os.environ[\"PYTHONWARNINGS\"] = original_warnings\n",
    "                warnings.filterwarnings(\"default\", category=UserWarning)\n",
    "                warnings.filterwarnings(\"default\", category=FutureWarning)\n",
    "    def print_cv_results(self, dict_results:dict[tuple]):\n",
    "        \"\"\"\n",
    "         Prints the mean and standard deviation cross-validation score for a specified metrics in a pretty format.\n",
    "        \n",
    "         Inputs:\n",
    "          - dict_results (dict[tuple]): the mean & std results of a model on all evaluation metrics\n",
    "        \"\"\"\n",
    "        for metric, value in dict_results.items():\n",
    "            print(f\"The mean cross-validation {metric} score is: \"\n",
    "            f\"{value[0]:.3f} ± {value[1]:.3f}\")\n",
    "    def plot_fold_comparison(self, metric: str, fold_results: tuple[list[int]], label_names: tuple[str], colors: tuple[str]):\n",
    "        \"\"\"\n",
    "         Plots a comparison of the model's evaluation metric (i.e. performance) on each individual cross-validation\n",
    "         fold. If there are 4 cross-validation folds, a scatterplot with four dots will be plotted.\n",
    "        \n",
    "         Inputs:\n",
    "          - metric (str): sklearn evaluation metric of choice\n",
    "          - fold_results (tuple[list[int]]): tuple containing the fold results of each model\n",
    "          - label_names (tuple[str]): names to give each to each model in the legend of plot\n",
    "          - colors (tuple[str]): colors to give each model in the plot\n",
    "        \"\"\"\n",
    "        # handle edge case: user passes in invalid metric to plot\n",
    "        if metric not in self.metrics:\n",
    "            raise Exception(f\"Please pass in a valid metric: {self.metrics}\")\n",
    "        else:\n",
    "            fig, ax = plt.subplots(figsize=(6, 5))\n",
    "            # iterate through each model's fold_result, adding scatterplots\n",
    "            for i in range(len(fold_results)):\n",
    "                indicies = np.arange(len(fold_results[i][metric]))\n",
    "                sns.scatterplot(x=indicies, y=fold_results[i][metric], color=f\"tab:{colors[i]}\", label=label_names[i], ax=ax)\n",
    "            # plot axis settings\n",
    "            ax.set_xlabel(\"Cross-validation iteration\")\n",
    "            ax.set_ylabel(\"Balanced Accuracy\")\n",
    "            ax.set_title(f\"{self.cv}-Fold {metric}\")\n",
    "            ax.set_xticks(np.arange(0, self.cv))\n",
    "            ax.set_ylim(0,1)\n",
    "            ax.legend(bbox_to_anchor=(1.05, 1), loc=\"upper left\")\n",
    "    def _add_model_results(self, model_result: dict[list], model_name: str):\n",
    "        \"\"\"\n",
    "         Anonymous function that concatenates the mean and standard deviation cross-validation score for all\n",
    "         specified metrics of a model onto a pre-existing dataframe (self.results). This enables us to \n",
    "         quickly compare the cv-performance of models as we build them.\n",
    "\n",
    "         Inputs:\n",
    "          - model_result (dict[list]): dictionary containing the mean & std results for each model metric\n",
    "          - model_name (str): name of the model that will exist as its index in the self.results df\n",
    "        \"\"\"   \n",
    "        # Gets model results as df to append to self.results\n",
    "        df = pd.DataFrame(model_result)\n",
    "        # extract rows and add suffixes to column names, then combine\n",
    "        mean_row = df.iloc[0].rename(lambda col: f\"{col}_mean\")\n",
    "        std_row = df.iloc[1].rename(lambda col: f\"{col}_std\")\n",
    "        flattened_series = pd.concat([mean_row, std_row])\n",
    "        flattened_df = pd.DataFrame([flattened_series])\n",
    "        # set the index to the model name\n",
    "        flattened_df.index = [model_name]\n",
    "        # if model already exists in results df, then replace. Otherwise, append.\n",
    "        if model_name in list(self.results.index):\n",
    "            self.results.loc[model_name] = flattened_df.iloc[0]\n",
    "        else:\n",
    "            self.results = pd.concat([self.results, flattened_df])\n",
    "    def cv_score(self, model_name: str) -> tuple[dict[list], dict[list]]:\n",
    "        \"\"\"\n",
    "         Runs cross-validation on the default model (i.e. without hyperparameter tuning), obtaining the \n",
    "         performance of the model.\n",
    "\n",
    "         Inputs:\n",
    "          - model_name (str): name of the model that will exist as its index in the self.results df\n",
    "         \n",
    "         Returns:\n",
    "          - dict_scores_agg (dict[list]): dictionary containing the mean & std results for each model metric\n",
    "          - dict_scores_folds (dict[list]): dictionary containing the model metric results for each fold\n",
    "        \"\"\"   \n",
    "        # get CV scores for default model\n",
    "        dict_scores_agg = dict()\n",
    "        dict_scores_folds = dict()\n",
    "        for metric in self.metrics:\n",
    "            cv_results = cross_validate(self.model, data, target, cv=self.cv, scoring=metric)\n",
    "            scoring = cv_results['test_score']\n",
    "            dict_scores_agg[metric] = (scoring.mean(), scoring.std())\n",
    "            dict_scores_folds[metric] = scoring\n",
    "        self._add_model_results(dict_scores_agg, model_name)\n",
    "        return dict_scores_agg, dict_scores_folds\n",
    "    def grid_search_cv_score(self, model_name: str, param_grid: dict):\n",
    "        \"\"\"\n",
    "         Fits a model with grid_search to tune its hyperparameters. Then performs nested cross-validation to\n",
    "         obtain an estimate of the generalisability of the model & variance of this estimate.\n",
    "\n",
    "         Inputs:\n",
    "          - model_name (str): name of the model that will exist as its index in the self.results df\n",
    "          - param_grid (dict): grid of hyperparameters to iterate through\n",
    "         \n",
    "         Returns:\n",
    "          - dict_scores_agg (dict[list]): dictionary containing the mean & std results for each model metric\n",
    "          - dict_scores_folds (dict[list]): dictionary containing the model metric results for each fold\n",
    "          - best_model: sklearn model of best performing model after gridsearch hyperparameter tuning\n",
    "        \"\"\"\n",
    "        with self._suppress_warnings_and_output():\n",
    "            model_grid_search = GridSearchCV(self.model, param_grid=param_grid, n_jobs=-1, scoring=self.metrics, refit=self.metrics[0], verbose=1)\n",
    "            # fit grid search on training data to extract best model\n",
    "            model_grid_search.fit(self.X_train, self.y_train)\n",
    "            best_model = model_grid_search.best_estimator_\n",
    "            # get nested CV scores for best model\n",
    "            dict_scores_agg = dict()\n",
    "            dict_scores_folds = dict()\n",
    "            # perform nested cv for each metric, storing results in dictionaries\n",
    "            for metric in self.metrics:\n",
    "                cv_results = cross_validate(model_grid_search, data, target, cv=self.cv, n_jobs=-1, scoring=metric)\n",
    "                scoring = cv_results['test_score']\n",
    "                dict_scores_agg[metric] = (scoring.mean(), scoring.std())\n",
    "                dict_scores_folds[metric] = scoring\n",
    "            # add results to dataframe for easy model comparison\n",
    "            self._add_model_results(dict_scores_agg, model_name)\n",
    "            return dict_scores_agg, dict_scores_folds, best_model\n",
    "    def randomised_search_cv_score(self, model_name: str, param_distributions: dict, n_iter: int):\n",
    "        \"\"\"\n",
    "         Fits a model with randomised_search to tune its hyperparameters. Then performs nested cross-validation to\n",
    "         obtain an estimate of the generalisability of the model & variance of this estimate.\n",
    "\n",
    "         Inputs:\n",
    "          - model_name (str): name of the model that will exist as its index in the self.results df\n",
    "          - param_distributions (dict): range of possible values each hyperparameter that can be sampled\n",
    "          - n_iter (int): number of iterations to run randomised_search (i.e. models to be fitted & evaluated)\n",
    "         \n",
    "         Returns:\n",
    "          - dict_scores_agg (dict[list]): dictionary containing the mean & std results for each model metric\n",
    "          - dict_scores_folds (dict[list]): dictionary containing the model metric results for each fold\n",
    "          - best_model: sklearn model of best performing model after gridsearch hyperparameter tuning\n",
    "        \"\"\"\n",
    "        with self._suppress_warnings_and_output():\n",
    "            model_random_search = RandomizedSearchCV(self.model, param_distributions=param_distributions, n_iter=n_iter, n_jobs=-1, scoring=self.metrics, refit=self.metrics[0], verbose=1)\n",
    "            # fit grid search on training data to extract best model\n",
    "            model_random_search.fit(self.X_train, self.y_train)\n",
    "            best_model = model_random_search.best_estimator_\n",
    "            # get nested CV scores for best model\n",
    "            dict_scores_agg = dict()\n",
    "            dict_scores_folds = dict()\n",
    "            # perform nested cv for each metric, storing results in dictionaries\n",
    "            for metric in self.metrics:\n",
    "                cv_results = cross_validate(model_random_search, data, target, cv=self.cv, n_jobs=-1, scoring=metric)\n",
    "                scoring = cv_results['test_score']\n",
    "                dict_scores_agg[metric] = (scoring.mean(), scoring.std())\n",
    "                dict_scores_folds[metric] = scoring\n",
    "            # add results to dataframe for easy model comparison    \n",
    "            self._add_model_results(dict_scores_agg, model_name)\n",
    "            return dict_scores_agg, dict_scores_folds, best_model"
   ]
  },
  {
   "cell_type": "markdown",
   "metadata": {},
   "source": [
    "### Linear model - Logistic Regression"
   ]
  },
  {
   "cell_type": "markdown",
   "metadata": {},
   "source": [
    "#### Estimating generalisability of untuned Logistic Regression model"
   ]
  },
  {
   "cell_type": "code",
   "execution_count": 20,
   "metadata": {},
   "outputs": [
    {
     "name": "stdout",
     "output_type": "stream",
     "text": [
      "The mean cross-validation balanced_accuracy score is: 0.707 ± 0.003\n",
      "The mean cross-validation f1_macro score is: 0.717 ± 0.004\n"
     ]
    }
   ],
   "source": [
    "psm_log = PlayerStatisticsModel(LogisticRegression(random_state=42), preprocessor, data, target, cv=4)\n",
    "log_cv_score_agg, log_cv_score = psm_log.cv_score(model_name='base_log_reg')\n",
    "psm_log.print_cv_results(log_cv_score_agg)"
   ]
  },
  {
   "cell_type": "markdown",
   "metadata": {},
   "source": [
    "#### Estimating generalisability of tuned Logistic Regression model with GridSearchCV"
   ]
  },
  {
   "cell_type": "code",
   "execution_count": 23,
   "metadata": {},
   "outputs": [
    {
     "name": "stdout",
     "output_type": "stream",
     "text": [
      "Fitting 5 folds for each of 120 candidates, totalling 600 fits\n",
      "Fitting 5 folds for each of 120 candidates, totalling 600 fits\n",
      "Fitting 5 folds for each of 120 candidates, totalling 600 fits\n",
      "Fitting 5 folds for each of 120 candidates, totalling 600 fits\n",
      "Fitting 5 folds for each of 120 candidates, totalling 600 fits\n",
      "Fitting 5 folds for each of 120 candidates, totalling 600 fits\n",
      "Fitting 5 folds for each of 120 candidates, totalling 600 fits\n",
      "Fitting 5 folds for each of 120 candidates, totalling 600 fits\n"
     ]
    }
   ],
   "source": [
    "param_grid = {\n",
    "    'model__penalty': ['l1', 'l2', 'elasticnet', 'none'],\n",
    "    'model__C': [0.01, 0.1, 1, 10, 100],\n",
    "    'model__solver': ['saga'],\n",
    "    'model__l1_ratio': [0, 0.5, 1],\n",
    "    'model__class_weight': [None, 'balanced']\n",
    "}\n",
    "\n",
    "log_gridsearch_cv_score_agg, log_gridsearch_cv_score, log_gridsearch_model = psm_log.grid_search_cv_score(param_grid=param_grid, model_name='gridsearch_log_reg')"
   ]
  },
  {
   "cell_type": "code",
   "execution_count": 24,
   "metadata": {},
   "outputs": [
    {
     "name": "stdout",
     "output_type": "stream",
     "text": [
      "The mean cross-validation balanced_accuracy score is: 0.748 ± 0.008\n",
      "The mean cross-validation f1_macro score is: 0.731 ± 0.015\n"
     ]
    }
   ],
   "source": [
    "psm_log.print_cv_results(log_gridsearch_cv_score_agg)"
   ]
  },
  {
   "cell_type": "markdown",
   "metadata": {},
   "source": [
    "* We observe a significant improvement in balanced_accuracy with GridSearchCV, and a slight improvement in f1_macro. Overall, the model performs better.  \n",
    "\n",
    "* However, there may exist unimportant parameters we tuned. We can turn to RandomisedSearchCV aswell."
   ]
  },
  {
   "cell_type": "markdown",
   "metadata": {},
   "source": [
    "#### Estimating generalisability of tuned Logistic Regression model with RandomizedSearchCV"
   ]
  },
  {
   "cell_type": "code",
   "execution_count": 26,
   "metadata": {},
   "outputs": [
    {
     "name": "stdout",
     "output_type": "stream",
     "text": [
      "Fitting 5 folds for each of 50 candidates, totalling 250 fits\n"
     ]
    },
    {
     "name": "stderr",
     "output_type": "stream",
     "text": [
      "/Users/danielliu/anaconda3/envs/positionn/lib/python3.12/site-packages/sklearn/linear_model/_logistic.py:1171: UserWarning: l1_ratio parameter is only used when penalty is 'elasticnet'. Got (penalty=l1)\n",
      "  warnings.warn(\n"
     ]
    },
    {
     "name": "stdout",
     "output_type": "stream",
     "text": [
      "Fitting 5 folds for each of 50 candidates, totalling 250 fits\n",
      "Fitting 5 folds for each of 50 candidates, totalling 250 fits\n",
      "Fitting 5 folds for each of 50 candidates, totalling 250 fits\n",
      "Fitting 5 folds for each of 50 candidates, totalling 250 fits\n",
      "Fitting 5 folds for each of 50 candidates, totalling 250 fits\n",
      "Fitting 5 folds for each of 50 candidates, totalling 250 fits\n",
      "Fitting 5 folds for each of 50 candidates, totalling 250 fits\n",
      "Fitting 5 folds for each of 50 candidates, totalling 250 fits\n"
     ]
    }
   ],
   "source": [
    "param_dist = {\n",
    "    'model__penalty': ['l1', 'l2', 'elasticnet', 'none'],\n",
    "    'model__C': loguniform(1e-3, 1e3),    # continuous sampling over [0.001, 1000]\n",
    "    'model__solver': ['saga'],\n",
    "    'model__l1_ratio': uniform(0, 1),    # continuous over [0,1]\n",
    "    'model__class_weight': [None, 'balanced']\n",
    "}\n",
    "\n",
    "log_randomsearch_cv_score_agg, log_randomsearch_cv_score, log_randomsearch_model = psm_log.randomised_search_cv_score(param_distributions=param_dist, n_iter=50, model_name='randomsearch_log_reg')"
   ]
  },
  {
   "cell_type": "code",
   "execution_count": 27,
   "metadata": {},
   "outputs": [
    {
     "name": "stdout",
     "output_type": "stream",
     "text": [
      "The mean cross-validation balanced_accuracy score is: 0.748 ± 0.007\n",
      "The mean cross-validation f1_macro score is: 0.732 ± 0.014\n"
     ]
    }
   ],
   "source": [
    "psm_log.print_cv_results(log_randomsearch_cv_score_agg)"
   ]
  },
  {
   "cell_type": "code",
   "execution_count": 28,
   "metadata": {},
   "outputs": [
    {
     "data": {
      "text/html": [
       "<div>\n",
       "<style scoped>\n",
       "    .dataframe tbody tr th:only-of-type {\n",
       "        vertical-align: middle;\n",
       "    }\n",
       "\n",
       "    .dataframe tbody tr th {\n",
       "        vertical-align: top;\n",
       "    }\n",
       "\n",
       "    .dataframe thead th {\n",
       "        text-align: right;\n",
       "    }\n",
       "</style>\n",
       "<table border=\"1\" class=\"dataframe\">\n",
       "  <thead>\n",
       "    <tr style=\"text-align: right;\">\n",
       "      <th></th>\n",
       "      <th>balanced_accuracy_mean</th>\n",
       "      <th>f1_macro_mean</th>\n",
       "      <th>balanced_accuracy_std</th>\n",
       "      <th>f1_macro_std</th>\n",
       "    </tr>\n",
       "  </thead>\n",
       "  <tbody>\n",
       "    <tr>\n",
       "      <th>base_log_reg</th>\n",
       "      <td>0.706726</td>\n",
       "      <td>0.717082</td>\n",
       "      <td>0.002877</td>\n",
       "      <td>0.003759</td>\n",
       "    </tr>\n",
       "    <tr>\n",
       "      <th>gridsearch_log_reg</th>\n",
       "      <td>0.748086</td>\n",
       "      <td>0.730542</td>\n",
       "      <td>0.007743</td>\n",
       "      <td>0.014869</td>\n",
       "    </tr>\n",
       "    <tr>\n",
       "      <th>randomsearch_log_reg</th>\n",
       "      <td>0.748416</td>\n",
       "      <td>0.732088</td>\n",
       "      <td>0.007393</td>\n",
       "      <td>0.014133</td>\n",
       "    </tr>\n",
       "  </tbody>\n",
       "</table>\n",
       "</div>"
      ],
      "text/plain": [
       "                      balanced_accuracy_mean  f1_macro_mean  \\\n",
       "base_log_reg                        0.706726       0.717082   \n",
       "gridsearch_log_reg                  0.748086       0.730542   \n",
       "randomsearch_log_reg                0.748416       0.732088   \n",
       "\n",
       "                      balanced_accuracy_std  f1_macro_std  \n",
       "base_log_reg                       0.002877      0.003759  \n",
       "gridsearch_log_reg                 0.007743      0.014869  \n",
       "randomsearch_log_reg               0.007393      0.014133  "
      ]
     },
     "execution_count": 28,
     "metadata": {},
     "output_type": "execute_result"
    }
   ],
   "source": [
    "psm_log.results"
   ]
  },
  {
   "cell_type": "markdown",
   "metadata": {},
   "source": [
    "**Which is the better linear model (tuned w/ GridSearchCV or RandomisedSearchCV)?**\n",
    "\n",
    "* We observe almost identical performance and variance in balanced_accuracy and f1_macro between the two models. However, the computational performance significantly improves with RandomisedSearchCV - which is important when we extend our dataset size.\n",
    "\n",
    "* Another way of comparing performance is by counting the number of folds each model performs better in."
   ]
  },
  {
   "cell_type": "code",
   "execution_count": 29,
   "metadata": {},
   "outputs": [
    {
     "data": {
      "image/png": "[encoded data removed]",
      "text/plain": [
       "<Figure size 600x500 with 1 Axes>"
      ]
     },
     "metadata": {},
     "output_type": "display_data"
    },
    {
     "data": {
      "image/png": "[encoded data removed]",
      "text/plain": [
       "<Figure size 600x500 with 1 Axes>"
      ]
     },
     "metadata": {},
     "output_type": "display_data"
    }
   ],
   "source": [
    "# plotting results from cv-folds for gridsearch and randomisedsearch logistic regression models\n",
    "fold_results = (log_gridsearch_cv_score, log_randomsearch_cv_score)\n",
    "label_names = ('LogReg w/ GridSearchCV', 'LogReg w/ RandomisedSearchCV')\n",
    "colors=('blue', 'red')\n",
    "psm_log.plot_fold_comparison(metric=psm_log.metrics[0], fold_results=fold_results, label_names=label_names, colors=colors)\n",
    "psm_log.plot_fold_comparison(metric=psm_log.metrics[1], fold_results=fold_results, label_names=label_names, colors=colors)"
   ]
  },
  {
   "cell_type": "markdown",
   "metadata": {},
   "source": [
    "**Which is the better linear model (tuned w/ GridSearchCV or RandomisedSearchCV)?**\n",
    "\n",
    "* We have further proof that there is little separating the linear models tuned with GridSearchCV and RandomisedSearchCV. For all the folds, GridSearchCV performs similarly to RandomisedSearchCV for both the bal_accuracy and f1_macro metrics.\n",
    "\n",
    "* Therefore, I will be proceeding with the RandomisedSearchCV tuned model since it is ~ 2.5x quicker."
   ]
  },
  {
   "cell_type": "markdown",
   "metadata": {},
   "source": [
    "### Tree Model - Decision Tree"
   ]
  },
  {
   "cell_type": "markdown",
   "metadata": {},
   "source": [
    "#### Estimating generalisability of untuned Logistic Regression model"
   ]
  },
  {
   "cell_type": "code",
   "execution_count": 30,
   "metadata": {},
   "outputs": [
    {
     "name": "stdout",
     "output_type": "stream",
     "text": [
      "The mean cross-validation balanced_accuracy score is: 0.613 ± 0.638\n",
      "The mean cross-validation f1_macro score is: 0.619 ± 0.640\n"
     ]
    }
   ],
   "source": [
    "psm_tree = PlayerStatisticsModel(DecisionTreeClassifier(random_state=42), preprocessor, data, target, cv=4)\n",
    "tree_cv_score_agg, tree_cv_score = psm_tree.cv_score(model_name='base_tree')\n",
    "psm_tree.print_cv_results(tree_cv_score)"
   ]
  },
  {
   "cell_type": "code",
   "execution_count": 31,
   "metadata": {},
   "outputs": [
    {
     "data": {
      "text/html": [
       "<div>\n",
       "<style scoped>\n",
       "    .dataframe tbody tr th:only-of-type {\n",
       "        vertical-align: middle;\n",
       "    }\n",
       "\n",
       "    .dataframe tbody tr th {\n",
       "        vertical-align: top;\n",
       "    }\n",
       "\n",
       "    .dataframe thead th {\n",
       "        text-align: right;\n",
       "    }\n",
       "</style>\n",
       "<table border=\"1\" class=\"dataframe\">\n",
       "  <thead>\n",
       "    <tr style=\"text-align: right;\">\n",
       "      <th></th>\n",
       "      <th>balanced_accuracy_mean</th>\n",
       "      <th>f1_macro_mean</th>\n",
       "      <th>balanced_accuracy_std</th>\n",
       "      <th>f1_macro_std</th>\n",
       "    </tr>\n",
       "  </thead>\n",
       "  <tbody>\n",
       "    <tr>\n",
       "      <th>base_log_reg</th>\n",
       "      <td>0.706726</td>\n",
       "      <td>0.717082</td>\n",
       "      <td>0.002877</td>\n",
       "      <td>0.003759</td>\n",
       "    </tr>\n",
       "    <tr>\n",
       "      <th>gridsearch_log_reg</th>\n",
       "      <td>0.748086</td>\n",
       "      <td>0.730542</td>\n",
       "      <td>0.007743</td>\n",
       "      <td>0.014869</td>\n",
       "    </tr>\n",
       "    <tr>\n",
       "      <th>randomsearch_log_reg</th>\n",
       "      <td>0.748416</td>\n",
       "      <td>0.732088</td>\n",
       "      <td>0.007393</td>\n",
       "      <td>0.014133</td>\n",
       "    </tr>\n",
       "    <tr>\n",
       "      <th>base_tree</th>\n",
       "      <td>0.621588</td>\n",
       "      <td>0.623614</td>\n",
       "      <td>0.019475</td>\n",
       "      <td>0.018481</td>\n",
       "    </tr>\n",
       "  </tbody>\n",
       "</table>\n",
       "</div>"
      ],
      "text/plain": [
       "                      balanced_accuracy_mean  f1_macro_mean  \\\n",
       "base_log_reg                        0.706726       0.717082   \n",
       "gridsearch_log_reg                  0.748086       0.730542   \n",
       "randomsearch_log_reg                0.748416       0.732088   \n",
       "base_tree                           0.621588       0.623614   \n",
       "\n",
       "                      balanced_accuracy_std  f1_macro_std  \n",
       "base_log_reg                       0.002877      0.003759  \n",
       "gridsearch_log_reg                 0.007743      0.014869  \n",
       "randomsearch_log_reg               0.007393      0.014133  \n",
       "base_tree                          0.019475      0.018481  "
      ]
     },
     "execution_count": 31,
     "metadata": {},
     "output_type": "execute_result"
    }
   ],
   "source": [
    "# compare results\n",
    "pd.concat([psm_log.results, psm_tree.results])"
   ]
  },
  {
   "cell_type": "markdown",
   "metadata": {},
   "source": [
    "* We observe the Tree has significantly worse performance in both balanced_accuracy and in f1_macro compared to all linear models. Perhaps the data is linearly separable, or the model is significantly overfitting. We need to make it simpler.\n",
    "\n",
    "* There are a few options we can take. Mainly, specifying a `max_depth` that controls the complexity of the tree (i.e. underfitting/overfitting). Specifying `min_samples_split`, `max_leaf_nodes`, and `min_samples_leaf` enables an asymmetric tree."
   ]
  },
  {
   "cell_type": "code",
   "execution_count": 32,
   "metadata": {},
   "outputs": [
    {
     "name": "stdout",
     "output_type": "stream",
     "text": [
      "Fitting 5 folds for each of 14 candidates, totalling 70 fits\n",
      "Fitting 5 folds for each of 14 candidates, totalling 70 fits\n",
      "Fitting 5 folds for each of 14 candidates, totalling 70 fits\n",
      "Fitting 5 folds for each of 14 candidates, totalling 70 fits\n",
      "Fitting 5 folds for each of 14 candidates, totalling 70 fits\n",
      "Fitting 5 folds for each of 14 candidates, totalling 70 fits\n",
      "Fitting 5 folds for each of 14 candidates, totalling 70 fits\n",
      "Fitting 5 folds for each of 14 candidates, totalling 70 fits\n"
     ]
    }
   ],
   "source": [
    "param_grid = {\"model__max_depth\": np.arange(2, 16, 1)}\n",
    "\n",
    "tree_gridsearch_cv_score_agg, tree_gridsearch_cv_score, tree_gridsearch_model = psm_tree.grid_search_cv_score(param_grid=param_grid, model_name='gridsearch_tree')"
   ]
  },
  {
   "cell_type": "code",
   "execution_count": 33,
   "metadata": {},
   "outputs": [
    {
     "name": "stdout",
     "output_type": "stream",
     "text": [
      "The mean cross-validation balanced_accuracy score is: 0.681 ± 0.013\n",
      "The mean cross-validation f1_macro score is: 0.690 ± 0.011\n"
     ]
    }
   ],
   "source": [
    "psm_tree.print_cv_results(tree_gridsearch_cv_score_agg)"
   ]
  },
  {
   "cell_type": "code",
   "execution_count": 34,
   "metadata": {},
   "outputs": [
    {
     "data": {
      "text/plain": [
       "[9]"
      ]
     },
     "execution_count": 34,
     "metadata": {},
     "output_type": "execute_result"
    }
   ],
   "source": [
    "# optimal max_depth\n",
    "[value for param, value in tree_gridsearch_model.get_params().items() if param == 'model__max_depth']"
   ]
  },
  {
   "cell_type": "markdown",
   "metadata": {},
   "source": [
    "* We observe there is a significant improvement in the model after making it simpler. However, it still underperforms relative to the linear models. Can we further improve performance by adjusting other hyperparameters to allow the tree to be asynmmetric?"
   ]
  },
  {
   "cell_type": "code",
   "execution_count": 35,
   "metadata": {},
   "outputs": [
    {
     "name": "stdout",
     "output_type": "stream",
     "text": [
      "Fitting 5 folds for each of 36 candidates, totalling 180 fits\n",
      "Fitting 5 folds for each of 36 candidates, totalling 180 fits\n",
      "Fitting 5 folds for each of 36 candidates, totalling 180 fits\n",
      "Fitting 5 folds for each of 36 candidates, totalling 180 fits\n",
      "Fitting 5 folds for each of 36 candidates, totalling 180 fits\n",
      "Fitting 5 folds for each of 36 candidates, totalling 180 fits\n",
      "Fitting 5 folds for each of 36 candidates, totalling 180 fits\n",
      "Fitting 5 folds for each of 36 candidates, totalling 180 fits\n"
     ]
    }
   ],
   "source": [
    "param_grid = {\"model__max_depth\": [9],\n",
    "                \"model__min_samples_split\": [2, 5, 10],\n",
    "                \"model__min_samples_leaf\": [1, 2, 4],\n",
    "                \"model__max_leaf_nodes\": [None, 10, 20, 50]}\n",
    "\n",
    "tree_all_gridsearch_cv_score_agg, tree_all_gridsearch_cv_score, tree_all_gridsearch_model = psm_tree.grid_search_cv_score(param_grid=param_grid, model_name='gridsearch_tree_all')"
   ]
  },
  {
   "cell_type": "code",
   "execution_count": 36,
   "metadata": {},
   "outputs": [
    {
     "name": "stdout",
     "output_type": "stream",
     "text": [
      "The mean cross-validation balanced_accuracy score is: 0.693 ± 0.006\n",
      "The mean cross-validation f1_macro score is: 0.700 ± 0.004\n"
     ]
    }
   ],
   "source": [
    "psm_tree.print_cv_results(tree_all_gridsearch_cv_score_agg)"
   ]
  },
  {
   "cell_type": "code",
   "execution_count": 37,
   "metadata": {},
   "outputs": [
    {
     "data": {
      "text/html": [
       "<div>\n",
       "<style scoped>\n",
       "    .dataframe tbody tr th:only-of-type {\n",
       "        vertical-align: middle;\n",
       "    }\n",
       "\n",
       "    .dataframe tbody tr th {\n",
       "        vertical-align: top;\n",
       "    }\n",
       "\n",
       "    .dataframe thead th {\n",
       "        text-align: right;\n",
       "    }\n",
       "</style>\n",
       "<table border=\"1\" class=\"dataframe\">\n",
       "  <thead>\n",
       "    <tr style=\"text-align: right;\">\n",
       "      <th></th>\n",
       "      <th>balanced_accuracy_mean</th>\n",
       "      <th>f1_macro_mean</th>\n",
       "      <th>balanced_accuracy_std</th>\n",
       "      <th>f1_macro_std</th>\n",
       "    </tr>\n",
       "  </thead>\n",
       "  <tbody>\n",
       "    <tr>\n",
       "      <th>base_log_reg</th>\n",
       "      <td>0.706726</td>\n",
       "      <td>0.717082</td>\n",
       "      <td>0.002877</td>\n",
       "      <td>0.003759</td>\n",
       "    </tr>\n",
       "    <tr>\n",
       "      <th>gridsearch_log_reg</th>\n",
       "      <td>0.748086</td>\n",
       "      <td>0.730542</td>\n",
       "      <td>0.007743</td>\n",
       "      <td>0.014869</td>\n",
       "    </tr>\n",
       "    <tr>\n",
       "      <th>randomsearch_log_reg</th>\n",
       "      <td>0.748416</td>\n",
       "      <td>0.732088</td>\n",
       "      <td>0.007393</td>\n",
       "      <td>0.014133</td>\n",
       "    </tr>\n",
       "    <tr>\n",
       "      <th>base_tree</th>\n",
       "      <td>0.621588</td>\n",
       "      <td>0.623614</td>\n",
       "      <td>0.019475</td>\n",
       "      <td>0.018481</td>\n",
       "    </tr>\n",
       "    <tr>\n",
       "      <th>gridsearch_tree</th>\n",
       "      <td>0.681473</td>\n",
       "      <td>0.689880</td>\n",
       "      <td>0.013314</td>\n",
       "      <td>0.011472</td>\n",
       "    </tr>\n",
       "    <tr>\n",
       "      <th>gridsearch_tree_all</th>\n",
       "      <td>0.693059</td>\n",
       "      <td>0.699858</td>\n",
       "      <td>0.006201</td>\n",
       "      <td>0.004330</td>\n",
       "    </tr>\n",
       "  </tbody>\n",
       "</table>\n",
       "</div>"
      ],
      "text/plain": [
       "                      balanced_accuracy_mean  f1_macro_mean  \\\n",
       "base_log_reg                        0.706726       0.717082   \n",
       "gridsearch_log_reg                  0.748086       0.730542   \n",
       "randomsearch_log_reg                0.748416       0.732088   \n",
       "base_tree                           0.621588       0.623614   \n",
       "gridsearch_tree                     0.681473       0.689880   \n",
       "gridsearch_tree_all                 0.693059       0.699858   \n",
       "\n",
       "                      balanced_accuracy_std  f1_macro_std  \n",
       "base_log_reg                       0.002877      0.003759  \n",
       "gridsearch_log_reg                 0.007743      0.014869  \n",
       "randomsearch_log_reg               0.007393      0.014133  \n",
       "base_tree                          0.019475      0.018481  \n",
       "gridsearch_tree                    0.013314      0.011472  \n",
       "gridsearch_tree_all                0.006201      0.004330  "
      ]
     },
     "execution_count": 37,
     "metadata": {},
     "output_type": "execute_result"
    }
   ],
   "source": [
    "# compare results\n",
    "pd.concat([psm_log.results, psm_tree.results])"
   ]
  },
  {
   "cell_type": "markdown",
   "metadata": {},
   "source": [
    "* We observe a slight improvement in both `balanced_accuracy` and `f1_macro` after allowing for the creation of an asymmetric tree. However, the model still performs poorly compared to the linear models.\n",
    "\n",
    "* We can further compare the folds between the best linear model (logistic regression with randomsearch) and best tree (asymmetric decision tree)."
   ]
  },
  {
   "cell_type": "code",
   "execution_count": 38,
   "metadata": {},
   "outputs": [
    {
     "data": {
      "image/png": "[encoded data removed]",
      "text/plain": [
       "<Figure size 600x500 with 1 Axes>"
      ]
     },
     "metadata": {},
     "output_type": "display_data"
    },
    {
     "data": {
      "image/png": "[encoded data removed]",
      "text/plain": [
       "<Figure size 600x500 with 1 Axes>"
      ]
     },
     "metadata": {},
     "output_type": "display_data"
    }
   ],
   "source": [
    "# plotting results from cv-folds for gridsearch and randomisedsearch logistic regression models\n",
    "fold_results = (tree_all_gridsearch_cv_score, log_randomsearch_cv_score)\n",
    "label_names = ('Asymmetric Tuned Tree', 'LogReg w/ RandomisedSearchCV')\n",
    "colors=('blue', 'red')\n",
    "psm_tree.plot_fold_comparison(metric=psm_tree.metrics[0], fold_results=fold_results, label_names=label_names, colors=colors)\n",
    "psm_tree.plot_fold_comparison(metric=psm_tree.metrics[1], fold_results=fold_results, label_names=label_names, colors=colors)"
   ]
  },
  {
   "cell_type": "markdown",
   "metadata": {},
   "source": [
    "* The visualisation suggests the best model is still logistic regression tuned with randomsearch as all 4 folds perform better in both the `balanced_accuracy` and `f1_macro` metrics."
   ]
  },
  {
   "cell_type": "markdown",
   "metadata": {},
   "source": [
    "### Comparison of folds between best Logistic Regression & Decision Tree models"
   ]
  },
  {
   "cell_type": "code",
   "execution_count": null,
   "metadata": {},
   "outputs": [],
   "source": []
  },
  {
   "cell_type": "markdown",
   "metadata": {},
   "source": [
    "### Histogram-based Gradient Boosting Classification Tree"
   ]
  },
  {
   "cell_type": "code",
   "execution_count": null,
   "metadata": {},
   "outputs": [
    {
     "name": "stdout",
     "output_type": "stream",
     "text": [
      "The mean cross-validation balanced_accuracy score is: 0.683 ± 0.038\n",
      "The mean cross-validation f1_macro score is: 0.648 ± 0.090\n"
     ]
    }
   ],
   "source": [
    "# define pipeline\n",
    "hist_model = Pipeline(\n",
    "    steps=[\n",
    "        (\"preprocessor\", preprocessor),\n",
    "        (\"linear_classifier\", HistGradientBoostingClassifier())\n",
    "    ]\n",
    ")\n",
    "\n",
    "# defining evaluation metrics\n",
    "scoring_bal = \"balanced_accuracy\"\n",
    "scoring_f1 = \"f1_macro\"\n",
    "\n",
    "# obtain initial estimate of variance of generalisability of model\n",
    "cv_results = cross_validate(hist_model, data, target, cv=5, scoring=scoring_bal)\n",
    "hist_scoring_cv_bal = cv_results['test_score']\n",
    "print(\n",
    "    f\"The mean cross-validation {scoring_bal} score is: \"\n",
    "    f\"{hist_scoring_cv_bal.mean():.3f} ± {hist_scoring_cv_bal.std():.3f}\"\n",
    ")\n",
    "\n",
    "# obtain initial estimate of variance of generalisability of model\n",
    "cv_results = cross_validate(hist_model, data, target, cv=5, scoring=scoring_f1)\n",
    "hist_scoring_cv_f1 = cv_results['test_score']\n",
    "print(\n",
    "    f\"The mean cross-validation {scoring_f1} score is: \"\n",
    "    f\"{hist_scoring_cv_f1.mean():.3f} ± {hist_scoring_cv_f1.std():.3f}\"\n",
    ")"
   ]
  },
  {
   "cell_type": "markdown",
   "metadata": {},
   "source": [
    "* We observe the Gradient Boosting Classifier has significantly worse performance in both balanced_accuracy and in f1_macro compared to the linear model. Perhaps the data is linearly separable, or the model is significantly overfitting. Need to make it simpler."
   ]
  },
  {
   "cell_type": "code",
   "execution_count": null,
   "metadata": {},
   "outputs": [],
   "source": []
  },
  {
   "cell_type": "code",
   "execution_count": null,
   "metadata": {},
   "outputs": [],
   "source": []
  },
  {
   "cell_type": "code",
   "execution_count": null,
   "metadata": {},
   "outputs": [],
   "source": []
  },
  {
   "cell_type": "markdown",
   "metadata": {},
   "source": [
    "### Best Model: Random Forest"
   ]
  },
  {
   "cell_type": "code",
   "execution_count": null,
   "metadata": {},
   "outputs": [
    {
     "name": "stderr",
     "output_type": "stream",
     "text": [
      "/Users/danielliu/anaconda3/envs/positionn/lib/python3.12/site-packages/sklearn/preprocessing/_encoders.py:972: FutureWarning: `sparse` was renamed to `sparse_output` in version 1.2 and will be removed in 1.4. `sparse_output` is ignored unless you leave `sparse` to its default value.\n",
      "  warnings.warn(\n"
     ]
    }
   ],
   "source": [
    "# Obtain predictors and response\n",
    "player_predictors = player_statistics.drop(['player', 'pos'], axis = 1)\n",
    "player_response = player_statistics['pos']\n",
    "\n",
    "# Convert into 2D array with shape (n, 1)\n",
    "player_response = np.array(player_response).reshape(-1, 1)\n",
    "\n",
    "# Encode player response to be numeric\n",
    "ohe = OneHotEncoder(sparse=False, categories='auto')\n",
    "enc_player_response = ohe.fit_transform(player_response)\n",
    "\n",
    "# Obtain training/test split\n",
    "X_train, X_test, y_train, y_test = train_test_split(player_predictors,\n",
    "                                                    enc_player_response,\n",
    "                                                    train_size=0.75)"
   ]
  },
  {
   "cell_type": "code",
   "execution_count": null,
   "metadata": {},
   "outputs": [
    {
     "data": {
      "text/html": [
       "<style>#sk-container-id-3 {color: black;}#sk-container-id-3 pre{padding: 0;}#sk-container-id-3 div.sk-toggleable {background-color: white;}#sk-container-id-3 label.sk-toggleable__label {cursor: pointer;display: block;width: 100%;margin-bottom: 0;padding: 0.3em;box-sizing: border-box;text-align: center;}#sk-container-id-3 label.sk-toggleable__label-arrow:before {content: \"▸\";float: left;margin-right: 0.25em;color: #696969;}#sk-container-id-3 label.sk-toggleable__label-arrow:hover:before {color: black;}#sk-container-id-3 div.sk-estimator:hover label.sk-toggleable__label-arrow:before {color: black;}#sk-container-id-3 div.sk-toggleable__content {max-height: 0;max-width: 0;overflow: hidden;text-align: left;background-color: #f0f8ff;}#sk-container-id-3 div.sk-toggleable__content pre {margin: 0.2em;color: black;border-radius: 0.25em;background-color: #f0f8ff;}#sk-container-id-3 input.sk-toggleable__control:checked~div.sk-toggleable__content {max-height: 200px;max-width: 100%;overflow: auto;}#sk-container-id-3 input.sk-toggleable__control:checked~label.sk-toggleable__label-arrow:before {content: \"▾\";}#sk-container-id-3 div.sk-estimator input.sk-toggleable__control:checked~label.sk-toggleable__label {background-color: #d4ebff;}#sk-container-id-3 div.sk-label input.sk-toggleable__control:checked~label.sk-toggleable__label {background-color: #d4ebff;}#sk-container-id-3 input.sk-hidden--visually {border: 0;clip: rect(1px 1px 1px 1px);clip: rect(1px, 1px, 1px, 1px);height: 1px;margin: -1px;overflow: hidden;padding: 0;position: absolute;width: 1px;}#sk-container-id-3 div.sk-estimator {font-family: monospace;background-color: #f0f8ff;border: 1px dotted black;border-radius: 0.25em;box-sizing: border-box;margin-bottom: 0.5em;}#sk-container-id-3 div.sk-estimator:hover {background-color: #d4ebff;}#sk-container-id-3 div.sk-parallel-item::after {content: \"\";width: 100%;border-bottom: 1px solid gray;flex-grow: 1;}#sk-container-id-3 div.sk-label:hover label.sk-toggleable__label {background-color: #d4ebff;}#sk-container-id-3 div.sk-serial::before {content: \"\";position: absolute;border-left: 1px solid gray;box-sizing: border-box;top: 0;bottom: 0;left: 50%;z-index: 0;}#sk-container-id-3 div.sk-serial {display: flex;flex-direction: column;align-items: center;background-color: white;padding-right: 0.2em;padding-left: 0.2em;position: relative;}#sk-container-id-3 div.sk-item {position: relative;z-index: 1;}#sk-container-id-3 div.sk-parallel {display: flex;align-items: stretch;justify-content: center;background-color: white;position: relative;}#sk-container-id-3 div.sk-item::before, #sk-container-id-3 div.sk-parallel-item::before {content: \"\";position: absolute;border-left: 1px solid gray;box-sizing: border-box;top: 0;bottom: 0;left: 50%;z-index: -1;}#sk-container-id-3 div.sk-parallel-item {display: flex;flex-direction: column;z-index: 1;position: relative;background-color: white;}#sk-container-id-3 div.sk-parallel-item:first-child::after {align-self: flex-end;width: 50%;}#sk-container-id-3 div.sk-parallel-item:last-child::after {align-self: flex-start;width: 50%;}#sk-container-id-3 div.sk-parallel-item:only-child::after {width: 0;}#sk-container-id-3 div.sk-dashed-wrapped {border: 1px dashed gray;margin: 0 0.4em 0.5em 0.4em;box-sizing: border-box;padding-bottom: 0.4em;background-color: white;}#sk-container-id-3 div.sk-label label {font-family: monospace;font-weight: bold;display: inline-block;line-height: 1.2em;}#sk-container-id-3 div.sk-label-container {text-align: center;}#sk-container-id-3 div.sk-container {/* jupyter's `normalize.less` sets `[hidden] { display: none; }` but bootstrap.min.css set `[hidden] { display: none !important; }` so we also need the `!important` here to be able to override the default hidden behavior on the sphinx rendered scikit-learn.org. See: https://github.com/scikit-learn/scikit-learn/issues/21755 */display: inline-block !important;position: relative;}#sk-container-id-3 div.sk-text-repr-fallback {display: none;}</style><div id=\"sk-container-id-3\" class=\"sk-top-container\"><div class=\"sk-text-repr-fallback\"><pre>GridSearchCV(cv=3,\n",
       "             estimator=Pipeline(steps=[(&#x27;standardscaler&#x27;, StandardScaler()),\n",
       "                                       (&#x27;randomforestclassifier&#x27;,\n",
       "                                        RandomForestClassifier(n_estimators=500,\n",
       "                                                               random_state=0))]),\n",
       "             n_jobs=-1,\n",
       "             param_grid={&#x27;randomforestclassifier__bootstrap&#x27;: [True, False],\n",
       "                         &#x27;randomforestclassifier__max_depth&#x27;: [10, 20, 25],\n",
       "                         &#x27;randomforestclassifier__min_samples_leaf&#x27;: [3, 4, 5,\n",
       "                                                                      6]})</pre><b>In a Jupyter environment, please rerun this cell to show the HTML representation or trust the notebook. <br />On GitHub, the HTML representation is unable to render, please try loading this page with nbviewer.org.</b></div><div class=\"sk-container\" hidden><div class=\"sk-item sk-dashed-wrapped\"><div class=\"sk-label-container\"><div class=\"sk-label sk-toggleable\"><input class=\"sk-toggleable__control sk-hidden--visually\" id=\"sk-estimator-id-9\" type=\"checkbox\" ><label for=\"sk-estimator-id-9\" class=\"sk-toggleable__label sk-toggleable__label-arrow\">GridSearchCV</label><div class=\"sk-toggleable__content\"><pre>GridSearchCV(cv=3,\n",
       "             estimator=Pipeline(steps=[(&#x27;standardscaler&#x27;, StandardScaler()),\n",
       "                                       (&#x27;randomforestclassifier&#x27;,\n",
       "                                        RandomForestClassifier(n_estimators=500,\n",
       "                                                               random_state=0))]),\n",
       "             n_jobs=-1,\n",
       "             param_grid={&#x27;randomforestclassifier__bootstrap&#x27;: [True, False],\n",
       "                         &#x27;randomforestclassifier__max_depth&#x27;: [10, 20, 25],\n",
       "                         &#x27;randomforestclassifier__min_samples_leaf&#x27;: [3, 4, 5,\n",
       "                                                                      6]})</pre></div></div></div><div class=\"sk-parallel\"><div class=\"sk-parallel-item\"><div class=\"sk-item\"><div class=\"sk-label-container\"><div class=\"sk-label sk-toggleable\"><input class=\"sk-toggleable__control sk-hidden--visually\" id=\"sk-estimator-id-10\" type=\"checkbox\" ><label for=\"sk-estimator-id-10\" class=\"sk-toggleable__label sk-toggleable__label-arrow\">estimator: Pipeline</label><div class=\"sk-toggleable__content\"><pre>Pipeline(steps=[(&#x27;standardscaler&#x27;, StandardScaler()),\n",
       "                (&#x27;randomforestclassifier&#x27;,\n",
       "                 RandomForestClassifier(n_estimators=500, random_state=0))])</pre></div></div></div><div class=\"sk-serial\"><div class=\"sk-item\"><div class=\"sk-serial\"><div class=\"sk-item\"><div class=\"sk-estimator sk-toggleable\"><input class=\"sk-toggleable__control sk-hidden--visually\" id=\"sk-estimator-id-11\" type=\"checkbox\" ><label for=\"sk-estimator-id-11\" class=\"sk-toggleable__label sk-toggleable__label-arrow\">StandardScaler</label><div class=\"sk-toggleable__content\"><pre>StandardScaler()</pre></div></div></div><div class=\"sk-item\"><div class=\"sk-estimator sk-toggleable\"><input class=\"sk-toggleable__control sk-hidden--visually\" id=\"sk-estimator-id-12\" type=\"checkbox\" ><label for=\"sk-estimator-id-12\" class=\"sk-toggleable__label sk-toggleable__label-arrow\">RandomForestClassifier</label><div class=\"sk-toggleable__content\"><pre>RandomForestClassifier(n_estimators=500, random_state=0)</pre></div></div></div></div></div></div></div></div></div></div></div></div>"
      ],
      "text/plain": [
       "GridSearchCV(cv=3,\n",
       "             estimator=Pipeline(steps=[('standardscaler', StandardScaler()),\n",
       "                                       ('randomforestclassifier',\n",
       "                                        RandomForestClassifier(n_estimators=500,\n",
       "                                                               random_state=0))]),\n",
       "             n_jobs=-1,\n",
       "             param_grid={'randomforestclassifier__bootstrap': [True, False],\n",
       "                         'randomforestclassifier__max_depth': [10, 20, 25],\n",
       "                         'randomforestclassifier__min_samples_leaf': [3, 4, 5,\n",
       "                                                                      6]})"
      ]
     },
     "execution_count": 140,
     "metadata": {},
     "output_type": "execute_result"
    }
   ],
   "source": [
    "rfc_pipeline = make_pipeline(StandardScaler(),\n",
    "                             RandomForestClassifier(n_estimators=500, \n",
    "                                                    random_state=0))\n",
    "\n",
    "# Define dictionary of {'param': [values_to_try]} with __ for pipeline\n",
    "param_grid = {\n",
    "    'randomforestclassifier__max_depth': [10, 20, 25],\n",
    "    'randomforestclassifier__min_samples_leaf': [3, 4, 5, 6],\n",
    "    'randomforestclassifier__bootstrap': [True, False]\n",
    "}\n",
    "\n",
    "rfc_grid = GridSearchCV(estimator=rfc_pipeline,\n",
    "                    param_grid=param_grid,\n",
    "                    cv = 3,\n",
    "                    refit=True,\n",
    "                    n_jobs = -1\n",
    "                    )\n",
    "\n",
    "rfc_grid.fit(X_train, y_train)"
   ]
  },
  {
   "cell_type": "code",
   "execution_count": null,
   "metadata": {},
   "outputs": [
    {
     "data": {
      "text/plain": [
       "{'randomforestclassifier__bootstrap': True,\n",
       " 'randomforestclassifier__max_depth': 20,\n",
       " 'randomforestclassifier__min_samples_leaf': 6}"
      ]
     },
     "execution_count": 141,
     "metadata": {},
     "output_type": "execute_result"
    }
   ],
   "source": [
    "rfc_grid.best_params_"
   ]
  },
  {
   "cell_type": "code",
   "execution_count": null,
   "metadata": {},
   "outputs": [
    {
     "name": "stdout",
     "output_type": "stream",
     "text": [
      "Accuracy: 0.7486055010578957\n"
     ]
    }
   ],
   "source": [
    "# Accuracy\n",
    "y_pred = rfc_grid.predict(X_test)\n",
    "accuracy = accuracy_score(y_test, y_pred)\n",
    "print('Accuracy:', accuracy)"
   ]
  },
  {
   "cell_type": "code",
   "execution_count": null,
   "metadata": {},
   "outputs": [
    {
     "data": {
      "text/plain": [
       "array([['F']], dtype=object)"
      ]
     },
     "execution_count": 143,
     "metadata": {},
     "output_type": "execute_result"
    }
   ],
   "source": [
    "# Transform back to obtain prediction\n",
    "y_pred = rfc_grid.predict(X_test)\n",
    "ohe.inverse_transform(y_pred[2].reshape(1, 3))"
   ]
  },
  {
   "cell_type": "markdown",
   "metadata": {},
   "source": [
    "### Best model from CV\n",
    "\n",
    "Apply test data to the best performing model according to CV"
   ]
  },
  {
   "cell_type": "markdown",
   "metadata": {},
   "source": [
    "### Retrain model on full dataset\n",
    "\n",
    "Finally, I will retrain the model on the full dataset (training & validation sets) to help the model learn from as much data as possible."
   ]
  },
  {
   "cell_type": "code",
   "execution_count": null,
   "metadata": {},
   "outputs": [],
   "source": [
    "# Export model\n",
    "#pickle.dump(rfc_grid, open(os.path.join(\"models\", \"stats_rf.sav\"), \"wb\"))\n",
    "#pickle.dump(ohe, open(os.path.join(\"models\", \"stats_ohe.sav\"), \"wb\"))"
   ]
  },
  {
   "cell_type": "markdown",
   "metadata": {},
   "source": [
    "# Making predictions"
   ]
  },
  {
   "cell_type": "code",
   "execution_count": null,
   "metadata": {},
   "outputs": [
    {
     "name": "stderr",
     "output_type": "stream",
     "text": [
      "/Users/danielliu/anaconda3/envs/positionn/lib/python3.12/site-packages/sklearn/base.py:464: UserWarning: X does not have valid feature names, but StandardScaler was fitted with feature names\n",
      "  warnings.warn(\n",
      "/Users/danielliu/anaconda3/envs/positionn/lib/python3.12/site-packages/sklearn/base.py:464: UserWarning: X does not have valid feature names, but StandardScaler was fitted with feature names\n",
      "  warnings.warn(\n"
     ]
    }
   ],
   "source": [
    "def load_model(model):\n",
    "    return pickle.load(open(model, 'rb'))\n",
    "stats_predictor = load_model(os.path.join(\"models\", \"stats_rf.sav\"))\n",
    "stats_ohe_predictor = load_model(os.path.join(\"models\", \"stats_ohe.sav\"))\n",
    "\n",
    "# Example inputs\n",
    "input_features = (np.array([[20, 10, 10, 1, 1, 31, 2000]]))\n",
    "stats_predictor.predict(input_features)\n",
    "predicted_pos = stats_ohe_predictor.inverse_transform(stats_predictor.predict(input_features))[0][0]   # obtain prediction using models"
   ]
  },
  {
   "cell_type": "code",
   "execution_count": null,
   "metadata": {},
   "outputs": [
    {
     "data": {
      "text/plain": [
       "'F'"
      ]
     },
     "execution_count": 4,
     "metadata": {},
     "output_type": "execute_result"
    }
   ],
   "source": [
    "predicted_pos"
   ]
  },
  {
   "cell_type": "markdown",
   "metadata": {},
   "source": [
    "# Testing Player Similiarity Model\n",
    "\n",
    "The model that finds the most similar active NBA player is in `similar_player_statistics.py`"
   ]
  },
  {
   "cell_type": "markdown",
   "metadata": {},
   "source": [
    "### Create new dataset that contains all active player statistics"
   ]
  },
  {
   "cell_type": "code",
   "execution_count": null,
   "metadata": {},
   "outputs": [
    {
     "data": {
      "text/html": [
       "<div>\n",
       "<style scoped>\n",
       "    .dataframe tbody tr th:only-of-type {\n",
       "        vertical-align: middle;\n",
       "    }\n",
       "\n",
       "    .dataframe tbody tr th {\n",
       "        vertical-align: top;\n",
       "    }\n",
       "\n",
       "    .dataframe thead th {\n",
       "        text-align: right;\n",
       "    }\n",
       "</style>\n",
       "<table border=\"1\" class=\"dataframe\">\n",
       "  <thead>\n",
       "    <tr style=\"text-align: right;\">\n",
       "      <th></th>\n",
       "      <th>Unnamed: 0</th>\n",
       "      <th>player</th>\n",
       "      <th>pos</th>\n",
       "      <th>pts</th>\n",
       "      <th>ast</th>\n",
       "      <th>trb</th>\n",
       "      <th>stl</th>\n",
       "      <th>blk</th>\n",
       "      <th>age</th>\n",
       "      <th>year</th>\n",
       "    </tr>\n",
       "  </thead>\n",
       "  <tbody>\n",
       "    <tr>\n",
       "      <th>20791</th>\n",
       "      <td>20791</td>\n",
       "      <td>Cody Zeller</td>\n",
       "      <td>F</td>\n",
       "      <td>10.31</td>\n",
       "      <td>1.60</td>\n",
       "      <td>6.53</td>\n",
       "      <td>1.00</td>\n",
       "      <td>0.94</td>\n",
       "      <td>24.0</td>\n",
       "      <td>2017.0</td>\n",
       "    </tr>\n",
       "    <tr>\n",
       "      <th>20792</th>\n",
       "      <td>20792</td>\n",
       "      <td>Tyler Zeller</td>\n",
       "      <td>C</td>\n",
       "      <td>3.49</td>\n",
       "      <td>0.82</td>\n",
       "      <td>2.43</td>\n",
       "      <td>0.14</td>\n",
       "      <td>0.41</td>\n",
       "      <td>27.0</td>\n",
       "      <td>2017.0</td>\n",
       "    </tr>\n",
       "    <tr>\n",
       "      <th>20793</th>\n",
       "      <td>20793</td>\n",
       "      <td>Stephen Zimmerman</td>\n",
       "      <td>C</td>\n",
       "      <td>1.21</td>\n",
       "      <td>0.21</td>\n",
       "      <td>1.84</td>\n",
       "      <td>0.11</td>\n",
       "      <td>0.26</td>\n",
       "      <td>20.0</td>\n",
       "      <td>2017.0</td>\n",
       "    </tr>\n",
       "    <tr>\n",
       "      <th>20794</th>\n",
       "      <td>20794</td>\n",
       "      <td>Paul Zipser</td>\n",
       "      <td>F</td>\n",
       "      <td>5.45</td>\n",
       "      <td>0.82</td>\n",
       "      <td>2.84</td>\n",
       "      <td>0.34</td>\n",
       "      <td>0.36</td>\n",
       "      <td>22.0</td>\n",
       "      <td>2017.0</td>\n",
       "    </tr>\n",
       "    <tr>\n",
       "      <th>20795</th>\n",
       "      <td>20795</td>\n",
       "      <td>Ivica Zubac</td>\n",
       "      <td>C</td>\n",
       "      <td>7.47</td>\n",
       "      <td>0.79</td>\n",
       "      <td>4.18</td>\n",
       "      <td>0.37</td>\n",
       "      <td>0.87</td>\n",
       "      <td>19.0</td>\n",
       "      <td>2017.0</td>\n",
       "    </tr>\n",
       "  </tbody>\n",
       "</table>\n",
       "</div>"
      ],
      "text/plain": [
       "       Unnamed: 0             player pos    pts   ast   trb   stl   blk   age  \\\n",
       "20791       20791        Cody Zeller   F  10.31  1.60  6.53  1.00  0.94  24.0   \n",
       "20792       20792       Tyler Zeller   C   3.49  0.82  2.43  0.14  0.41  27.0   \n",
       "20793       20793  Stephen Zimmerman   C   1.21  0.21  1.84  0.11  0.26  20.0   \n",
       "20794       20794        Paul Zipser   F   5.45  0.82  2.84  0.34  0.36  22.0   \n",
       "20795       20795        Ivica Zubac   C   7.47  0.79  4.18  0.37  0.87  19.0   \n",
       "\n",
       "         year  \n",
       "20791  2017.0  \n",
       "20792  2017.0  \n",
       "20793  2017.0  \n",
       "20794  2017.0  \n",
       "20795  2017.0  "
      ]
     },
     "execution_count": 105,
     "metadata": {},
     "output_type": "execute_result"
    }
   ],
   "source": [
    "player_statistics_processed.tail()"
   ]
  },
  {
   "cell_type": "code",
   "execution_count": null,
   "metadata": {},
   "outputs": [
    {
     "data": {
      "text/html": [
       "<div>\n",
       "<style scoped>\n",
       "    .dataframe tbody tr th:only-of-type {\n",
       "        vertical-align: middle;\n",
       "    }\n",
       "\n",
       "    .dataframe tbody tr th {\n",
       "        vertical-align: top;\n",
       "    }\n",
       "\n",
       "    .dataframe thead th {\n",
       "        text-align: right;\n",
       "    }\n",
       "</style>\n",
       "<table border=\"1\" class=\"dataframe\">\n",
       "  <thead>\n",
       "    <tr style=\"text-align: right;\">\n",
       "      <th></th>\n",
       "      <th>playerid</th>\n",
       "      <th>fname</th>\n",
       "      <th>lname</th>\n",
       "      <th>position</th>\n",
       "      <th>height</th>\n",
       "      <th>weight</th>\n",
       "      <th>BMI</th>\n",
       "    </tr>\n",
       "  </thead>\n",
       "  <tbody>\n",
       "    <tr>\n",
       "      <th>543</th>\n",
       "      <td>201152</td>\n",
       "      <td>Thaddeus</td>\n",
       "      <td>Young</td>\n",
       "      <td>F</td>\n",
       "      <td>203.20</td>\n",
       "      <td>106.594207</td>\n",
       "      <td>25.815836</td>\n",
       "    </tr>\n",
       "    <tr>\n",
       "      <th>544</th>\n",
       "      <td>1629027</td>\n",
       "      <td>Trae</td>\n",
       "      <td>Young</td>\n",
       "      <td>G</td>\n",
       "      <td>185.42</td>\n",
       "      <td>74.389149</td>\n",
       "      <td>21.636970</td>\n",
       "    </tr>\n",
       "    <tr>\n",
       "      <th>545</th>\n",
       "      <td>1630209</td>\n",
       "      <td>Omer</td>\n",
       "      <td>Yurtseven</td>\n",
       "      <td>C</td>\n",
       "      <td>210.82</td>\n",
       "      <td>124.737902</td>\n",
       "      <td>28.065631</td>\n",
       "    </tr>\n",
       "    <tr>\n",
       "      <th>546</th>\n",
       "      <td>203469</td>\n",
       "      <td>Cody</td>\n",
       "      <td>Zeller</td>\n",
       "      <td>F</td>\n",
       "      <td>210.82</td>\n",
       "      <td>108.862169</td>\n",
       "      <td>24.493642</td>\n",
       "    </tr>\n",
       "    <tr>\n",
       "      <th>547</th>\n",
       "      <td>1627826</td>\n",
       "      <td>Ivica</td>\n",
       "      <td>Zubac</td>\n",
       "      <td>C</td>\n",
       "      <td>213.36</td>\n",
       "      <td>108.862169</td>\n",
       "      <td>23.913931</td>\n",
       "    </tr>\n",
       "  </tbody>\n",
       "</table>\n",
       "</div>"
      ],
      "text/plain": [
       "     playerid     fname      lname position  height      weight        BMI\n",
       "543    201152  Thaddeus      Young        F  203.20  106.594207  25.815836\n",
       "544   1629027      Trae      Young        G  185.42   74.389149  21.636970\n",
       "545   1630209      Omer  Yurtseven        C  210.82  124.737902  28.065631\n",
       "546    203469      Cody     Zeller        F  210.82  108.862169  24.493642\n",
       "547   1627826     Ivica      Zubac        C  213.36  108.862169  23.913931"
      ]
     },
     "execution_count": 106,
     "metadata": {},
     "output_type": "execute_result"
    }
   ],
   "source": [
    "active_players_processed.tail()"
   ]
  },
  {
   "cell_type": "code",
   "execution_count": null,
   "metadata": {},
   "outputs": [],
   "source": [
    "# Concatenate first and last names in active players\n",
    "active_players_concat = active_players_processed.copy()\n",
    "active_players_concat['fullname'] = active_players_processed['fname'] + ' ' + active_players_processed['lname']\n"
   ]
  },
  {
   "cell_type": "code",
   "execution_count": null,
   "metadata": {},
   "outputs": [
    {
     "data": {
      "text/html": [
       "<div>\n",
       "<style scoped>\n",
       "    .dataframe tbody tr th:only-of-type {\n",
       "        vertical-align: middle;\n",
       "    }\n",
       "\n",
       "    .dataframe tbody tr th {\n",
       "        vertical-align: top;\n",
       "    }\n",
       "\n",
       "    .dataframe thead th {\n",
       "        text-align: right;\n",
       "    }\n",
       "</style>\n",
       "<table border=\"1\" class=\"dataframe\">\n",
       "  <thead>\n",
       "    <tr style=\"text-align: right;\">\n",
       "      <th></th>\n",
       "      <th>playerid</th>\n",
       "      <th>fname</th>\n",
       "      <th>lname</th>\n",
       "      <th>position</th>\n",
       "      <th>height</th>\n",
       "      <th>weight</th>\n",
       "      <th>BMI</th>\n",
       "      <th>fullname</th>\n",
       "    </tr>\n",
       "  </thead>\n",
       "  <tbody>\n",
       "    <tr>\n",
       "      <th>0</th>\n",
       "      <td>1630173</td>\n",
       "      <td>Precious</td>\n",
       "      <td>Achiuwa</td>\n",
       "      <td>F</td>\n",
       "      <td>203.20</td>\n",
       "      <td>102.058283</td>\n",
       "      <td>24.717290</td>\n",
       "      <td>Precious Achiuwa</td>\n",
       "    </tr>\n",
       "    <tr>\n",
       "      <th>1</th>\n",
       "      <td>203500</td>\n",
       "      <td>Steven</td>\n",
       "      <td>Adams</td>\n",
       "      <td>C</td>\n",
       "      <td>210.82</td>\n",
       "      <td>120.201978</td>\n",
       "      <td>27.045063</td>\n",
       "      <td>Steven Adams</td>\n",
       "    </tr>\n",
       "    <tr>\n",
       "      <th>2</th>\n",
       "      <td>1628389</td>\n",
       "      <td>Bam</td>\n",
       "      <td>Adebayo</td>\n",
       "      <td>C</td>\n",
       "      <td>205.74</td>\n",
       "      <td>115.666054</td>\n",
       "      <td>27.325521</td>\n",
       "      <td>Bam Adebayo</td>\n",
       "    </tr>\n",
       "    <tr>\n",
       "      <th>3</th>\n",
       "      <td>1630534</td>\n",
       "      <td>Ochai</td>\n",
       "      <td>Agbaji</td>\n",
       "      <td>G</td>\n",
       "      <td>195.58</td>\n",
       "      <td>97.522360</td>\n",
       "      <td>25.495018</td>\n",
       "      <td>Ochai Agbaji</td>\n",
       "    </tr>\n",
       "    <tr>\n",
       "      <th>4</th>\n",
       "      <td>1630583</td>\n",
       "      <td>Santi</td>\n",
       "      <td>Aldama</td>\n",
       "      <td>F</td>\n",
       "      <td>213.36</td>\n",
       "      <td>97.522360</td>\n",
       "      <td>21.422897</td>\n",
       "      <td>Santi Aldama</td>\n",
       "    </tr>\n",
       "  </tbody>\n",
       "</table>\n",
       "</div>"
      ],
      "text/plain": [
       "   playerid     fname    lname position  height      weight        BMI  \\\n",
       "0   1630173  Precious  Achiuwa        F  203.20  102.058283  24.717290   \n",
       "1    203500    Steven    Adams        C  210.82  120.201978  27.045063   \n",
       "2   1628389       Bam  Adebayo        C  205.74  115.666054  27.325521   \n",
       "3   1630534     Ochai   Agbaji        G  195.58   97.522360  25.495018   \n",
       "4   1630583     Santi   Aldama        F  213.36   97.522360  21.422897   \n",
       "\n",
       "           fullname  \n",
       "0  Precious Achiuwa  \n",
       "1      Steven Adams  \n",
       "2       Bam Adebayo  \n",
       "3      Ochai Agbaji  \n",
       "4      Santi Aldama  "
      ]
     },
     "execution_count": 108,
     "metadata": {},
     "output_type": "execute_result"
    }
   ],
   "source": [
    "active_players_concat.head()"
   ]
  },
  {
   "cell_type": "code",
   "execution_count": null,
   "metadata": {},
   "outputs": [
    {
     "data": {
      "text/html": [
       "<div>\n",
       "<style scoped>\n",
       "    .dataframe tbody tr th:only-of-type {\n",
       "        vertical-align: middle;\n",
       "    }\n",
       "\n",
       "    .dataframe tbody tr th {\n",
       "        vertical-align: top;\n",
       "    }\n",
       "\n",
       "    .dataframe thead th {\n",
       "        text-align: right;\n",
       "    }\n",
       "</style>\n",
       "<table border=\"1\" class=\"dataframe\">\n",
       "  <thead>\n",
       "    <tr style=\"text-align: right;\">\n",
       "      <th></th>\n",
       "      <th>playerid</th>\n",
       "      <th>fname</th>\n",
       "      <th>lname</th>\n",
       "      <th>position</th>\n",
       "      <th>height</th>\n",
       "      <th>weight</th>\n",
       "      <th>BMI</th>\n",
       "      <th>fullname</th>\n",
       "      <th>Unnamed: 0</th>\n",
       "      <th>player</th>\n",
       "      <th>pos</th>\n",
       "      <th>pts</th>\n",
       "      <th>ast</th>\n",
       "      <th>trb</th>\n",
       "      <th>stl</th>\n",
       "      <th>blk</th>\n",
       "      <th>age</th>\n",
       "      <th>year</th>\n",
       "    </tr>\n",
       "  </thead>\n",
       "  <tbody>\n",
       "    <tr>\n",
       "      <th>0</th>\n",
       "      <td>203500</td>\n",
       "      <td>Steven</td>\n",
       "      <td>Adams</td>\n",
       "      <td>C</td>\n",
       "      <td>210.82</td>\n",
       "      <td>120.201978</td>\n",
       "      <td>27.045063</td>\n",
       "      <td>Steven Adams</td>\n",
       "      <td>18364</td>\n",
       "      <td>Steven Adams</td>\n",
       "      <td>C</td>\n",
       "      <td>3.27</td>\n",
       "      <td>0.53</td>\n",
       "      <td>4.10</td>\n",
       "      <td>0.49</td>\n",
       "      <td>0.70</td>\n",
       "      <td>20.0</td>\n",
       "      <td>2014.0</td>\n",
       "    </tr>\n",
       "    <tr>\n",
       "      <th>1</th>\n",
       "      <td>203500</td>\n",
       "      <td>Steven</td>\n",
       "      <td>Adams</td>\n",
       "      <td>C</td>\n",
       "      <td>210.82</td>\n",
       "      <td>120.201978</td>\n",
       "      <td>27.045063</td>\n",
       "      <td>Steven Adams</td>\n",
       "      <td>18974</td>\n",
       "      <td>Steven Adams</td>\n",
       "      <td>C</td>\n",
       "      <td>7.67</td>\n",
       "      <td>0.94</td>\n",
       "      <td>7.47</td>\n",
       "      <td>0.54</td>\n",
       "      <td>1.23</td>\n",
       "      <td>21.0</td>\n",
       "      <td>2015.0</td>\n",
       "    </tr>\n",
       "    <tr>\n",
       "      <th>2</th>\n",
       "      <td>203500</td>\n",
       "      <td>Steven</td>\n",
       "      <td>Adams</td>\n",
       "      <td>C</td>\n",
       "      <td>210.82</td>\n",
       "      <td>120.201978</td>\n",
       "      <td>27.045063</td>\n",
       "      <td>Steven Adams</td>\n",
       "      <td>19625</td>\n",
       "      <td>Steven Adams</td>\n",
       "      <td>C</td>\n",
       "      <td>7.95</td>\n",
       "      <td>0.78</td>\n",
       "      <td>6.66</td>\n",
       "      <td>0.52</td>\n",
       "      <td>1.11</td>\n",
       "      <td>22.0</td>\n",
       "      <td>2016.0</td>\n",
       "    </tr>\n",
       "    <tr>\n",
       "      <th>3</th>\n",
       "      <td>203500</td>\n",
       "      <td>Steven</td>\n",
       "      <td>Adams</td>\n",
       "      <td>C</td>\n",
       "      <td>210.82</td>\n",
       "      <td>120.201978</td>\n",
       "      <td>27.045063</td>\n",
       "      <td>Steven Adams</td>\n",
       "      <td>20205</td>\n",
       "      <td>Steven Adams</td>\n",
       "      <td>C</td>\n",
       "      <td>11.31</td>\n",
       "      <td>1.08</td>\n",
       "      <td>7.69</td>\n",
       "      <td>1.10</td>\n",
       "      <td>0.98</td>\n",
       "      <td>23.0</td>\n",
       "      <td>2017.0</td>\n",
       "    </tr>\n",
       "    <tr>\n",
       "      <th>4</th>\n",
       "      <td>203937</td>\n",
       "      <td>Kyle</td>\n",
       "      <td>Anderson</td>\n",
       "      <td>F</td>\n",
       "      <td>205.74</td>\n",
       "      <td>104.326245</td>\n",
       "      <td>24.646548</td>\n",
       "      <td>Kyle Anderson</td>\n",
       "      <td>18991</td>\n",
       "      <td>Kyle Anderson</td>\n",
       "      <td>F</td>\n",
       "      <td>2.24</td>\n",
       "      <td>0.85</td>\n",
       "      <td>2.18</td>\n",
       "      <td>0.45</td>\n",
       "      <td>0.21</td>\n",
       "      <td>21.0</td>\n",
       "      <td>2015.0</td>\n",
       "    </tr>\n",
       "  </tbody>\n",
       "</table>\n",
       "</div>"
      ],
      "text/plain": [
       "   playerid   fname     lname position  height      weight        BMI  \\\n",
       "0    203500  Steven     Adams        C  210.82  120.201978  27.045063   \n",
       "1    203500  Steven     Adams        C  210.82  120.201978  27.045063   \n",
       "2    203500  Steven     Adams        C  210.82  120.201978  27.045063   \n",
       "3    203500  Steven     Adams        C  210.82  120.201978  27.045063   \n",
       "4    203937    Kyle  Anderson        F  205.74  104.326245  24.646548   \n",
       "\n",
       "        fullname  Unnamed: 0         player pos    pts   ast   trb   stl  \\\n",
       "0   Steven Adams       18364   Steven Adams   C   3.27  0.53  4.10  0.49   \n",
       "1   Steven Adams       18974   Steven Adams   C   7.67  0.94  7.47  0.54   \n",
       "2   Steven Adams       19625   Steven Adams   C   7.95  0.78  6.66  0.52   \n",
       "3   Steven Adams       20205   Steven Adams   C  11.31  1.08  7.69  1.10   \n",
       "4  Kyle Anderson       18991  Kyle Anderson   F   2.24  0.85  2.18  0.45   \n",
       "\n",
       "    blk   age    year  \n",
       "0  0.70  20.0  2014.0  \n",
       "1  1.23  21.0  2015.0  \n",
       "2  1.11  22.0  2016.0  \n",
       "3  0.98  23.0  2017.0  \n",
       "4  0.21  21.0  2015.0  "
      ]
     },
     "execution_count": 109,
     "metadata": {},
     "output_type": "execute_result"
    }
   ],
   "source": [
    "# Attach on player year-by-year statistics of active players:\n",
    "active_player_statistics = pd.merge(active_players_concat, player_statistics_processed, left_on = 'fullname', right_on = 'player', how = 'inner')\n",
    "\n",
    "active_player_statistics.head()"
   ]
  },
  {
   "cell_type": "code",
   "execution_count": null,
   "metadata": {},
   "outputs": [],
   "source": [
    "# Export results\n",
    "active_player_statistics.to_csv(os.path.join(\"data\", \"active_player_stats.csv\"))"
   ]
  },
  {
   "cell_type": "markdown",
   "metadata": {},
   "source": [
    "### Test similarity model"
   ]
  },
  {
   "cell_type": "code",
   "execution_count": null,
   "metadata": {},
   "outputs": [
    {
     "name": "stdout",
     "output_type": "stream",
     "text": [
      "Unnamed: 0.1               810\n",
      "playerid                202322\n",
      "fname                     John\n",
      "lname                     Wall\n",
      "position                     G\n",
      "height                   190.5\n",
      "weight               95.254398\n",
      "BMI                  26.247931\n",
      "fullname             John Wall\n",
      "Unnamed: 0               18325\n",
      "player               John Wall\n",
      "pos                          G\n",
      "pts                      18.49\n",
      "ast                       7.61\n",
      "trb                        4.0\n",
      "stl                       1.33\n",
      "blk                       0.76\n",
      "age                       22.0\n",
      "year                    2013.0\n",
      "cosine_similarity     0.976945\n",
      "Name: 810, dtype: object\n"
     ]
    },
    {
     "name": "stderr",
     "output_type": "stream",
     "text": [
      "/Users/danielliu/anaconda3/envs/positionn/lib/python3.12/site-packages/sklearn/base.py:464: UserWarning: X does not have valid feature names, but StandardScaler was fitted with feature names\n",
      "  warnings.warn(\n",
      "/Users/danielliu/Desktop/Dev/positionn/similar_player_stats.py:48: SettingWithCopyWarning: \n",
      "A value is trying to be set on a copy of a slice from a DataFrame.\n",
      "Try using .loc[row_indexer,col_indexer] = value instead\n",
      "\n",
      "See the caveats in the documentation: https://pandas.pydata.org/pandas-docs/stable/user_guide/indexing.html#returning-a-view-versus-a-copy\n",
      "  active_pos_players['cosine_similarity'] = np.squeeze(cosine_res)\n"
     ]
    }
   ],
   "source": [
    "# Make a prediction with player similarity model\n",
    "from similar_player_stats import SimilarPlayerStats\n",
    "active_player_statistics = pd.read_csv(os.path.join(\"data\", \"active_player_stats.csv\"))\n",
    "similar_player_stats = SimilarPlayerStats(active_player_statistics)\n",
    "print(similar_player_stats.predict_similar_player(20, 10, 5, 1, 1, 'G'))"
   ]
  },
  {
   "cell_type": "code",
   "execution_count": null,
   "metadata": {},
   "outputs": [],
   "source": [
    "# Export model\n",
    "#pickle.dump(similar_player_stats, open(os.path.join(\"models\", \"similar_player_stats.pkl\"), \"wb\"))"
   ]
  }
 ],
 "metadata": {
  "kernelspec": {
   "display_name": "positionn",
   "language": "python",
   "name": "python3"
  },
  "language_info": {
   "codemirror_mode": {
    "name": "ipython",
    "version": 3
   },
   "file_extension": ".py",
   "mimetype": "text/x-python",
   "name": "python",
   "nbconvert_exporter": "python",
   "pygments_lexer": "ipython3",
   "version": "3.12.4"
  }
 },
 "nbformat": 4,
 "nbformat_minor": 2
}
