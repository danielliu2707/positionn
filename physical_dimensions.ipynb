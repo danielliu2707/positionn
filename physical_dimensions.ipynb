{
 "cells": [
  {
   "cell_type": "markdown",
   "metadata": {},
   "source": [
    "# Physical Dimensions\n",
    "\n",
    "This notebook attempts to build an ML model for predicting the position of a player given their physical dimensions."
   ]
  },
  {
   "cell_type": "markdown",
   "metadata": {},
   "source": [
    "### TODO:\n",
    "\n",
    "* Use PCA visualisations to determine how well separated the positions are given the data I have. Keep trying to introduce new variables and see if it improves the separation = potentially better model that fits the data better. (Page 2 - Chapter 5 of DS book).\n",
    "* Explore the differences in model performance if I use more up to date data (i.e. players before a certain time and after).\n",
    "* Visualise 4-dimensional data using seaborn.\n",
    "* Visualise data before and after including year_start and year_end to understand why it improves performance."
   ]
  },
  {
   "cell_type": "code",
   "execution_count": 527,
   "metadata": {},
   "outputs": [],
   "source": [
    "import pandas as pd\n",
    "import numpy as np\n",
    "import matplotlib.pyplot as plt\n",
    "import seaborn as sns\n",
    "import os\n",
    "import re\n",
    "import pickle\n",
    "\n",
    "from sklearn.model_selection import train_test_split\n",
    "from sklearn.ensemble import RandomForestClassifier\n",
    "from sklearn.metrics import accuracy_score\n",
    "from sklearn.preprocessing import OneHotEncoder\n",
    "from sklearn.preprocessing import LabelEncoder\n",
    "from sklearn.preprocessing import StandardScaler\n",
    "from sklearn.pipeline import make_pipeline\n",
    "\n",
    "sns.set_theme()\n",
    "%matplotlib inline"
   ]
  },
  {
   "cell_type": "code",
   "execution_count": 528,
   "metadata": {},
   "outputs": [],
   "source": [
    "np.random.seed(0)"
   ]
  },
  {
   "cell_type": "markdown",
   "metadata": {},
   "source": [
    "# Data Preprocessing"
   ]
  },
  {
   "cell_type": "markdown",
   "metadata": {},
   "source": [
    "First, let's read in the data and take a look at the features."
   ]
  },
  {
   "cell_type": "code",
   "execution_count": 529,
   "metadata": {},
   "outputs": [],
   "source": [
    "# Reading in data\n",
    "player_attributes = pd.read_csv(os.path.join(\"data\", \"Players.csv\"))\n",
    "player_pos = pd.read_csv(os.path.join(\"data\", \"player_data.csv\"))\n",
    "player_stats = pd.read_csv(os.path.join(\"data\", \"Seasons_Stats.csv\"))"
   ]
  },
  {
   "cell_type": "code",
   "execution_count": 530,
   "metadata": {},
   "outputs": [
    {
     "data": {
      "text/html": [
       "<div>\n",
       "<style scoped>\n",
       "    .dataframe tbody tr th:only-of-type {\n",
       "        vertical-align: middle;\n",
       "    }\n",
       "\n",
       "    .dataframe tbody tr th {\n",
       "        vertical-align: top;\n",
       "    }\n",
       "\n",
       "    .dataframe thead th {\n",
       "        text-align: right;\n",
       "    }\n",
       "</style>\n",
       "<table border=\"1\" class=\"dataframe\">\n",
       "  <thead>\n",
       "    <tr style=\"text-align: right;\">\n",
       "      <th></th>\n",
       "      <th>Unnamed: 0</th>\n",
       "      <th>Player</th>\n",
       "      <th>height</th>\n",
       "      <th>weight</th>\n",
       "      <th>collage</th>\n",
       "      <th>born</th>\n",
       "      <th>birth_city</th>\n",
       "      <th>birth_state</th>\n",
       "    </tr>\n",
       "  </thead>\n",
       "  <tbody>\n",
       "    <tr>\n",
       "      <th>0</th>\n",
       "      <td>0</td>\n",
       "      <td>Curly Armstrong</td>\n",
       "      <td>180.0</td>\n",
       "      <td>77.0</td>\n",
       "      <td>Indiana University</td>\n",
       "      <td>1918.0</td>\n",
       "      <td>NaN</td>\n",
       "      <td>NaN</td>\n",
       "    </tr>\n",
       "    <tr>\n",
       "      <th>1</th>\n",
       "      <td>1</td>\n",
       "      <td>Cliff Barker</td>\n",
       "      <td>188.0</td>\n",
       "      <td>83.0</td>\n",
       "      <td>University of Kentucky</td>\n",
       "      <td>1921.0</td>\n",
       "      <td>Yorktown</td>\n",
       "      <td>Indiana</td>\n",
       "    </tr>\n",
       "    <tr>\n",
       "      <th>2</th>\n",
       "      <td>2</td>\n",
       "      <td>Leo Barnhorst</td>\n",
       "      <td>193.0</td>\n",
       "      <td>86.0</td>\n",
       "      <td>University of Notre Dame</td>\n",
       "      <td>1924.0</td>\n",
       "      <td>NaN</td>\n",
       "      <td>NaN</td>\n",
       "    </tr>\n",
       "    <tr>\n",
       "      <th>3</th>\n",
       "      <td>3</td>\n",
       "      <td>Ed Bartels</td>\n",
       "      <td>196.0</td>\n",
       "      <td>88.0</td>\n",
       "      <td>North Carolina State University</td>\n",
       "      <td>1925.0</td>\n",
       "      <td>NaN</td>\n",
       "      <td>NaN</td>\n",
       "    </tr>\n",
       "    <tr>\n",
       "      <th>4</th>\n",
       "      <td>4</td>\n",
       "      <td>Ralph Beard</td>\n",
       "      <td>178.0</td>\n",
       "      <td>79.0</td>\n",
       "      <td>University of Kentucky</td>\n",
       "      <td>1927.0</td>\n",
       "      <td>Hardinsburg</td>\n",
       "      <td>Kentucky</td>\n",
       "    </tr>\n",
       "  </tbody>\n",
       "</table>\n",
       "</div>"
      ],
      "text/plain": [
       "   Unnamed: 0           Player  height  weight  \\\n",
       "0           0  Curly Armstrong   180.0    77.0   \n",
       "1           1     Cliff Barker   188.0    83.0   \n",
       "2           2    Leo Barnhorst   193.0    86.0   \n",
       "3           3       Ed Bartels   196.0    88.0   \n",
       "4           4      Ralph Beard   178.0    79.0   \n",
       "\n",
       "                           collage    born   birth_city birth_state  \n",
       "0               Indiana University  1918.0          NaN         NaN  \n",
       "1           University of Kentucky  1921.0     Yorktown     Indiana  \n",
       "2         University of Notre Dame  1924.0          NaN         NaN  \n",
       "3  North Carolina State University  1925.0          NaN         NaN  \n",
       "4           University of Kentucky  1927.0  Hardinsburg    Kentucky  "
      ]
     },
     "execution_count": 530,
     "metadata": {},
     "output_type": "execute_result"
    }
   ],
   "source": [
    "player_attributes.head()"
   ]
  },
  {
   "cell_type": "code",
   "execution_count": 531,
   "metadata": {},
   "outputs": [
    {
     "data": {
      "text/html": [
       "<div>\n",
       "<style scoped>\n",
       "    .dataframe tbody tr th:only-of-type {\n",
       "        vertical-align: middle;\n",
       "    }\n",
       "\n",
       "    .dataframe tbody tr th {\n",
       "        vertical-align: top;\n",
       "    }\n",
       "\n",
       "    .dataframe thead th {\n",
       "        text-align: right;\n",
       "    }\n",
       "</style>\n",
       "<table border=\"1\" class=\"dataframe\">\n",
       "  <thead>\n",
       "    <tr style=\"text-align: right;\">\n",
       "      <th></th>\n",
       "      <th>name</th>\n",
       "      <th>year_start</th>\n",
       "      <th>year_end</th>\n",
       "      <th>position</th>\n",
       "      <th>height</th>\n",
       "      <th>weight</th>\n",
       "      <th>birth_date</th>\n",
       "      <th>college</th>\n",
       "    </tr>\n",
       "  </thead>\n",
       "  <tbody>\n",
       "    <tr>\n",
       "      <th>0</th>\n",
       "      <td>Alaa Abdelnaby</td>\n",
       "      <td>1991</td>\n",
       "      <td>1995</td>\n",
       "      <td>F-C</td>\n",
       "      <td>6-10</td>\n",
       "      <td>240.0</td>\n",
       "      <td>June 24, 1968</td>\n",
       "      <td>Duke University</td>\n",
       "    </tr>\n",
       "    <tr>\n",
       "      <th>1</th>\n",
       "      <td>Zaid Abdul-Aziz</td>\n",
       "      <td>1969</td>\n",
       "      <td>1978</td>\n",
       "      <td>C-F</td>\n",
       "      <td>6-9</td>\n",
       "      <td>235.0</td>\n",
       "      <td>April 7, 1946</td>\n",
       "      <td>Iowa State University</td>\n",
       "    </tr>\n",
       "    <tr>\n",
       "      <th>2</th>\n",
       "      <td>Kareem Abdul-Jabbar</td>\n",
       "      <td>1970</td>\n",
       "      <td>1989</td>\n",
       "      <td>C</td>\n",
       "      <td>7-2</td>\n",
       "      <td>225.0</td>\n",
       "      <td>April 16, 1947</td>\n",
       "      <td>University of California, Los Angeles</td>\n",
       "    </tr>\n",
       "    <tr>\n",
       "      <th>3</th>\n",
       "      <td>Mahmoud Abdul-Rauf</td>\n",
       "      <td>1991</td>\n",
       "      <td>2001</td>\n",
       "      <td>G</td>\n",
       "      <td>6-1</td>\n",
       "      <td>162.0</td>\n",
       "      <td>March 9, 1969</td>\n",
       "      <td>Louisiana State University</td>\n",
       "    </tr>\n",
       "    <tr>\n",
       "      <th>4</th>\n",
       "      <td>Tariq Abdul-Wahad</td>\n",
       "      <td>1998</td>\n",
       "      <td>2003</td>\n",
       "      <td>F</td>\n",
       "      <td>6-6</td>\n",
       "      <td>223.0</td>\n",
       "      <td>November 3, 1974</td>\n",
       "      <td>San Jose State University</td>\n",
       "    </tr>\n",
       "  </tbody>\n",
       "</table>\n",
       "</div>"
      ],
      "text/plain": [
       "                  name  year_start  year_end position height  weight  \\\n",
       "0       Alaa Abdelnaby        1991      1995      F-C   6-10   240.0   \n",
       "1      Zaid Abdul-Aziz        1969      1978      C-F    6-9   235.0   \n",
       "2  Kareem Abdul-Jabbar        1970      1989        C    7-2   225.0   \n",
       "3   Mahmoud Abdul-Rauf        1991      2001        G    6-1   162.0   \n",
       "4    Tariq Abdul-Wahad        1998      2003        F    6-6   223.0   \n",
       "\n",
       "         birth_date                                college  \n",
       "0     June 24, 1968                        Duke University  \n",
       "1     April 7, 1946                  Iowa State University  \n",
       "2    April 16, 1947  University of California, Los Angeles  \n",
       "3     March 9, 1969             Louisiana State University  \n",
       "4  November 3, 1974              San Jose State University  "
      ]
     },
     "execution_count": 531,
     "metadata": {},
     "output_type": "execute_result"
    }
   ],
   "source": [
    "player_pos.head()"
   ]
  },
  {
   "cell_type": "markdown",
   "metadata": {},
   "source": [
    "Next, we want to obtain a single dataframe that contains the physical dimensions of players along with their NBA position. I will accomplish this through a merge."
   ]
  },
  {
   "cell_type": "code",
   "execution_count": 532,
   "metadata": {},
   "outputs": [],
   "source": [
    "# Join player_attributes with player_data to obtain position (response)\n",
    "player_data = pd.merge(player_attributes, player_pos, how = \"inner\", left_on = \"Player\", right_on = \"name\")"
   ]
  },
  {
   "cell_type": "code",
   "execution_count": 533,
   "metadata": {},
   "outputs": [
    {
     "name": "stdout",
     "output_type": "stream",
     "text": [
      "Number of observations in player attributes: 3922\n",
      "Number of observations in player positions: 4550\n",
      "Number of observations in player data: 3814\n"
     ]
    }
   ],
   "source": [
    "print(\"Number of observations in player attributes:\", len(player_attributes))\n",
    "print(\"Number of observations in player positions:\", len(player_pos))\n",
    "print(\"Number of observations in player data:\", len(player_data))"
   ]
  },
  {
   "cell_type": "markdown",
   "metadata": {},
   "source": [
    "There are 3922 players that have physical attributes, 4550 players that have positions but only 3814 players who have both physical attributes and positions in this dataset. Clearly, there are either players with no positions, or positional data with no associated player.  \n",
    "\n",
    "For an example, the dataframe below shows players without a position."
   ]
  },
  {
   "cell_type": "code",
   "execution_count": 534,
   "metadata": {},
   "outputs": [
    {
     "data": {
      "text/html": [
       "<div>\n",
       "<style scoped>\n",
       "    .dataframe tbody tr th:only-of-type {\n",
       "        vertical-align: middle;\n",
       "    }\n",
       "\n",
       "    .dataframe tbody tr th {\n",
       "        vertical-align: top;\n",
       "    }\n",
       "\n",
       "    .dataframe thead th {\n",
       "        text-align: right;\n",
       "    }\n",
       "</style>\n",
       "<table border=\"1\" class=\"dataframe\">\n",
       "  <thead>\n",
       "    <tr style=\"text-align: right;\">\n",
       "      <th></th>\n",
       "      <th>Unnamed: 0</th>\n",
       "      <th>Player</th>\n",
       "      <th>height_x</th>\n",
       "      <th>weight_x</th>\n",
       "      <th>collage</th>\n",
       "      <th>born</th>\n",
       "      <th>birth_city</th>\n",
       "      <th>birth_state</th>\n",
       "      <th>name</th>\n",
       "      <th>year_start</th>\n",
       "      <th>year_end</th>\n",
       "      <th>position</th>\n",
       "      <th>height_y</th>\n",
       "      <th>weight_y</th>\n",
       "      <th>birth_date</th>\n",
       "      <th>college</th>\n",
       "    </tr>\n",
       "  </thead>\n",
       "  <tbody>\n",
       "    <tr>\n",
       "      <th>3351</th>\n",
       "      <td>3307</td>\n",
       "      <td>Luc Mbah</td>\n",
       "      <td>201.0</td>\n",
       "      <td>99.0</td>\n",
       "      <td>NaN</td>\n",
       "      <td>1984.0</td>\n",
       "      <td>NaN</td>\n",
       "      <td>NaN</td>\n",
       "      <td>NaN</td>\n",
       "      <td>NaN</td>\n",
       "      <td>NaN</td>\n",
       "      <td>NaN</td>\n",
       "      <td>NaN</td>\n",
       "      <td>NaN</td>\n",
       "      <td>NaN</td>\n",
       "      <td>NaN</td>\n",
       "    </tr>\n",
       "    <tr>\n",
       "      <th>3591</th>\n",
       "      <td>3544</td>\n",
       "      <td>Nando De</td>\n",
       "      <td>206.0</td>\n",
       "      <td>97.0</td>\n",
       "      <td>NaN</td>\n",
       "      <td>1968.0</td>\n",
       "      <td>NaN</td>\n",
       "      <td>NaN</td>\n",
       "      <td>NaN</td>\n",
       "      <td>NaN</td>\n",
       "      <td>NaN</td>\n",
       "      <td>NaN</td>\n",
       "      <td>NaN</td>\n",
       "      <td>NaN</td>\n",
       "      <td>NaN</td>\n",
       "      <td>NaN</td>\n",
       "    </tr>\n",
       "    <tr>\n",
       "      <th>3775</th>\n",
       "      <td>3727</td>\n",
       "      <td>James Michael</td>\n",
       "      <td>198.0</td>\n",
       "      <td>90.0</td>\n",
       "      <td>NaN</td>\n",
       "      <td>1992.0</td>\n",
       "      <td>NaN</td>\n",
       "      <td>NaN</td>\n",
       "      <td>NaN</td>\n",
       "      <td>NaN</td>\n",
       "      <td>NaN</td>\n",
       "      <td>NaN</td>\n",
       "      <td>NaN</td>\n",
       "      <td>NaN</td>\n",
       "      <td>NaN</td>\n",
       "      <td>NaN</td>\n",
       "    </tr>\n",
       "    <tr>\n",
       "      <th>3870</th>\n",
       "      <td>3822</td>\n",
       "      <td>Walter Tavares</td>\n",
       "      <td>221.0</td>\n",
       "      <td>117.0</td>\n",
       "      <td>NaN</td>\n",
       "      <td>1992.0</td>\n",
       "      <td>Maio</td>\n",
       "      <td>Cape Verde</td>\n",
       "      <td>NaN</td>\n",
       "      <td>NaN</td>\n",
       "      <td>NaN</td>\n",
       "      <td>NaN</td>\n",
       "      <td>NaN</td>\n",
       "      <td>NaN</td>\n",
       "      <td>NaN</td>\n",
       "      <td>NaN</td>\n",
       "    </tr>\n",
       "    <tr>\n",
       "      <th>3932</th>\n",
       "      <td>3884</td>\n",
       "      <td>Sheldon McClellan</td>\n",
       "      <td>196.0</td>\n",
       "      <td>90.0</td>\n",
       "      <td>University of Miami</td>\n",
       "      <td>1992.0</td>\n",
       "      <td>Houston</td>\n",
       "      <td>Texas</td>\n",
       "      <td>NaN</td>\n",
       "      <td>NaN</td>\n",
       "      <td>NaN</td>\n",
       "      <td>NaN</td>\n",
       "      <td>NaN</td>\n",
       "      <td>NaN</td>\n",
       "      <td>NaN</td>\n",
       "      <td>NaN</td>\n",
       "    </tr>\n",
       "  </tbody>\n",
       "</table>\n",
       "</div>"
      ],
      "text/plain": [
       "      Unnamed: 0             Player  height_x  weight_x              collage  \\\n",
       "3351        3307           Luc Mbah     201.0      99.0                  NaN   \n",
       "3591        3544           Nando De     206.0      97.0                  NaN   \n",
       "3775        3727      James Michael     198.0      90.0                  NaN   \n",
       "3870        3822     Walter Tavares     221.0     117.0                  NaN   \n",
       "3932        3884  Sheldon McClellan     196.0      90.0  University of Miami   \n",
       "\n",
       "        born birth_city birth_state name  year_start  year_end position  \\\n",
       "3351  1984.0        NaN         NaN  NaN         NaN       NaN      NaN   \n",
       "3591  1968.0        NaN         NaN  NaN         NaN       NaN      NaN   \n",
       "3775  1992.0        NaN         NaN  NaN         NaN       NaN      NaN   \n",
       "3870  1992.0       Maio  Cape Verde  NaN         NaN       NaN      NaN   \n",
       "3932  1992.0    Houston       Texas  NaN         NaN       NaN      NaN   \n",
       "\n",
       "     height_y  weight_y birth_date college  \n",
       "3351      NaN       NaN        NaN     NaN  \n",
       "3591      NaN       NaN        NaN     NaN  \n",
       "3775      NaN       NaN        NaN     NaN  \n",
       "3870      NaN       NaN        NaN     NaN  \n",
       "3932      NaN       NaN        NaN     NaN  "
      ]
     },
     "execution_count": 534,
     "metadata": {},
     "output_type": "execute_result"
    }
   ],
   "source": [
    "# Lets explore the players that didn't have a position\n",
    "full_player_data = pd.merge(player_attributes, player_pos, how = \"left\", left_on = \"Player\", right_on = \"name\")\n",
    "\n",
    "full_player_data[(full_player_data['position'].isna()) & (~ full_player_data['height_x'].isna())].tail()"
   ]
  },
  {
   "cell_type": "markdown",
   "metadata": {},
   "source": [
    "The dataframe below shows players without a weight."
   ]
  },
  {
   "cell_type": "code",
   "execution_count": 535,
   "metadata": {},
   "outputs": [
    {
     "data": {
      "text/html": [
       "<div>\n",
       "<style scoped>\n",
       "    .dataframe tbody tr th:only-of-type {\n",
       "        vertical-align: middle;\n",
       "    }\n",
       "\n",
       "    .dataframe tbody tr th {\n",
       "        vertical-align: top;\n",
       "    }\n",
       "\n",
       "    .dataframe thead th {\n",
       "        text-align: right;\n",
       "    }\n",
       "</style>\n",
       "<table border=\"1\" class=\"dataframe\">\n",
       "  <thead>\n",
       "    <tr style=\"text-align: right;\">\n",
       "      <th></th>\n",
       "      <th>name</th>\n",
       "      <th>year_start</th>\n",
       "      <th>year_end</th>\n",
       "      <th>position</th>\n",
       "      <th>height_x</th>\n",
       "      <th>weight_x</th>\n",
       "      <th>birth_date</th>\n",
       "      <th>college</th>\n",
       "      <th>Unnamed: 0</th>\n",
       "      <th>Player</th>\n",
       "      <th>height_y</th>\n",
       "      <th>weight_y</th>\n",
       "      <th>collage</th>\n",
       "      <th>born</th>\n",
       "      <th>birth_city</th>\n",
       "      <th>birth_state</th>\n",
       "    </tr>\n",
       "  </thead>\n",
       "  <tbody>\n",
       "    <tr>\n",
       "      <th>2360</th>\n",
       "      <td>Dick Lee</td>\n",
       "      <td>1968</td>\n",
       "      <td>1968</td>\n",
       "      <td>F</td>\n",
       "      <td>6-6</td>\n",
       "      <td>NaN</td>\n",
       "      <td>NaN</td>\n",
       "      <td>University of Washington</td>\n",
       "      <td>NaN</td>\n",
       "      <td>NaN</td>\n",
       "      <td>NaN</td>\n",
       "      <td>NaN</td>\n",
       "      <td>NaN</td>\n",
       "      <td>NaN</td>\n",
       "      <td>NaN</td>\n",
       "      <td>NaN</td>\n",
       "    </tr>\n",
       "    <tr>\n",
       "      <th>2783</th>\n",
       "      <td>Murray Mitchell</td>\n",
       "      <td>1950</td>\n",
       "      <td>1950</td>\n",
       "      <td>C</td>\n",
       "      <td>6-6</td>\n",
       "      <td>NaN</td>\n",
       "      <td>March 19, 1923</td>\n",
       "      <td>Sam Houston State University</td>\n",
       "      <td>132.0</td>\n",
       "      <td>Murray Mitchell</td>\n",
       "      <td>201.0</td>\n",
       "      <td>95.0</td>\n",
       "      <td>Sam Houston State University</td>\n",
       "      <td>1923.0</td>\n",
       "      <td>NaN</td>\n",
       "      <td>NaN</td>\n",
       "    </tr>\n",
       "    <tr>\n",
       "      <th>2973</th>\n",
       "      <td>Paul Nolen</td>\n",
       "      <td>1954</td>\n",
       "      <td>1954</td>\n",
       "      <td>C</td>\n",
       "      <td>6-10</td>\n",
       "      <td>NaN</td>\n",
       "      <td>September 3, 1929</td>\n",
       "      <td>Texas Tech University</td>\n",
       "      <td>341.0</td>\n",
       "      <td>Paul Nolen</td>\n",
       "      <td>211.0</td>\n",
       "      <td>106.0</td>\n",
       "      <td>Texas Tech University</td>\n",
       "      <td>1929.0</td>\n",
       "      <td>NaN</td>\n",
       "      <td>NaN</td>\n",
       "    </tr>\n",
       "    <tr>\n",
       "      <th>4279</th>\n",
       "      <td>Ray Wertis</td>\n",
       "      <td>1947</td>\n",
       "      <td>1948</td>\n",
       "      <td>G</td>\n",
       "      <td>5-11</td>\n",
       "      <td>NaN</td>\n",
       "      <td>January 1, 1922</td>\n",
       "      <td>St. John's University</td>\n",
       "      <td>NaN</td>\n",
       "      <td>NaN</td>\n",
       "      <td>NaN</td>\n",
       "      <td>NaN</td>\n",
       "      <td>NaN</td>\n",
       "      <td>NaN</td>\n",
       "      <td>NaN</td>\n",
       "      <td>NaN</td>\n",
       "    </tr>\n",
       "    <tr>\n",
       "      <th>4472</th>\n",
       "      <td>Bob Wood</td>\n",
       "      <td>1950</td>\n",
       "      <td>1950</td>\n",
       "      <td>G</td>\n",
       "      <td>5-10</td>\n",
       "      <td>NaN</td>\n",
       "      <td>October 7, 1921</td>\n",
       "      <td>Northern Illinois University</td>\n",
       "      <td>221.0</td>\n",
       "      <td>Bob Wood</td>\n",
       "      <td>175.0</td>\n",
       "      <td>70.0</td>\n",
       "      <td>Northern Illinois University</td>\n",
       "      <td>1921.0</td>\n",
       "      <td>NaN</td>\n",
       "      <td>NaN</td>\n",
       "    </tr>\n",
       "  </tbody>\n",
       "</table>\n",
       "</div>"
      ],
      "text/plain": [
       "                 name  year_start  year_end position height_x  weight_x  \\\n",
       "2360         Dick Lee        1968      1968        F      6-6       NaN   \n",
       "2783  Murray Mitchell        1950      1950        C      6-6       NaN   \n",
       "2973       Paul Nolen        1954      1954        C     6-10       NaN   \n",
       "4279       Ray Wertis        1947      1948        G     5-11       NaN   \n",
       "4472         Bob Wood        1950      1950        G     5-10       NaN   \n",
       "\n",
       "             birth_date                       college  Unnamed: 0  \\\n",
       "2360                NaN      University of Washington         NaN   \n",
       "2783     March 19, 1923  Sam Houston State University       132.0   \n",
       "2973  September 3, 1929         Texas Tech University       341.0   \n",
       "4279    January 1, 1922         St. John's University         NaN   \n",
       "4472    October 7, 1921  Northern Illinois University       221.0   \n",
       "\n",
       "               Player  height_y  weight_y                       collage  \\\n",
       "2360              NaN       NaN       NaN                           NaN   \n",
       "2783  Murray Mitchell     201.0      95.0  Sam Houston State University   \n",
       "2973       Paul Nolen     211.0     106.0         Texas Tech University   \n",
       "4279              NaN       NaN       NaN                           NaN   \n",
       "4472         Bob Wood     175.0      70.0  Northern Illinois University   \n",
       "\n",
       "        born birth_city birth_state  \n",
       "2360     NaN        NaN         NaN  \n",
       "2783  1923.0        NaN         NaN  \n",
       "2973  1929.0        NaN         NaN  \n",
       "4279     NaN        NaN         NaN  \n",
       "4472  1921.0        NaN         NaN  "
      ]
     },
     "execution_count": 535,
     "metadata": {},
     "output_type": "execute_result"
    }
   ],
   "source": [
    "full_player_data = pd.merge(player_pos, player_attributes, how = \"left\", left_on = \"name\", right_on = \"Player\")\n",
    "\n",
    "full_player_data[(full_player_data['weight_x'].isna())].tail()"
   ]
  },
  {
   "cell_type": "code",
   "execution_count": 536,
   "metadata": {},
   "outputs": [],
   "source": [
    "# Convert player position into string\n",
    "player_data['position'] = player_data['position'].astype(str)"
   ]
  },
  {
   "cell_type": "markdown",
   "metadata": {},
   "source": [
    "Next, lets consider only the relevant columns for the Machine Learning models including:\n",
    "\n",
    "* Dependent Variable (i.e. position)\n",
    "* Potential Independent Variables (i.e. height, weight, year_start, year_end)\n",
    "* Player Name"
   ]
  },
  {
   "cell_type": "code",
   "execution_count": 537,
   "metadata": {},
   "outputs": [],
   "source": [
    "player_data = player_data[['Player', 'height_x', 'weight_x', 'year_start', 'year_end', 'position']]\n",
    "player_data.rename(columns = {\"Player\": \"player\", \"height_x\": \"height\", \"weight_x\": \"weight\"}, inplace=True)"
   ]
  },
  {
   "cell_type": "markdown",
   "metadata": {},
   "source": [
    "Next, let's explore whether there are any NA values in the height, weight and position columns to drop."
   ]
  },
  {
   "cell_type": "code",
   "execution_count": 538,
   "metadata": {},
   "outputs": [
    {
     "name": "stdout",
     "output_type": "stream",
     "text": [
      "The number of observations before removing NA values: 3814\n",
      "The number of observations after removing NA values: 3814\n"
     ]
    }
   ],
   "source": [
    "print(\"The number of observations before removing NA values:\", len(player_data))\n",
    "\n",
    "player_data.dropna(subset = ['height', 'weight', 'position'], inplace = True)\n",
    "\n",
    "print(\"The number of observations after removing NA values:\", len(player_data))"
   ]
  },
  {
   "cell_type": "markdown",
   "metadata": {},
   "source": [
    "As there are no NA values, we can proceed without the need for any form of Imputation or dropping of NA values."
   ]
  },
  {
   "cell_type": "markdown",
   "metadata": {},
   "source": [
    "Next, I observed that there was a large number of players who had two positions, separated by a dash \"-\". Furthermore, one player had a position that was labelled as the string \"nan\". I will need to handle both of these situations to ensure that:\n",
    "\n",
    "* Each player has a valid position\n",
    "* Each player only has a single positon\n",
    "\n",
    "The possible positions of players should be G (Guard), F (Forward) or C (Center)."
   ]
  },
  {
   "cell_type": "code",
   "execution_count": 539,
   "metadata": {},
   "outputs": [
    {
     "data": {
      "text/plain": [
       "G      1322\n",
       "F      1079\n",
       "C       434\n",
       "F-C     332\n",
       "G-F     296\n",
       "C-F     176\n",
       "F-G     174\n",
       "nan       1\n",
       "Name: position, dtype: int64"
      ]
     },
     "execution_count": 539,
     "metadata": {},
     "output_type": "execute_result"
    }
   ],
   "source": [
    "# Unique values of position\n",
    "player_data['position'].value_counts()"
   ]
  },
  {
   "cell_type": "code",
   "execution_count": 540,
   "metadata": {},
   "outputs": [],
   "source": [
    "# Filtering nan value out\n",
    "player_data = player_data[player_data['position'] != \"nan\"]"
   ]
  },
  {
   "cell_type": "markdown",
   "metadata": {},
   "source": [
    "After filtering out the nan value, I now must reduce each players position down into a single position label. Through my domain knowledge, it is evident that the position listed prior to the dash \"-\" is the primary position of a player since players such as Karl-Anthony Towns and Myles Turner have a position of \"C-F\" and are widely regarded as Centers (C) who just so happen to be able to play the Forward (F) position. As a result, I will keep only the primary position of such players."
   ]
  },
  {
   "cell_type": "code",
   "execution_count": 541,
   "metadata": {},
   "outputs": [
    {
     "data": {
      "text/html": [
       "<div>\n",
       "<style scoped>\n",
       "    .dataframe tbody tr th:only-of-type {\n",
       "        vertical-align: middle;\n",
       "    }\n",
       "\n",
       "    .dataframe tbody tr th {\n",
       "        vertical-align: top;\n",
       "    }\n",
       "\n",
       "    .dataframe thead th {\n",
       "        text-align: right;\n",
       "    }\n",
       "</style>\n",
       "<table border=\"1\" class=\"dataframe\">\n",
       "  <thead>\n",
       "    <tr style=\"text-align: right;\">\n",
       "      <th></th>\n",
       "      <th>player</th>\n",
       "      <th>height</th>\n",
       "      <th>weight</th>\n",
       "      <th>year_start</th>\n",
       "      <th>year_end</th>\n",
       "      <th>position</th>\n",
       "    </tr>\n",
       "  </thead>\n",
       "  <tbody>\n",
       "    <tr>\n",
       "      <th>3713</th>\n",
       "      <td>Jonathon Simmons</td>\n",
       "      <td>185.0</td>\n",
       "      <td>83.0</td>\n",
       "      <td>2016</td>\n",
       "      <td>2018</td>\n",
       "      <td>G-F</td>\n",
       "    </tr>\n",
       "    <tr>\n",
       "      <th>3715</th>\n",
       "      <td>Axel Toupane</td>\n",
       "      <td>201.0</td>\n",
       "      <td>89.0</td>\n",
       "      <td>2016</td>\n",
       "      <td>2017</td>\n",
       "      <td>G-F</td>\n",
       "    </tr>\n",
       "    <tr>\n",
       "      <th>3716</th>\n",
       "      <td>Karl-Anthony Towns</td>\n",
       "      <td>213.0</td>\n",
       "      <td>110.0</td>\n",
       "      <td>2016</td>\n",
       "      <td>2018</td>\n",
       "      <td>C-F</td>\n",
       "    </tr>\n",
       "    <tr>\n",
       "      <th>3717</th>\n",
       "      <td>Myles Turner</td>\n",
       "      <td>211.0</td>\n",
       "      <td>110.0</td>\n",
       "      <td>2016</td>\n",
       "      <td>2018</td>\n",
       "      <td>C-F</td>\n",
       "    </tr>\n",
       "    <tr>\n",
       "      <th>3720</th>\n",
       "      <td>Alan Williams</td>\n",
       "      <td>198.0</td>\n",
       "      <td>90.0</td>\n",
       "      <td>2016</td>\n",
       "      <td>2017</td>\n",
       "      <td>F-C</td>\n",
       "    </tr>\n",
       "  </tbody>\n",
       "</table>\n",
       "</div>"
      ],
      "text/plain": [
       "                  player  height  weight  year_start  year_end position\n",
       "3713    Jonathon Simmons   185.0    83.0        2016      2018      G-F\n",
       "3715        Axel Toupane   201.0    89.0        2016      2017      G-F\n",
       "3716  Karl-Anthony Towns   213.0   110.0        2016      2018      C-F\n",
       "3717        Myles Turner   211.0   110.0        2016      2018      C-F\n",
       "3720       Alan Williams   198.0    90.0        2016      2017      F-C"
      ]
     },
     "execution_count": 541,
     "metadata": {},
     "output_type": "execute_result"
    }
   ],
   "source": [
    "# Observing recent players to identify primary position\n",
    "player_data[(player_data['year_start'] == 2016) & (player_data['position'].str.contains('-'))].tail()"
   ]
  },
  {
   "cell_type": "code",
   "execution_count": 542,
   "metadata": {},
   "outputs": [
    {
     "data": {
      "text/plain": [
       "G    1618\n",
       "F    1585\n",
       "C     610\n",
       "Name: position, dtype: int64"
      ]
     },
     "execution_count": 542,
     "metadata": {},
     "output_type": "execute_result"
    }
   ],
   "source": [
    "# Extracting only primary position of each player\n",
    "player_data['position'] = player_data['position'].apply(lambda row: row[0])\n",
    "\n",
    "# Checking only primary positions exist\n",
    "player_data['position'].value_counts()"
   ]
  },
  {
   "cell_type": "markdown",
   "metadata": {},
   "source": [
    "Next, I will perform some feature engineering by incorporating the BMI of the player as a feature. The rational behind this decision is that most NBA positions have been increasing in height over time, especially Guards in the NBA which could cause some confusion as certain Guards like Luka Doncic have the heights of an average Forward. The incorporating of BMI captures how \"bulky\" a player is as most tall guards are generally less \"bulky\" than a forward of similar height considering the difference in roles between a Guard and Forward. Forwards are generally expected to be better rebounders which requires greater size whereas guards are generally expected to be more agile and shifty which is typically associated with players that are lighter."
   ]
  },
  {
   "cell_type": "markdown",
   "metadata": {},
   "source": [
    "**Note:** Show a chart of average height of NBA players over time to prove my point + chart of average weight of each position."
   ]
  },
  {
   "cell_type": "code",
   "execution_count": 543,
   "metadata": {},
   "outputs": [
    {
     "data": {
      "text/html": [
       "<div>\n",
       "<style scoped>\n",
       "    .dataframe tbody tr th:only-of-type {\n",
       "        vertical-align: middle;\n",
       "    }\n",
       "\n",
       "    .dataframe tbody tr th {\n",
       "        vertical-align: top;\n",
       "    }\n",
       "\n",
       "    .dataframe thead th {\n",
       "        text-align: right;\n",
       "    }\n",
       "</style>\n",
       "<table border=\"1\" class=\"dataframe\">\n",
       "  <thead>\n",
       "    <tr style=\"text-align: right;\">\n",
       "      <th></th>\n",
       "      <th>player</th>\n",
       "      <th>height</th>\n",
       "      <th>weight</th>\n",
       "      <th>year_start</th>\n",
       "      <th>year_end</th>\n",
       "      <th>position</th>\n",
       "      <th>BMI</th>\n",
       "    </tr>\n",
       "  </thead>\n",
       "  <tbody>\n",
       "    <tr>\n",
       "      <th>0</th>\n",
       "      <td>Curly Armstrong</td>\n",
       "      <td>180.0</td>\n",
       "      <td>77.0</td>\n",
       "      <td>1949</td>\n",
       "      <td>1951</td>\n",
       "      <td>G</td>\n",
       "      <td>23.765432</td>\n",
       "    </tr>\n",
       "    <tr>\n",
       "      <th>1</th>\n",
       "      <td>Cliff Barker</td>\n",
       "      <td>188.0</td>\n",
       "      <td>83.0</td>\n",
       "      <td>1950</td>\n",
       "      <td>1952</td>\n",
       "      <td>G</td>\n",
       "      <td>23.483477</td>\n",
       "    </tr>\n",
       "    <tr>\n",
       "      <th>2</th>\n",
       "      <td>Leo Barnhorst</td>\n",
       "      <td>193.0</td>\n",
       "      <td>86.0</td>\n",
       "      <td>1950</td>\n",
       "      <td>1954</td>\n",
       "      <td>F</td>\n",
       "      <td>23.087868</td>\n",
       "    </tr>\n",
       "    <tr>\n",
       "      <th>3</th>\n",
       "      <td>Ed Bartels</td>\n",
       "      <td>196.0</td>\n",
       "      <td>88.0</td>\n",
       "      <td>1950</td>\n",
       "      <td>1951</td>\n",
       "      <td>F</td>\n",
       "      <td>22.907122</td>\n",
       "    </tr>\n",
       "    <tr>\n",
       "      <th>4</th>\n",
       "      <td>Ralph Beard</td>\n",
       "      <td>178.0</td>\n",
       "      <td>79.0</td>\n",
       "      <td>1950</td>\n",
       "      <td>1951</td>\n",
       "      <td>G</td>\n",
       "      <td>24.933720</td>\n",
       "    </tr>\n",
       "  </tbody>\n",
       "</table>\n",
       "</div>"
      ],
      "text/plain": [
       "            player  height  weight  year_start  year_end position        BMI\n",
       "0  Curly Armstrong   180.0    77.0        1949      1951        G  23.765432\n",
       "1     Cliff Barker   188.0    83.0        1950      1952        G  23.483477\n",
       "2    Leo Barnhorst   193.0    86.0        1950      1954        F  23.087868\n",
       "3       Ed Bartels   196.0    88.0        1950      1951        F  22.907122\n",
       "4      Ralph Beard   178.0    79.0        1950      1951        G  24.933720"
      ]
     },
     "execution_count": 543,
     "metadata": {},
     "output_type": "execute_result"
    }
   ],
   "source": [
    "player_data['BMI'] = player_data['weight'] / (player_data['height']/100)**2\n",
    "player_data.head()"
   ]
  },
  {
   "cell_type": "markdown",
   "metadata": {},
   "source": [
    "### NOTE: Include year_start and year_end.\n",
    "\n",
    "Explanation: NBA Players dimensions have changed drastically over time. Can insert a graph. The year in which a player started playing could inform what position they likely played. \n",
    "\n",
    "** Note: Try looking at the players that it misclassified and then classified correctly before including year_start & year_end and after including year_start & year_end."
   ]
  },
  {
   "cell_type": "markdown",
   "metadata": {},
   "source": [
    "# Building ML Model"
   ]
  },
  {
   "cell_type": "code",
   "execution_count": 544,
   "metadata": {},
   "outputs": [
    {
     "name": "stderr",
     "output_type": "stream",
     "text": [
      "/Users/danielliu/anaconda3/lib/python3.11/site-packages/sklearn/preprocessing/_encoders.py:972: FutureWarning: `sparse` was renamed to `sparse_output` in version 1.2 and will be removed in 1.4. `sparse_output` is ignored unless you leave `sparse` to its default value.\n",
      "  warnings.warn(\n"
     ]
    }
   ],
   "source": [
    "# Obtain predictors and response\n",
    "player_predictors = player_data.drop(['player', 'position'], axis = 1)\n",
    "player_response = player_data['position']\n",
    "\n",
    "# Convert into 2D array with shape (n, 1)\n",
    "player_response = np.array(player_response).reshape(-1, 1)\n",
    "\n",
    "# Encode player response to be numeric\n",
    "ohe_rf = OneHotEncoder(sparse=False, categories='auto')\n",
    "enc_player_response = ohe_rf.fit_transform(player_response)\n",
    "\n",
    "# Obtain training/test split\n",
    "X_train, X_test, y_train, y_test = train_test_split(player_predictors,\n",
    "                                                    enc_player_response,\n",
    "                                                    train_size=0.75)"
   ]
  },
  {
   "cell_type": "code",
   "execution_count": 545,
   "metadata": {},
   "outputs": [
    {
     "name": "stdout",
     "output_type": "stream",
     "text": [
      "Accuracy: 0.8081761006289309\n"
     ]
    }
   ],
   "source": [
    "rfc_pipeline = make_pipeline(StandardScaler(),\n",
    "                             RandomForestClassifier())\n",
    "\n",
    "rfc_pipeline.fit(X_train, y_train)\n",
    "y_pred = rfc_pipeline.predict(X_test)\n",
    "accuracy = accuracy_score(y_test, y_pred)\n",
    "print('Accuracy:', accuracy)"
   ]
  },
  {
   "cell_type": "code",
   "execution_count": 546,
   "metadata": {},
   "outputs": [
    {
     "data": {
      "text/plain": [
       "array([['F']], dtype=object)"
      ]
     },
     "execution_count": 546,
     "metadata": {},
     "output_type": "execute_result"
    }
   ],
   "source": [
    "# Transform back to obtain prediction\n",
    "y_pred = rfc_pipeline.predict(X_test)\n",
    "ohe_rf.inverse_transform(y_pred[2].reshape(1, 3))"
   ]
  },
  {
   "cell_type": "code",
   "execution_count": 547,
   "metadata": {},
   "outputs": [],
   "source": [
    "# Export model\n",
    "pickle.dump(rfc_pipeline, open(os.path.join(\"models\", \"dimensions_rf.sav\"), \"wb\"))\n",
    "pickle.dump(ohe_rf, open(os.path.join(\"models\", \"ohe_rf.sav\"), \"wb\"))"
   ]
  },
  {
   "cell_type": "markdown",
   "metadata": {},
   "source": [
    "# Obtaining Predictions"
   ]
  },
  {
   "cell_type": "code",
   "execution_count": 548,
   "metadata": {},
   "outputs": [],
   "source": [
    "model = pickle.load(open(os.path.join(\"models\", \"dimensions_rf.sav\"), \"rb\"))\n",
    "ohe = pickle.load(open(os.path.join(\"models\", \"ohe_rf.sav\"), \"rb\"))"
   ]
  },
  {
   "cell_type": "code",
   "execution_count": 564,
   "metadata": {},
   "outputs": [],
   "source": [
    "height = 200\n",
    "weight = 100\n",
    "year_start = 1950\n",
    "year_end = 1970\n",
    "\n",
    "# [height, weight, year_start, year_end, bmi] is the required format\n",
    "tmp_input = np.array([[height, weight, year_start, year_end, (weight / (height/100)**2)]])"
   ]
  },
  {
   "cell_type": "code",
   "execution_count": 574,
   "metadata": {},
   "outputs": [
    {
     "name": "stderr",
     "output_type": "stream",
     "text": [
      "/Users/danielliu/anaconda3/lib/python3.11/site-packages/sklearn/base.py:464: UserWarning: X does not have valid feature names, but StandardScaler was fitted with feature names\n",
      "  warnings.warn(\n"
     ]
    },
    {
     "data": {
      "text/plain": [
       "array([[0., 1., 0.]])"
      ]
     },
     "execution_count": 574,
     "metadata": {},
     "output_type": "execute_result"
    }
   ],
   "source": [
    "model.predict(tmp_input)"
   ]
  },
  {
   "cell_type": "code",
   "execution_count": 566,
   "metadata": {},
   "outputs": [
    {
     "name": "stderr",
     "output_type": "stream",
     "text": [
      "/Users/danielliu/anaconda3/lib/python3.11/site-packages/sklearn/base.py:464: UserWarning: X does not have valid feature names, but StandardScaler was fitted with feature names\n",
      "  warnings.warn(\n"
     ]
    },
    {
     "data": {
      "text/plain": [
       "array([['C']], dtype=object)"
      ]
     },
     "execution_count": 566,
     "metadata": {},
     "output_type": "execute_result"
    }
   ],
   "source": [
    "ohe.inverse_transform(model.predict(tmp_input))"
   ]
  },
  {
   "cell_type": "code",
   "execution_count": 602,
   "metadata": {},
   "outputs": [],
   "source": [
    "height = 190\n",
    "weight = 102\n",
    "year_start = 2000\n",
    "year_end = 2001\n",
    "tmp_input = np.array([[height, weight, year_start, year_end, (weight / (height/100)**2)]])"
   ]
  },
  {
   "cell_type": "code",
   "execution_count": 603,
   "metadata": {},
   "outputs": [
    {
     "name": "stderr",
     "output_type": "stream",
     "text": [
      "/Users/danielliu/anaconda3/lib/python3.11/site-packages/sklearn/base.py:464: UserWarning: X does not have valid feature names, but StandardScaler was fitted with feature names\n",
      "  warnings.warn(\n"
     ]
    },
    {
     "data": {
      "text/plain": [
       "array([[0., 0., 1.]])"
      ]
     },
     "execution_count": 603,
     "metadata": {},
     "output_type": "execute_result"
    }
   ],
   "source": [
    "model.predict(tmp_input)"
   ]
  },
  {
   "cell_type": "code",
   "execution_count": 604,
   "metadata": {},
   "outputs": [
    {
     "name": "stderr",
     "output_type": "stream",
     "text": [
      "/Users/danielliu/anaconda3/lib/python3.11/site-packages/sklearn/base.py:464: UserWarning: X does not have valid feature names, but StandardScaler was fitted with feature names\n",
      "  warnings.warn(\n"
     ]
    },
    {
     "data": {
      "text/plain": [
       "'G'"
      ]
     },
     "execution_count": 604,
     "metadata": {},
     "output_type": "execute_result"
    }
   ],
   "source": [
    "ohe.inverse_transform(model.predict(tmp_input))[0][0]"
   ]
  },
  {
   "cell_type": "markdown",
   "metadata": {},
   "source": [
    "**Note:** The above shows the importance of having a model that predicts with year_start and year_end. You'd be considered a center during your playing time if you were between 1950-1970 but now, it's Forward!!! Perhaps try to show some chart for this."
   ]
  },
  {
   "cell_type": "markdown",
   "metadata": {},
   "source": []
  }
 ],
 "metadata": {
  "kernelspec": {
   "display_name": "base",
   "language": "python",
   "name": "python3"
  },
  "language_info": {
   "codemirror_mode": {
    "name": "ipython",
    "version": 3
   },
   "file_extension": ".py",
   "mimetype": "text/x-python",
   "name": "python",
   "nbconvert_exporter": "python",
   "pygments_lexer": "ipython3",
   "version": "3.11.4"
  }
 },
 "nbformat": 4,
 "nbformat_minor": 2
}
